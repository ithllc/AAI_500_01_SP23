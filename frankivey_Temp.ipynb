{
  "cells": [
    {
      "cell_type": "markdown",
      "id": "4c03f0e0",
      "metadata": {
        "id": "4c03f0e0"
      },
      "source": [
        "The goal of this project is to analyze a dataset to determine if there exists a connection between driving conditions and an electric vehicle’s battery temperature. The expected model contains two inputs: the ambient temperature and the trip distance, and the output is the battery temperature. The statistical method that will be considered for this analysis is linear regression and sampling will be applied to verify the conclusions drawn from the dataset"
      ]
    },
    {
      "cell_type": "code",
      "execution_count": 1,
      "id": "96da3938",
      "metadata": {
        "id": "96da3938"
      },
      "outputs": [],
      "source": [
        "# Import necessary libraries = common libraries include pandas, numpy, matplotlib, sklearn\n",
        "import numpy as np\n",
        "import pandas as pd\n",
        "import matplotlib.pyplot as plt\n",
        "import seaborn as sns\n",
        "import scipy.stats\n",
        "import math\n",
        "import statistics as stats\n",
        "import statsmodels.stats.api as sms\n",
        "%matplotlib inline"
      ]
    },
    {
      "cell_type": "markdown",
      "id": "c2c99803",
      "metadata": {
        "id": "c2c99803"
      },
      "source": [
        "## **Data Cleaning and Preparation:**\n",
        "1. import the data into a dataframe\n",
        "2. review the data\n",
        "3. determine the data set to only use for the model to be built on\n",
        "4. use only the data asked in the question\n",
        "5. confirm each column has all the data per column\n",
        "6. if not all data in the column, make sample the data so that value count equal the other columns"
      ]
    },
    {
      "cell_type": "code",
      "execution_count": 2,
      "id": "ef8ccbe1",
      "metadata": {
        "id": "ef8ccbe1",
        "outputId": "650652b3-0bd6-4972-ea88-d86bad2ab366",
        "colab": {
          "base_uri": "https://localhost:8080/",
          "height": 328
        }
      },
      "outputs": [
        {
          "output_type": "error",
          "ename": "FileNotFoundError",
          "evalue": "ignored",
          "traceback": [
            "\u001b[0;31m---------------------------------------------------------------------------\u001b[0m",
            "\u001b[0;31mFileNotFoundError\u001b[0m                         Traceback (most recent call last)",
            "\u001b[0;32m<ipython-input-2-31109ba6ba42>\u001b[0m in \u001b[0;36m<module>\u001b[0;34m\u001b[0m\n\u001b[1;32m      1\u001b[0m \u001b[0;31m#import data\u001b[0m\u001b[0;34m\u001b[0m\u001b[0;34m\u001b[0m\u001b[0;34m\u001b[0m\u001b[0m\n\u001b[0;32m----> 2\u001b[0;31m \u001b[0mevbattemp\u001b[0m \u001b[0;34m=\u001b[0m \u001b[0mpd\u001b[0m\u001b[0;34m.\u001b[0m\u001b[0mread_excel\u001b[0m\u001b[0;34m(\u001b[0m\u001b[0;34m'EvBatTemps.xlsx'\u001b[0m\u001b[0;34m)\u001b[0m\u001b[0;34m\u001b[0m\u001b[0;34m\u001b[0m\u001b[0m\n\u001b[0m",
            "\u001b[0;32m/usr/local/lib/python3.8/dist-packages/pandas/util/_decorators.py\u001b[0m in \u001b[0;36mwrapper\u001b[0;34m(*args, **kwargs)\u001b[0m\n\u001b[1;32m    309\u001b[0m                     \u001b[0mstacklevel\u001b[0m\u001b[0;34m=\u001b[0m\u001b[0mstacklevel\u001b[0m\u001b[0;34m,\u001b[0m\u001b[0;34m\u001b[0m\u001b[0;34m\u001b[0m\u001b[0m\n\u001b[1;32m    310\u001b[0m                 )\n\u001b[0;32m--> 311\u001b[0;31m             \u001b[0;32mreturn\u001b[0m \u001b[0mfunc\u001b[0m\u001b[0;34m(\u001b[0m\u001b[0;34m*\u001b[0m\u001b[0margs\u001b[0m\u001b[0;34m,\u001b[0m \u001b[0;34m**\u001b[0m\u001b[0mkwargs\u001b[0m\u001b[0;34m)\u001b[0m\u001b[0;34m\u001b[0m\u001b[0;34m\u001b[0m\u001b[0m\n\u001b[0m\u001b[1;32m    312\u001b[0m \u001b[0;34m\u001b[0m\u001b[0m\n\u001b[1;32m    313\u001b[0m         \u001b[0;32mreturn\u001b[0m \u001b[0mwrapper\u001b[0m\u001b[0;34m\u001b[0m\u001b[0;34m\u001b[0m\u001b[0m\n",
            "\u001b[0;32m/usr/local/lib/python3.8/dist-packages/pandas/io/excel/_base.py\u001b[0m in \u001b[0;36mread_excel\u001b[0;34m(io, sheet_name, header, names, index_col, usecols, squeeze, dtype, engine, converters, true_values, false_values, skiprows, nrows, na_values, keep_default_na, na_filter, verbose, parse_dates, date_parser, thousands, comment, skipfooter, convert_float, mangle_dupe_cols, storage_options)\u001b[0m\n\u001b[1;32m    362\u001b[0m     \u001b[0;32mif\u001b[0m \u001b[0;32mnot\u001b[0m \u001b[0misinstance\u001b[0m\u001b[0;34m(\u001b[0m\u001b[0mio\u001b[0m\u001b[0;34m,\u001b[0m \u001b[0mExcelFile\u001b[0m\u001b[0;34m)\u001b[0m\u001b[0;34m:\u001b[0m\u001b[0;34m\u001b[0m\u001b[0;34m\u001b[0m\u001b[0m\n\u001b[1;32m    363\u001b[0m         \u001b[0mshould_close\u001b[0m \u001b[0;34m=\u001b[0m \u001b[0;32mTrue\u001b[0m\u001b[0;34m\u001b[0m\u001b[0;34m\u001b[0m\u001b[0m\n\u001b[0;32m--> 364\u001b[0;31m         \u001b[0mio\u001b[0m \u001b[0;34m=\u001b[0m \u001b[0mExcelFile\u001b[0m\u001b[0;34m(\u001b[0m\u001b[0mio\u001b[0m\u001b[0;34m,\u001b[0m \u001b[0mstorage_options\u001b[0m\u001b[0;34m=\u001b[0m\u001b[0mstorage_options\u001b[0m\u001b[0;34m,\u001b[0m \u001b[0mengine\u001b[0m\u001b[0;34m=\u001b[0m\u001b[0mengine\u001b[0m\u001b[0;34m)\u001b[0m\u001b[0;34m\u001b[0m\u001b[0;34m\u001b[0m\u001b[0m\n\u001b[0m\u001b[1;32m    365\u001b[0m     \u001b[0;32melif\u001b[0m \u001b[0mengine\u001b[0m \u001b[0;32mand\u001b[0m \u001b[0mengine\u001b[0m \u001b[0;34m!=\u001b[0m \u001b[0mio\u001b[0m\u001b[0;34m.\u001b[0m\u001b[0mengine\u001b[0m\u001b[0;34m:\u001b[0m\u001b[0;34m\u001b[0m\u001b[0;34m\u001b[0m\u001b[0m\n\u001b[1;32m    366\u001b[0m         raise ValueError(\n",
            "\u001b[0;32m/usr/local/lib/python3.8/dist-packages/pandas/io/excel/_base.py\u001b[0m in \u001b[0;36m__init__\u001b[0;34m(self, path_or_buffer, engine, storage_options)\u001b[0m\n\u001b[1;32m   1189\u001b[0m                 \u001b[0mext\u001b[0m \u001b[0;34m=\u001b[0m \u001b[0;34m\"xls\"\u001b[0m\u001b[0;34m\u001b[0m\u001b[0;34m\u001b[0m\u001b[0m\n\u001b[1;32m   1190\u001b[0m             \u001b[0;32melse\u001b[0m\u001b[0;34m:\u001b[0m\u001b[0;34m\u001b[0m\u001b[0;34m\u001b[0m\u001b[0m\n\u001b[0;32m-> 1191\u001b[0;31m                 ext = inspect_excel_format(\n\u001b[0m\u001b[1;32m   1192\u001b[0m                     \u001b[0mcontent_or_path\u001b[0m\u001b[0;34m=\u001b[0m\u001b[0mpath_or_buffer\u001b[0m\u001b[0;34m,\u001b[0m \u001b[0mstorage_options\u001b[0m\u001b[0;34m=\u001b[0m\u001b[0mstorage_options\u001b[0m\u001b[0;34m\u001b[0m\u001b[0;34m\u001b[0m\u001b[0m\n\u001b[1;32m   1193\u001b[0m                 )\n",
            "\u001b[0;32m/usr/local/lib/python3.8/dist-packages/pandas/io/excel/_base.py\u001b[0m in \u001b[0;36minspect_excel_format\u001b[0;34m(content_or_path, storage_options)\u001b[0m\n\u001b[1;32m   1068\u001b[0m         \u001b[0mcontent_or_path\u001b[0m \u001b[0;34m=\u001b[0m \u001b[0mBytesIO\u001b[0m\u001b[0;34m(\u001b[0m\u001b[0mcontent_or_path\u001b[0m\u001b[0;34m)\u001b[0m\u001b[0;34m\u001b[0m\u001b[0;34m\u001b[0m\u001b[0m\n\u001b[1;32m   1069\u001b[0m \u001b[0;34m\u001b[0m\u001b[0m\n\u001b[0;32m-> 1070\u001b[0;31m     with get_handle(\n\u001b[0m\u001b[1;32m   1071\u001b[0m         \u001b[0mcontent_or_path\u001b[0m\u001b[0;34m,\u001b[0m \u001b[0;34m\"rb\"\u001b[0m\u001b[0;34m,\u001b[0m \u001b[0mstorage_options\u001b[0m\u001b[0;34m=\u001b[0m\u001b[0mstorage_options\u001b[0m\u001b[0;34m,\u001b[0m \u001b[0mis_text\u001b[0m\u001b[0;34m=\u001b[0m\u001b[0;32mFalse\u001b[0m\u001b[0;34m\u001b[0m\u001b[0;34m\u001b[0m\u001b[0m\n\u001b[1;32m   1072\u001b[0m     ) as handle:\n",
            "\u001b[0;32m/usr/local/lib/python3.8/dist-packages/pandas/io/common.py\u001b[0m in \u001b[0;36mget_handle\u001b[0;34m(path_or_buf, mode, encoding, compression, memory_map, is_text, errors, storage_options)\u001b[0m\n\u001b[1;32m    709\u001b[0m         \u001b[0;32melse\u001b[0m\u001b[0;34m:\u001b[0m\u001b[0;34m\u001b[0m\u001b[0;34m\u001b[0m\u001b[0m\n\u001b[1;32m    710\u001b[0m             \u001b[0;31m# Binary mode\u001b[0m\u001b[0;34m\u001b[0m\u001b[0;34m\u001b[0m\u001b[0;34m\u001b[0m\u001b[0m\n\u001b[0;32m--> 711\u001b[0;31m             \u001b[0mhandle\u001b[0m \u001b[0;34m=\u001b[0m \u001b[0mopen\u001b[0m\u001b[0;34m(\u001b[0m\u001b[0mhandle\u001b[0m\u001b[0;34m,\u001b[0m \u001b[0mioargs\u001b[0m\u001b[0;34m.\u001b[0m\u001b[0mmode\u001b[0m\u001b[0;34m)\u001b[0m\u001b[0;34m\u001b[0m\u001b[0;34m\u001b[0m\u001b[0m\n\u001b[0m\u001b[1;32m    712\u001b[0m         \u001b[0mhandles\u001b[0m\u001b[0;34m.\u001b[0m\u001b[0mappend\u001b[0m\u001b[0;34m(\u001b[0m\u001b[0mhandle\u001b[0m\u001b[0;34m)\u001b[0m\u001b[0;34m\u001b[0m\u001b[0;34m\u001b[0m\u001b[0m\n\u001b[1;32m    713\u001b[0m \u001b[0;34m\u001b[0m\u001b[0m\n",
            "\u001b[0;31mFileNotFoundError\u001b[0m: [Errno 2] No such file or directory: 'EvBatTemps.xlsx'"
          ]
        }
      ],
      "source": [
        "#import data\n",
        "evbattemp = pd.read_excel('EvBatTemps.xlsx')"
      ]
    },
    {
      "cell_type": "code",
      "execution_count": null,
      "id": "5723a153",
      "metadata": {
        "id": "5723a153"
      },
      "outputs": [],
      "source": [
        "#review the data\n",
        "# view the first 5 records of each column\n",
        "evbattemp.head()"
      ]
    },
    {
      "cell_type": "code",
      "execution_count": null,
      "id": "7f65fffe",
      "metadata": {
        "id": "7f65fffe"
      },
      "outputs": [],
      "source": [
        "#review the data\n",
        "# confirm the data info\n",
        "evbattemp.info()"
      ]
    },
    {
      "cell_type": "markdown",
      "id": "89cba2ab",
      "metadata": {
        "id": "89cba2ab"
      },
      "source": [
        "- There are **72 observations** and **16 columns** in the data\n",
        "- Some of the columns are of **numeric data type** while others are of **object data type**\n",
        "- Though there are **72 observations** only 72 of them show up and non-null, confirm 2 rows are null and remove them\n",
        "- For columns \"\" and \"\" the data is categorical, convert the column to category data type\n",
        "- For columns \"\" and \"\", after converting to category, convert the category into codes for better analysis\n",
        "- The column \"Unnamed: 13\" has no values in it\n",
        "- The column \"Note\" has only 26 observations out of the average total of 72 observations compared to the rest of the columns\n",
        "- The column \"Fan\" has the same redundent data so it can be dropped\n",
        "- Columns \"Trip\", \"Date\", \"Unnamed: 13\", \"Fan\" and \"Note\" can be dropped because they have nothing to do with the question asked"
      ]
    },
    {
      "cell_type": "code",
      "execution_count": null,
      "id": "877fe1d3",
      "metadata": {
        "id": "877fe1d3"
      },
      "outputs": [],
      "source": [
        "# drop the 2 columns: 'Note', 'Unnamed: 13'\n",
        "evbattemp = evbattemp.drop(['Trip','Date','Note', 'Unnamed: 13', 'Fan'], axis=1)"
      ]
    },
    {
      "cell_type": "code",
      "execution_count": null,
      "id": "6d6a3be2",
      "metadata": {
        "id": "6d6a3be2"
      },
      "outputs": [],
      "source": [
        "# confirm null rows exists\n",
        "evbattemp_null_only = evbattemp[evbattemp.isna().any(axis=1)]\n",
        "evbattemp_null_only"
      ]
    },
    {
      "cell_type": "code",
      "execution_count": null,
      "id": "8baef3be",
      "metadata": {
        "id": "8baef3be"
      },
      "outputs": [],
      "source": [
        "#drop null rows\n",
        "evbattemp = evbattemp.dropna(how='any',axis=0)"
      ]
    },
    {
      "cell_type": "code",
      "execution_count": null,
      "id": "33ab2de7",
      "metadata": {
        "id": "33ab2de7"
      },
      "outputs": [],
      "source": [
        "# confirm null rows were removed\n",
        "evbattemp.info()"
      ]
    },
    {
      "cell_type": "code",
      "execution_count": null,
      "id": "9fb25245",
      "metadata": {
        "id": "9fb25245"
      },
      "outputs": [],
      "source": [
        "# rename column 'Unnamed: 8'\n",
        "evbattemp.rename(columns={'Unnamed: 8':'Change_In_Battery_State_of_Charge'}, inplace=True)"
      ]
    },
    {
      "cell_type": "code",
      "execution_count": null,
      "id": "1d5ec631",
      "metadata": {
        "id": "1d5ec631"
      },
      "outputs": [],
      "source": [
        "# rename columns with non-alpanumeric and replace spaces with underscores for easier usability\n",
        "evbattemp.rename(columns={'Route/Area':'Route_Area'}, inplace=True)\n",
        "evbattemp.rename(columns={'Weather':'Weather'}, inplace=True)\n",
        "evbattemp.rename(columns={'Battery Temperature (Start) [°C]':'Battery_Temperature_Start_Celsius'}, inplace=True)\n",
        "evbattemp.rename(columns={'Battery Temperature (End)':'Battery_Temperature_End'}, inplace=True)\n",
        "evbattemp.rename(columns={'Battery State of Charge (Start)':'Battery_State_of_Charge_Start'}, inplace=True)\n",
        "evbattemp.rename(columns={'Battery State of Charge (End)':'Battery_State_of_Charge_End'}, inplace=True)\n",
        "evbattemp.rename(columns={'Ambient Temperature (Start) [°C]':'Ambient_Temperature_Start_Celsius'}, inplace=True)\n",
        "evbattemp.rename(columns={'Target Cabin Temperature':'Target_Cabin_Temperature'}, inplace=True)\n",
        "evbattemp.rename(columns={'Distance [km]':'Distance_km'}, inplace=True)\n",
        "evbattemp.rename(columns={'Duration [min]':'Duration_min'}, inplace=True)"
      ]
    },
    {
      "cell_type": "code",
      "execution_count": null,
      "id": "221d001a",
      "metadata": {
        "id": "221d001a"
      },
      "outputs": [],
      "source": [
        "# remove column with 'Change In Battery State of Charge'\n",
        "# should always be positive\n",
        "# if negative remove because it shows that the battery charge in between the trip time \n",
        "#  and that is outside the scope of the analysis\n",
        "\n",
        "evbattemp.drop(evbattemp[evbattemp['Change_In_Battery_State_of_Charge'] < 0].index, inplace=True)"
      ]
    },
    {
      "cell_type": "code",
      "execution_count": null,
      "id": "5863ab32",
      "metadata": {
        "id": "5863ab32"
      },
      "outputs": [],
      "source": [
        "# Confirm the record was removed and column names were changed\n",
        "evbattemp.info()"
      ]
    },
    {
      "cell_type": "code",
      "execution_count": null,
      "id": "b7c471da",
      "metadata": {
        "id": "b7c471da"
      },
      "outputs": [],
      "source": [
        "# confirm no null rows exists\n",
        "evbattemp_null_only1 = evbattemp[evbattemp.isna().any(axis=1)]\n",
        "evbattemp_null_only1"
      ]
    },
    {
      "cell_type": "code",
      "execution_count": null,
      "id": "6bd6beb9",
      "metadata": {
        "id": "6bd6beb9"
      },
      "outputs": [],
      "source": [
        "# change data types of category columns\n",
        "evbattemp['Route_Area'] = evbattemp['Route_Area'].astype('category')\n",
        "evbattemp['Weather'] = evbattemp['Weather'].astype('category')"
      ]
    },
    {
      "cell_type": "code",
      "execution_count": null,
      "id": "64953f41",
      "metadata": {
        "id": "64953f41"
      },
      "outputs": [],
      "source": [
        "# confirm the date type change for the category columns\n",
        "evbattemp.info()"
      ]
    },
    {
      "cell_type": "code",
      "execution_count": null,
      "id": "65fe1d61",
      "metadata": {
        "id": "65fe1d61"
      },
      "outputs": [],
      "source": [
        "# convert the category date type columns to ordinal values\n",
        "# first create temp data set to handle the conversion\n",
        "evbattemp_cat_columns = evbattemp.select_dtypes(['category']).columns"
      ]
    },
    {
      "cell_type": "code",
      "execution_count": null,
      "id": "cba8718b",
      "metadata": {
        "id": "cba8718b"
      },
      "outputs": [],
      "source": [
        "# convert the category date type columns to ordinal values\n",
        "# second perform the category data type conversion\n",
        "evbattemp[evbattemp_cat_columns] = evbattemp[evbattemp_cat_columns].apply(lambda x: x.cat.codes)"
      ]
    },
    {
      "cell_type": "code",
      "execution_count": null,
      "id": "66ec7ffe",
      "metadata": {
        "id": "66ec7ffe"
      },
      "outputs": [],
      "source": [
        "# convert the category date type columns to ordinal values\n",
        "# confirm the conversion was successfull\n",
        "evbattemp.head()"
      ]
    },
    {
      "cell_type": "code",
      "execution_count": null,
      "id": "0226f912",
      "metadata": {
        "id": "0226f912"
      },
      "outputs": [],
      "source": [
        "# confirm the date type change for the category columns\n",
        "evbattemp.info()"
      ]
    },
    {
      "cell_type": "code",
      "execution_count": null,
      "id": "22349fdc",
      "metadata": {
        "id": "22349fdc"
      },
      "outputs": [],
      "source": [
        "# convert category columns to float to match the continous data just like the columns for better analysis\n",
        "# change data types of category columns\n",
        "evbattemp['Route_Area'] = evbattemp['Route_Area'].astype('float64')\n",
        "evbattemp['Weather'] = evbattemp['Weather'].astype('float64')"
      ]
    },
    {
      "cell_type": "code",
      "execution_count": null,
      "id": "849a3e25",
      "metadata": {
        "id": "849a3e25"
      },
      "outputs": [],
      "source": [
        "# confirm the date type change for the category columns\n",
        "evbattemp.info()"
      ]
    },
    {
      "cell_type": "markdown",
      "id": "c413288d",
      "metadata": {
        "id": "c413288d"
      },
      "source": [
        "## **Exploratory Data Analysis:**\n",
        "\n"
      ]
    },
    {
      "cell_type": "markdown",
      "source": [
        "The features in the dataset represent real world variables. Alone, the battery temperature does not provide much information, instead it is important to analyze the rate at which the battery is heating up. To determine this the following calculation is completed:  \n",
        "  \n",
        "$$Battery Rate of Heating=\\frac{BatteryTemperatureStart - BatteryTemperatureEnd}{duration}$$  \n",
        "  \n",
        "Similarly, the battery state of charge is more informative when expressed as a rate of change:  \n",
        "  \n",
        "$$Battery SOC Rate=\\frac{ChangeInBatteryStateofCharge}{duration}$$  "
      ],
      "metadata": {
        "id": "9-Q3qhsKI7x9"
      },
      "id": "9-Q3qhsKI7x9"
    },
    {
      "cell_type": "markdown",
      "source": [
        "NEXT STEPS: (THIS PART CAN BE DELETED WHEN COMPLETED)  \n",
        "- complete calculations as shown above \n",
        "- add 2 new columns to dataset with the calculations \n",
        "- remove the columns from the dataset that contain redundant information (battery start temp, battery end temp, battery state of charge (SOC) end, batter SOC start, change in battery SOC, duration) "
      ],
      "metadata": {
        "id": "VR6T-bxYK0X-"
      },
      "id": "VR6T-bxYK0X-"
    },
    {
      "cell_type": "code",
      "execution_count": null,
      "id": "d7eb5b93",
      "metadata": {
        "id": "d7eb5b93"
      },
      "outputs": [],
      "source": [
        "# Checking unique values in each column\n",
        "evbattemp.nunique()"
      ]
    },
    {
      "cell_type": "markdown",
      "id": "a4e5816f",
      "metadata": {
        "id": "a4e5816f"
      },
      "source": [
        "### **Univariate analysis of numerical columns**"
      ]
    },
    {
      "cell_type": "code",
      "execution_count": null,
      "id": "2793605b",
      "metadata": {
        "id": "2793605b"
      },
      "outputs": [],
      "source": [
        "# Checking summary statistics\n",
        "evbattemp.describe().T"
      ]
    },
    {
      "cell_type": "markdown",
      "id": "8cb6afdb",
      "metadata": {
        "id": "8cb6afdb"
      },
      "source": [
        "**Observations:**\n",
        "\n",
        "- Each column has a count of 69 values\n",
        "- Columns \"Route_Area\" and \"Weather\" have the least unique values, we can categorize them as ordinal values\n",
        "- Columns \"Distance_km\" and \"Duration_min\" have unique values for all 69 values, these are ratio values\n",
        "- Columns with continous data values \"Battery_State_of_Charge_Start\", \"Battery_State_of_Charge_End\", \"Change_In_Battery_State_of_Charge\",\"Distance_km\", \"Duration_min\", \"Ambient_Temperature_Start_Celsius\"\n",
        "- The average distance traveled is 19.4 kilometers\n",
        "- The average duration of travel is 25.72 minutes\n",
        "- All other columns are categorized as interval values"
      ]
    },
    {
      "cell_type": "code",
      "execution_count": null,
      "id": "46330cbe",
      "metadata": {
        "id": "46330cbe"
      },
      "outputs": [],
      "source": [
        "# Creating ratio columns\n",
        "# all numbers are meaningful, including zeros and the difference matters\n",
        "ratio_cols=['Distance_km','Duration_min']\n",
        "\n",
        "# Creating interval columns\n",
        "# zero values are arbitrary but the difference matters\n",
        "interval_cols= ['Battery_Temperature_Start_Celsius','Battery_Temperature_End','Battery_State_of_Charge_Start', \n",
        "                'Battery_State_of_Charge_End','Change_In_Battery_State_of_Charge', 'Ambient_Temperature_Start_Celsius',\n",
        "                'Target_Cabin_Temperature']\n",
        "\n",
        "# Creating ordinal columns\n",
        "# Columns used to help describe the other data\n",
        "ordinal_cols= ['Route_Area','Weather']"
      ]
    },
    {
      "cell_type": "markdown",
      "id": "44cf579f",
      "metadata": {
        "id": "44cf579f"
      },
      "source": [
        "**Let's explore these variables in some more depth by observing their distributions**"
      ]
    },
    {
      "cell_type": "code",
      "execution_count": null,
      "id": "af1c75c2",
      "metadata": {
        "id": "af1c75c2"
      },
      "outputs": [],
      "source": [
        "# Creating histograms\n",
        "evbattemp.hist(figsize=(14,14))\n",
        "plt.show()"
      ]
    },
    {
      "cell_type": "markdown",
      "id": "921bae52",
      "metadata": {
        "id": "921bae52"
      },
      "source": [
        "**Observations:**\n",
        "\n",
        "- **Route_Area** 4 and 5 have the most values that are associated in the data set.\n",
        "\n",
        "- **Weather** 4 and 5 have the most values that are associated in the data set.\n",
        "\n",
        "- **Battery_Temperature_Start_Celsius** has a bimodal distribution.\n",
        "\n",
        "- **Battery_Temperature_End** has a uniform distribution.\n",
        "\n",
        "- **Battery_State_of_Charge_Start** is leftly skewed.\n",
        "\n",
        "- **Battery_State_of_Charge_End** is also leftly skewed and shows that not much energy from the battery is being drained during travel. \n",
        "\n",
        "- **Change_In_Battery_State_of_Charge** is rightly skewed and with a small standard deviation, this confirms not much energy from battery is being used during travel.\n",
        "\n",
        "- **Ambient_Temperature_Start_Celsius** has a bimodal distribution.\n",
        "\n",
        "- **Target_Cabin_Temperature** is leftly skewed. \n",
        "\n",
        "- **Distance_km** has normal distribution and most distance travel is 20KM or less.\n",
        "\n",
        "- **Duration_min** is leftly skewed with most duration of travel less than 40 minutes."
      ]
    },
    {
      "cell_type": "markdown",
      "id": "c593cd93",
      "metadata": {
        "id": "c593cd93"
      },
      "source": [
        "### **Univariate analysis for categorical variables**"
      ]
    },
    {
      "cell_type": "code",
      "execution_count": null,
      "id": "2a6a3598",
      "metadata": {
        "id": "2a6a3598"
      },
      "outputs": [],
      "source": [
        "# Printing the % sub categories of each category\n",
        "for i in ordinal_cols:\n",
        "    print(evbattemp[i].value_counts(normalize=True))\n",
        "    print('*'*40)"
      ]
    },
    {
      "cell_type": "markdown",
      "id": "f6234ca0",
      "metadata": {
        "id": "f6234ca0"
      },
      "source": [
        "### **Bivariate and Multivariate analysis**\n",
        "We have analyzed different categorical variables. Let's now check how does Battery_Temperature_End rate is related with the 2 categorical variables."
      ]
    },
    {
      "cell_type": "code",
      "execution_count": null,
      "id": "a10f967a",
      "metadata": {
        "id": "a10f967a"
      },
      "outputs": [],
      "source": [
        "ordinal_cols_with_end_bat_temp = ['Route_Area','Weather','Battery_Temperature_End']\n",
        "for i in ordinal_cols_with_end_bat_temp:\n",
        "    if i!='Battery_Temperature_End':\n",
        "        (pd.crosstab(evbattemp[i],evbattemp['Battery_Temperature_End'],normalize='index')*100).plot(kind='bar',figsize=(8,4),stacked=True)\n",
        "        plt.ylabel('Percentage Attrition %')"
      ]
    },
    {
      "cell_type": "markdown",
      "id": "9c580302",
      "metadata": {
        "id": "9c580302"
      },
      "source": [
        "### **Let's check the relationship between different numerical variables**"
      ]
    },
    {
      "cell_type": "code",
      "execution_count": null,
      "id": "435311cc",
      "metadata": {
        "id": "435311cc"
      },
      "outputs": [],
      "source": [
        "# Plotting the correlation between numerical variables\n",
        "plt.figure(figsize=(15,8))\n",
        "sns.heatmap(evbattemp.corr(),annot=True, fmt='0.2f', cmap='YlGnBu')"
      ]
    },
    {
      "cell_type": "markdown",
      "id": "b72dfb07",
      "metadata": {
        "id": "b72dfb07"
      },
      "source": [
        "**Observations:**\n",
        "\n",
        "- The listed columns have the strongest relationship to column \"Battery_Temperature_End\" in the following order: **Battery_Temperature_Start_Celsius, Ambient_Temperature_Start_Celsius, Target_Cabin_Temperature, Battery_State_of_Charge_End, Battery_State_of_Charge_Start, Weather** which is easy to understand as these variables show an increase with \"Battery_Temperature_Start_Celsius\" showing the closest relationship to \"Battery_Temperature_End\". \n",
        "- Columns \"Route_Area\" and \"Distance_km\" have the lowest correllation with \"Battery_Temperature_End\".\n",
        "- The question relates about distance but we need to remove it as there is no relationship.\n",
        "- Since column \"Battery_Temperature_Start_Celsius\" is so strongly related, we may need to actually combine the values of \"Battery_Temperature_Start_Celsius\" and \"Battery_Temperature_End\" and get the average between the 2 values and perform the Exploratory Data Analysis again before trying to determine which values are closely related to allow for model selection.\n",
        "- Also combine columns \"Battery_State_of_Charge_Start\" and \"Battery_State_of_Charge_End\" and use their average as well. because we can see that column \"Change_In_Battery_State_of_Charge\" has no correllation to \"Battery_Temperature_End.\""
      ]
    },
    {
      "cell_type": "markdown",
      "id": "d3d8fc07",
      "metadata": {
        "id": "d3d8fc07"
      },
      "source": [
        "### **Due to findings in the analysis from the Heat Map, Combine both \"Battery Temp\" Columns and use the Average as well as Combine \"Battery Charge\" and use the average with them as well**"
      ]
    },
    {
      "cell_type": "code",
      "execution_count": null,
      "id": "d1276d9a",
      "metadata": {
        "id": "d1276d9a"
      },
      "outputs": [],
      "source": [
        "# make a copy of the original data set\n",
        "evbattemp_old = evbattemp"
      ]
    },
    {
      "cell_type": "code",
      "execution_count": null,
      "id": "920886bc",
      "metadata": {
        "id": "920886bc"
      },
      "outputs": [],
      "source": [
        "# add the column to combine the values for battery temp. (start and end)\n",
        "evbattemp['Avg_Battery_Temperature_Combined_Celsius'] = (evbattemp['Battery_Temperature_Start_Celsius'] + evbattemp['Battery_Temperature_End'])/2"
      ]
    },
    {
      "cell_type": "code",
      "execution_count": null,
      "id": "79fec045",
      "metadata": {
        "id": "79fec045"
      },
      "outputs": [],
      "source": [
        "# drop the columns \"Battery_Temperature_Start_Celsius\" and \"Battery_Temperature_End\"\n",
        "evbattemp = evbattemp.drop(['Battery_Temperature_Start_Celsius','Battery_Temperature_End'], axis=1)"
      ]
    },
    {
      "cell_type": "code",
      "execution_count": null,
      "id": "6a06ccd6",
      "metadata": {
        "id": "6a06ccd6"
      },
      "outputs": [],
      "source": [
        "# add the column to combine the values for battery charge. (start and end)\n",
        "evbattemp['Avg_Battery_State_of_Charge_Combined'] = (evbattemp['Battery_State_of_Charge_Start'] + evbattemp['Battery_State_of_Charge_End'])/2"
      ]
    },
    {
      "cell_type": "code",
      "execution_count": null,
      "id": "817cdac2",
      "metadata": {
        "id": "817cdac2"
      },
      "outputs": [],
      "source": [
        "# drop the columns \"'Battery_State_of_Charge_Start\" and \"Battery_Temperature_End\"\n",
        "evbattemp = evbattemp.drop(['Battery_State_of_Charge_Start','Battery_State_of_Charge_End'], axis=1)"
      ]
    },
    {
      "cell_type": "code",
      "execution_count": null,
      "id": "0aaf5b38",
      "metadata": {
        "id": "0aaf5b38"
      },
      "outputs": [],
      "source": [
        "# review the data set with the \"avg battery temp\" added\n",
        "evbattemp.head()"
      ]
    },
    {
      "cell_type": "markdown",
      "id": "8dc11ef8",
      "metadata": {
        "id": "8dc11ef8"
      },
      "source": [
        "### **Check the relationship between different numerical variables again after changes made**"
      ]
    },
    {
      "cell_type": "code",
      "execution_count": null,
      "id": "a4f2399e",
      "metadata": {
        "id": "a4f2399e"
      },
      "outputs": [],
      "source": [
        "# Plotting the correlation between numerical variables\n",
        "plt.figure(figsize=(15,8))\n",
        "sns.heatmap(evbattemp.corr(),annot=True, fmt='0.2f', cmap='YlGnBu')"
      ]
    },
    {
      "cell_type": "markdown",
      "id": "991b69c2",
      "metadata": {
        "id": "991b69c2"
      },
      "source": [
        "**Observations:**\n",
        "\n",
        "- The listed columns have the strongest relationship to column \"Avg_Battery_Temperature_Combined_Celsius\" in the following order: **Ambient_Temperature_Start_Celsius, Target_Cabin_Temperature, Avg_Battery_State_of_Charge_Combined, and Weather** which is easy to understand as these variables show an increase with \"Ambient_Temperature_Start_Celsius\" showing the closest relationship to \"Avg_Battery_Temperature_Combined_Celsius\".\n",
        "- These 4 columns have been consistent with strongest correllation on \"Battery Temperature\" so we will use these for variables in model selection.\n",
        "- Columns \"Distance_km\" and \"Duration_min\" still some of the weakest correllations to \"Avg_Battery_Temperature_Combined_Celsius\""
      ]
    },
    {
      "cell_type": "code",
      "execution_count": null,
      "id": "dfaf113c",
      "metadata": {
        "id": "dfaf113c"
      },
      "outputs": [],
      "source": [
        "# Creating a new column with the transformed variable.\n",
        "# will be used in the model selection stage\n",
        "evbattemp['Avg_Battery_Temperature_Combined_Celsius_log'] = np.log(evbattemp['Avg_Battery_Temperature_Combined_Celsius'])"
      ]
    },
    {
      "cell_type": "code",
      "execution_count": null,
      "id": "ce2659cd",
      "metadata": {
        "id": "ce2659cd"
      },
      "outputs": [],
      "source": [
        "# review the data\n",
        "evbattemp.head()"
      ]
    },
    {
      "cell_type": "markdown",
      "id": "1ab83e57",
      "metadata": {
        "id": "1ab83e57"
      },
      "source": [
        "### **Drop weak correllated columns from the data set**"
      ]
    },
    {
      "cell_type": "code",
      "execution_count": null,
      "id": "a8226064",
      "metadata": {
        "id": "a8226064"
      },
      "outputs": [],
      "source": [
        "# drop the columns \"'Route_Area','Change_In_Battery_State_of_Charge','Distance_km', 'Duration_min'\"\n",
        "# Not going to drop these columns, let the model analysis prove they are not need as per the observation\n",
        "# evbattemp = evbattemp.drop(['Route_Area','Change_In_Battery_State_of_Charge','Distance_km', 'Duration_min'], axis=1)"
      ]
    },
    {
      "cell_type": "code",
      "execution_count": null,
      "id": "96db3a08",
      "metadata": {
        "id": "96db3a08"
      },
      "outputs": [],
      "source": [
        "# review the data set after weak correllated data removed\n",
        "# Not going to drop these columns, let the model analysis prove they are not need as per the observation\n",
        "#evbattemp.head()"
      ]
    },
    {
      "cell_type": "markdown",
      "id": "07f1505a",
      "metadata": {
        "id": "07f1505a"
      },
      "source": [
        "## **Proposed approach**\n",
        "\n",
        "--------------------\n",
        "### **Potential techniques** :\n",
        "--------------------\n",
        "Since it is a regression problem we will first start with the parametric model - linear regression and Ridge Regression. \n",
        "\n",
        "-------------------\n",
        "### **Overall solution design** : \n",
        "---------------------\n",
        "The potential solution design would look like this:\n",
        "* Checking the data description to get the idea of basic statistics or summary of data.\n",
        "* Univariate analysis to see how data is spread out, getting to know about the outliers.\n",
        "* Bivariate analysis to see how different attributes vary with the dependent variable.\n",
        "* Outlier treatment if needed - In this case, outlier treatment is not necessary as outliers are the higher battery temps and in real-world scenarios, such battery temperatures would appear in data and we would want our predictive model to capture the underlying pattern for them.\n",
        "* Missing value treatment using appropriate techniques.\n",
        "* Feature engineering - transforming features, creating new features if possible.\n",
        "* Choosing the model evaluation technique - 1) R Squared 2) RMSE can be any other metrics related to regression analysis.\n",
        "* Splitting the data and proceeding with modeling.\n",
        "* Model tuning to see if the performance of the model can be improved further.\n",
        "\n",
        "-----------------\n",
        "### **Measures of success** :\n",
        "-----------------\n",
        "R-squared and RMSE can be used as a measure of success.\n",
        "\n",
        "R-squared: This will tell us how much variation our predictive model can explain in data.\n",
        "\n",
        "RMSE: This will give us a measure of how far off the model is predicting the original values on average.\n",
        "\n",
        "-------------------\n",
        "### **Model Building**\n",
        "------------------\n",
        "1. What we want to predict is the \"Avg_Battery_Temperature_Combined_Celsius\". We will use the normalized version 'Avg_Battery_Temperature_Combined_Celsius_log' for modeling.\n",
        "2. Before we proceed to the model, we'll confirm if we have to encode categorical features. We will drop categorical features like \"Weather\". We made this change in the Data Preparation stage. \n",
        "3. We'll split the data into train and test, to be able to evaluate the model that we build on the train data.\n",
        "4. Build Regression models using train data.\n",
        "5. Evaluate the model performance.\n"
      ]
    },
    {
      "cell_type": "markdown",
      "id": "210091c2",
      "metadata": {
        "id": "210091c2"
      },
      "source": [
        "#### **Define dependent and independent variables**"
      ]
    },
    {
      "cell_type": "code",
      "execution_count": null,
      "id": "d5e7d928",
      "metadata": {
        "id": "d5e7d928"
      },
      "outputs": [],
      "source": [
        "independent_evbattemp_vars = evbattemp.drop(['Avg_Battery_Temperature_Combined_Celsius', 'Avg_Battery_Temperature_Combined_Celsius_log'], axis = 1)\n",
        "dependent_evbattemp_var = evbattemp[['Avg_Battery_Temperature_Combined_Celsius_log', 'Avg_Battery_Temperature_Combined_Celsius']]"
      ]
    },
    {
      "cell_type": "markdown",
      "id": "cbcac8f9",
      "metadata": {
        "id": "cbcac8f9"
      },
      "source": [
        "#### **Split the data into train and test**"
      ]
    },
    {
      "cell_type": "code",
      "execution_count": null,
      "id": "40991922",
      "metadata": {
        "id": "40991922"
      },
      "outputs": [],
      "source": [
        "from sklearn.model_selection import train_test_split\n",
        "\n",
        "x_train, x_test, y_train, y_test = train_test_split(\n",
        "    independent_evbattemp_vars, dependent_evbattemp_var, test_size = 0.3, random_state = 1\n",
        ")"
      ]
    },
    {
      "cell_type": "code",
      "execution_count": null,
      "id": "44919d43",
      "metadata": {
        "id": "44919d43"
      },
      "outputs": [],
      "source": [
        "print(\"Number of rows in train data =\", x_train.shape[0])\n",
        "print(\"Number of rows in test data =\", x_test.shape[0])"
      ]
    },
    {
      "cell_type": "markdown",
      "id": "2ceaf172",
      "metadata": {
        "id": "2ceaf172"
      },
      "source": [
        "### **Fitting a linear model - Linear Regression**\n",
        "Linear Regression can be implemented using: <br>\n",
        "\n",
        "**1) Sklearn:** https://scikit-learn.org/stable/modules/generated/sklearn.linear_model.LinearRegression.html <br>\n",
        "**2) Statsmodels:** https://www.statsmodels.org/stable/regression.html"
      ]
    },
    {
      "cell_type": "code",
      "execution_count": null,
      "id": "e3710819",
      "metadata": {
        "id": "e3710819"
      },
      "outputs": [],
      "source": [
        "import statsmodels.api as sm\n",
        "\n",
        "# Statsmodel api does not add a constant by default. We need to add it explicitly.\n",
        "x_train = sm.add_constant(x_train)\n",
        "# Add constant to test data\n",
        "x_test = sm.add_constant(x_test)\n",
        "\n",
        "\n",
        "def build_ols_model(train):\n",
        "    # Create the model\n",
        "    olsmodel = sm.OLS(y_train[\"Avg_Battery_Temperature_Combined_Celsius_log\"], train)\n",
        "    return olsmodel.fit()\n",
        "\n",
        "\n",
        "olsmodel1 = build_ols_model(x_train)\n",
        "print(olsmodel1.summary())"
      ]
    },
    {
      "cell_type": "markdown",
      "id": "fafb9e38",
      "metadata": {
        "id": "fafb9e38"
      },
      "source": [
        "* Both the R-squared and Adjusted R squared of our model is not that high. We will have to comfirm this model.\n",
        "* It is very possible with limited amount of data (total of 69 records) is causing the model to be an underfitting model.\n",
        "* To be able to make statistical inferences from our model, we will have to test that the linear regression assumptions are followed.\n",
        "* Before we move on to assumption testing, we'll do a quick performance check on the test data."
      ]
    },
    {
      "cell_type": "code",
      "execution_count": null,
      "id": "3cddcc2d",
      "metadata": {
        "id": "3cddcc2d"
      },
      "outputs": [],
      "source": [
        "# RMSE\n",
        "def rmse(predictions, targets):\n",
        "    return np.sqrt(((targets - predictions) ** 2).mean())\n",
        "\n",
        "\n",
        "# MAPE\n",
        "def mape(predictions, targets):\n",
        "    return np.mean(np.abs((targets - predictions)) / targets) * 100\n",
        "\n",
        "\n",
        "# MAE\n",
        "def mae(predictions, targets):\n",
        "    return np.mean(np.abs((targets - predictions)))\n",
        "\n",
        "\n",
        "# Model Performance on test and train data\n",
        "def model_pref(model, x_train, x_test):\n",
        "\n",
        "    # Insample Prediction\n",
        "    y_pred_train_pricelog = model.predict(x_train)\n",
        "    y_pred_train_Price = y_pred_train_pricelog.apply(math.exp)\n",
        "    y_train_Price = y_train[\"Avg_Battery_Temperature_Combined_Celsius\"]\n",
        "\n",
        "    # Prediction on test data\n",
        "    y_pred_test_pricelog = model.predict(x_test)\n",
        "    y_pred_test_Price = y_pred_test_pricelog.apply(math.exp)\n",
        "    y_test_Price = y_test[\"Avg_Battery_Temperature_Combined_Celsius\"]\n",
        "\n",
        "    print(\n",
        "        pd.DataFrame(\n",
        "            {\n",
        "                \"Data\": [\"Train\", \"Test\"],\n",
        "                \"RMSE\": [\n",
        "                    rmse(y_pred_train_Price, y_train_Price),\n",
        "                    rmse(y_pred_test_Price, y_test_Price),\n",
        "                ],\n",
        "                \"MAE\": [\n",
        "                    mae(y_pred_train_Price, y_train_Price),\n",
        "                    mae(y_pred_test_Price, y_test_Price),\n",
        "                ],\n",
        "                \"MAPE\": [\n",
        "                    mape(y_pred_train_Price, y_train_Price),\n",
        "                    mape(y_pred_test_Price, y_test_Price),\n",
        "                ],\n",
        "            }\n",
        "        )\n",
        "    )\n",
        "\n",
        "\n",
        "# Checking model performance\n",
        "model_pref(olsmodel1, x_train, x_test)  # High Overfitting."
      ]
    },
    {
      "cell_type": "markdown",
      "id": "d172e259",
      "metadata": {
        "id": "d172e259"
      },
      "source": [
        "* Root Mean Squared Error of train and test data has a slight difference, indicating that our model is mostly fine but probaby underfitting the train data. \n",
        "* Mean Absolute Error indicates that our current model can predict used \"Avg_Battery_Temperature_Combined_Celsius\" within a mean error of 3.8 temperature Celsius on test data.\n",
        "* The units of both RMSE and MAE are the same - temperature Celsius in this case. But RMSE is greater than MAE because it penalizes the outliers more.\n",
        "* Mean Absolute Percentage Error is ~36% on the test data."
      ]
    },
    {
      "cell_type": "markdown",
      "id": "5d1b0409",
      "metadata": {
        "id": "5d1b0409"
      },
      "source": [
        "**Checking the Linear Regression Assumptions**\n",
        "\n",
        "1. No Multicollinearity\n",
        "2. Mean of residuals should be 0\n",
        "3. No Heteroscedasticity\n",
        "4. Linearity of variables\n",
        "5. Normality of error terms"
      ]
    },
    {
      "cell_type": "markdown",
      "id": "8330be56",
      "metadata": {
        "id": "8330be56"
      },
      "source": [
        "**Checking Assumption 1: No Multicollinearity**\n",
        "\n",
        "- We will use VIF, to check if there is multicollinearity in the data.\n",
        "\n",
        "- Features having a VIF score >5 will be dropped/treated till all the features have a VIF score <5."
      ]
    },
    {
      "cell_type": "code",
      "execution_count": null,
      "id": "3e15098b",
      "metadata": {
        "id": "3e15098b"
      },
      "outputs": [],
      "source": [
        "from statsmodels.stats.outliers_influence import variance_inflation_factor\n",
        "\n",
        "\n",
        "def checking_vif(train):\n",
        "    vif = pd.DataFrame()\n",
        "    vif[\"feature\"] = train.columns\n",
        "\n",
        "    # calculating VIF for each feature\n",
        "    vif[\"VIF\"] = [\n",
        "        variance_inflation_factor(train.values, i) for i in range(len(train.columns))\n",
        "    ]\n",
        "    return vif\n",
        "\n",
        "\n",
        "print(checking_vif(x_train))"
      ]
    },
    {
      "cell_type": "markdown",
      "id": "305882eb",
      "metadata": {
        "id": "305882eb"
      },
      "source": [
        "- only one column that matches this and I am not concerned about it\n",
        "- confirms the \"Distance_km\" is not needed in the prediction, but not bad enough to remove it as it is right on the threshold"
      ]
    },
    {
      "cell_type": "markdown",
      "id": "fabd3602",
      "metadata": {
        "id": "fabd3602"
      },
      "source": [
        "#### **Checking Assumption 2: Mean of residuals should be 0**"
      ]
    },
    {
      "cell_type": "code",
      "execution_count": null,
      "id": "917aa7a8",
      "metadata": {
        "id": "917aa7a8"
      },
      "outputs": [],
      "source": [
        "residuals = olsmodel1.resid\n",
        "np.mean(residuals)"
      ]
    },
    {
      "cell_type": "markdown",
      "id": "ce0508da",
      "metadata": {
        "id": "ce0508da"
      },
      "source": [
        "- Mean of redisuals is very close to 0. The second assumption is also satisfied."
      ]
    },
    {
      "cell_type": "markdown",
      "id": "c12c499a",
      "metadata": {
        "id": "c12c499a"
      },
      "source": [
        "#### **Checking Assumption 3: No Heteroscedasticity**"
      ]
    },
    {
      "cell_type": "markdown",
      "id": "3eb4cbd2",
      "metadata": {
        "id": "3eb4cbd2"
      },
      "source": [
        "* Homoscedacity - If the residuals are symmetrically distributed across the regression line, then the data is said to be homoscedastic.\n",
        "\n",
        "* Heteroscedasticity- - If the residuals are not symmetrically distributed across the regression line, then the data is said to be heteroscedastic. In this case, the residuals can form a funnel shape or any other non-symmetrical shape.\n",
        "\n",
        "We'll use **`Goldfeldquandt Test`** to test the following hypothesis\n",
        "\n",
        "> **Null hypothesis: Residuals are homoscedastic**\n",
        "\n",
        "> **Alternate hypothesis: Residuals have heteroscedasticity**\n",
        "\n",
        "> **alpha = 0.05** "
      ]
    },
    {
      "cell_type": "code",
      "execution_count": null,
      "id": "0cd6326d",
      "metadata": {
        "id": "0cd6326d"
      },
      "outputs": [],
      "source": [
        "from statsmodels.compat import lzip\n",
        "\n",
        "name = [\"F statistic\", \"p-value\"]\n",
        "test = sms.het_goldfeldquandt(residuals, x_train)\n",
        "lzip(name, test)"
      ]
    },
    {
      "cell_type": "markdown",
      "id": "84c7bbb1",
      "metadata": {
        "id": "84c7bbb1"
      },
      "source": [
        "- Since the p-value > 0.05 we cannot reject the Null Hypothesis that the residuals are homoscedastic. \n",
        "\n",
        "- Assumptions 3 is also satisfied by our olsmodel1."
      ]
    },
    {
      "cell_type": "markdown",
      "id": "05dd720a",
      "metadata": {
        "id": "05dd720a"
      },
      "source": [
        "**Checking Assumption 4: Linearity of variables**\n",
        "\n",
        "Predictor variables must have a linear relation with the dependent variable.\n",
        "\n",
        "To test the assumption, we'll plot residuals and fitted values on a plot and ensure that residuals do not form a strong pattern. They should be randomly and uniformly scattered on the x-axis."
      ]
    },
    {
      "cell_type": "code",
      "execution_count": null,
      "id": "3bd7e870",
      "metadata": {
        "id": "3bd7e870"
      },
      "outputs": [],
      "source": [
        "# Predicted values\n",
        "fitted = olsmodel1.fittedvalues\n",
        "#print(fitted)\n",
        "#print(residuals)\n",
        "fitted_residuals = pd.DataFrame\n",
        "fitted_residuals['fitted'].astype('float64') = fitted[1]\n",
        "fitted_residuals['residuals'].astype('float64') = residuals[1]\n",
        "# sns.set_style(\"whitegrid\")\n",
        "sns.residplot(fitted_residuals,x='fitted', y='residuals', color = \"purple\", lowess = True)\n",
        "\n",
        "plt.xlabel(\"Fitted Values\")\n",
        "plt.ylabel(\"Residual\")\n",
        "plt.title(\"Residual PLOT\")\n",
        "plt.show()"
      ]
    },
    {
      "cell_type": "markdown",
      "id": "07eeea4a",
      "metadata": {
        "id": "07eeea4a"
      },
      "source": [
        "#### **Checking Assumption 5: Normality of error terms**\n",
        "\n",
        "The residuals should be normally distributed."
      ]
    },
    {
      "cell_type": "code",
      "execution_count": null,
      "id": "660bc831",
      "metadata": {
        "id": "660bc831"
      },
      "outputs": [],
      "source": [
        "# Plot histogram of residuals\n",
        "sns.displot(residuals, kde=True)"
      ]
    },
    {
      "cell_type": "code",
      "execution_count": null,
      "id": "fb199085",
      "metadata": {
        "id": "fb199085"
      },
      "outputs": [],
      "source": [
        "# Plot q-q plot of residuals\n",
        "import pylab\n",
        "\n",
        "\n",
        "scipy.stats.probplot(residuals, dist = \"norm\", plot = pylab)\n",
        "plt.show()"
      ]
    },
    {
      "cell_type": "markdown",
      "id": "9ffde02a",
      "metadata": {
        "id": "9ffde02a"
      },
      "source": [
        "- The residuals have a close to normal distribution. Assumption 5 is also satisfied.\n",
        "- We should further investigate these values in the tails where we have made huge residual errors.\n",
        "\n",
        "**Now that we have seen that olsmodel1 follows all the linear regression assumptions. Let us use that model to draw inferences.**"
      ]
    },
    {
      "cell_type": "code",
      "execution_count": null,
      "id": "51cc5781",
      "metadata": {
        "id": "51cc5781"
      },
      "outputs": [],
      "source": [
        "print(olsmodel1.summary())"
      ]
    },
    {
      "cell_type": "markdown",
      "id": "a2df7c8f",
      "metadata": {
        "id": "a2df7c8f"
      },
      "source": [
        "#### **Observations from the model**"
      ]
    },
    {
      "cell_type": "markdown",
      "id": "c5c14bf9",
      "metadata": {
        "id": "c5c14bf9"
      },
      "source": [
        "to tired,  will do it later"
      ]
    },
    {
      "cell_type": "code",
      "execution_count": null,
      "id": "09ab477e",
      "metadata": {
        "id": "09ab477e"
      },
      "outputs": [],
      "source": [
        "from sklearn.linear_model import LinearRegression, Ridge, Lasso  # Import methods to build linear model for statistical analysis and prediction\n",
        "\n",
        "from sklearn.tree import DecisionTreeRegressor                   # Import methods to build decision trees.\n",
        "from sklearn.ensemble import RandomForestRegressor               # Import methods to build Random Forest.\n",
        "\n",
        "from sklearn import metrics                                      # Metrics to evaluate the model\n",
        "\n",
        "from sklearn.model_selection import GridSearchCV                 # For tuning the model"
      ]
    },
    {
      "cell_type": "code",
      "execution_count": null,
      "id": "3e2012f5",
      "metadata": {
        "id": "3e2012f5"
      },
      "outputs": [],
      "source": [
        "##  Function to calculate r2_score and RMSE on train and test data\n",
        "def get_model_score(model, flag = True):\n",
        "    \"\"\"\n",
        "    model : regressor to predict values of X\n",
        "\n",
        "    \"\"\"\n",
        "    # Defining an empty list to store train and test results\n",
        "    score_list = []\n",
        "\n",
        "    pred_train = model.predict(X_train)\n",
        "    pred_train_ = np.exp(pred_train)\n",
        "    pred_test = model.predict(X_test)\n",
        "    pred_test_ = np.exp(pred_test)\n",
        "\n",
        "    train_r2 = metrics.r2_score(y_train['Avg_Battery_Temperature_Combined_Celsius'], pred_train_)\n",
        "    test_r2 = metrics.r2_score(y_test['Avg_Battery_Temperature_Combined_Celsius'], pred_test_)\n",
        "    train_rmse = metrics.mean_squared_error(\n",
        "        y_train['Avg_Battery_Temperature_Combined_Celsius'], pred_train_, squared = False\n",
        "    )\n",
        "    test_rmse = metrics.mean_squared_error(y_test['Avg_Battery_Temperature_Combined_Celsius'], pred_test_, squared = False)\n",
        "\n",
        "    # Adding all scores in the list\n",
        "    score_list.extend((train_r2, test_r2, train_rmse, test_rmse))\n",
        "\n",
        "    # If the flag is set to True then only the following print statements will be dispayed, the default value is True\n",
        "    if flag == True:\n",
        "        print(\n",
        "            'R-sqaure on training set : ',\n",
        "            metrics.r2_score(y_train['Avg_Battery_Temperature_Combined_Celsius'], pred_train_),\n",
        "        )\n",
        "        print('R-square on test set : ', metrics.r2_score(y_test['Avg_Battery_Temperature_Combined_Celsius'], pred_test_))\n",
        "        print(\n",
        "            'RMSE on training set : ',\n",
        "            np.sqrt(metrics.mean_squared_error(y_train['Avg_Battery_Temperature_Combined_Celsius'], pred_train_)),\n",
        "        )\n",
        "        print(\n",
        "            'RMSE on test set : ',\n",
        "            np.sqrt(metrics.mean_squared_error(y_test['Avg_Battery_Temperature_Combined_Celsius'], pred_test_)),\n",
        "        )\n",
        "\n",
        "    # Returning the list with train and test scores\n",
        "    return score_list"
      ]
    },
    {
      "cell_type": "markdown",
      "id": "fbfb0c49",
      "metadata": {
        "id": "fbfb0c49"
      },
      "source": [
        "### **Ridge Regression**\n",
        "https://scikit-learn.org/stable/modules/generated/sklearn.linear_model.Ridge.html"
      ]
    },
    {
      "cell_type": "code",
      "execution_count": null,
      "id": "11182cfa",
      "metadata": {
        "id": "11182cfa"
      },
      "outputs": [],
      "source": [
        "# Create a Ridge regression model\n",
        "rdg = Ridge()"
      ]
    },
    {
      "cell_type": "code",
      "execution_count": null,
      "id": "d2276ad6",
      "metadata": {
        "id": "d2276ad6"
      },
      "outputs": [],
      "source": [
        "\n",
        "# split a new data set\n",
        "X_train, X_test, y_train, y_test = train_test_split(\n",
        "    independent_evbattemp_vars, dependent_evbattemp_var, test_size = 0.3, random_state = 1\n",
        ")"
      ]
    },
    {
      "cell_type": "code",
      "execution_count": null,
      "id": "9c252950",
      "metadata": {
        "id": "9c252950"
      },
      "outputs": [],
      "source": [
        "print(\"Number of rows in train data =\", X_train.shape[0])\n",
        "print(\"Number of rows in test data =\", X_test.shape[0])\n",
        "print(\"Number of rows in train data =\", y_train.shape[0])\n",
        "print(\"Number of rows in test data =\", y_test.shape[0])\n",
        "print(y_test)"
      ]
    },
    {
      "cell_type": "code",
      "execution_count": null,
      "id": "69afc2a4",
      "metadata": {
        "id": "69afc2a4"
      },
      "outputs": [],
      "source": [
        "# Fit Ridge regression model.\n",
        "rdg.fit(X_train, y_train['Avg_Battery_Temperature_Combined_Celsius_log'])"
      ]
    },
    {
      "cell_type": "code",
      "execution_count": null,
      "id": "02b8c8b1",
      "metadata": {
        "id": "02b8c8b1"
      },
      "outputs": [],
      "source": [
        "# Get score of the model.\n",
        "Ridge_score = get_model_score(rdg)"
      ]
    },
    {
      "cell_type": "markdown",
      "id": "9ba66f19",
      "metadata": {
        "id": "9ba66f19"
      },
      "source": [
        "**Observations**\n",
        "- Ridge regression is able to produce better results compared to Linear Regression."
      ]
    },
    {
      "cell_type": "markdown",
      "id": "4f2be549",
      "metadata": {
        "id": "4f2be549"
      },
      "source": [
        "### **Decision Tree**\n",
        "https://scikit-learn.org/stable/auto_examples/tree/plot_tree_regression.html"
      ]
    },
    {
      "cell_type": "code",
      "execution_count": null,
      "id": "13825c0a",
      "metadata": {
        "id": "13825c0a"
      },
      "outputs": [],
      "source": [
        "# Create a decision tree regression model\n",
        "dtree = DecisionTreeRegressor(random_state = 1)"
      ]
    },
    {
      "cell_type": "code",
      "execution_count": null,
      "id": "1806c527",
      "metadata": {
        "id": "1806c527"
      },
      "outputs": [],
      "source": [
        "# Fit decision tree regression model.\n",
        "dtree.fit(X_train, y_train['Avg_Battery_Temperature_Combined_Celsius_log'])"
      ]
    },
    {
      "cell_type": "code",
      "execution_count": null,
      "id": "ae3e75ad",
      "metadata": {
        "id": "ae3e75ad"
      },
      "outputs": [],
      "source": [
        "# Get score of the model.\n",
        "Dtree_model = get_model_score(dtree)"
      ]
    },
    {
      "cell_type": "markdown",
      "id": "a6e75212",
      "metadata": {
        "id": "a6e75212"
      },
      "source": [
        "**Observations**\n",
        "- Decision Tree is overfitting on the training set and hence not able to generalize well on the test set."
      ]
    },
    {
      "cell_type": "markdown",
      "id": "6f1af192",
      "metadata": {
        "id": "6f1af192"
      },
      "source": [
        "Print the importance of features in the tree building ( The importance of a feature is computed as the (normalized) total reduction of the criterion brought by that feature. It is also known as the **Gini importance** )"
      ]
    },
    {
      "cell_type": "code",
      "execution_count": null,
      "id": "02685312",
      "metadata": {
        "id": "02685312"
      },
      "outputs": [],
      "source": [
        "print(\n",
        "    pd.DataFrame(\n",
        "        dtree.feature_importances_, columns = [\"Imp\"], index = X_train.columns\n",
        "    ).sort_values(by = \"Imp\", ascending = False)\n",
        ")"
      ]
    },
    {
      "cell_type": "markdown",
      "id": "ab158b48",
      "metadata": {
        "id": "ab158b48"
      },
      "source": [
        "**Observations**\n",
        "- Ambient_Temperature_Start_Celsius, Duration_min and Avg_Battery_State_of_Charge_Combined are the top 3 important features of decision tree model."
      ]
    },
    {
      "cell_type": "markdown",
      "id": "e3d1a03b",
      "metadata": {
        "id": "e3d1a03b"
      },
      "source": [
        "### **Random Forest**\n",
        "\n",
        "https://scikit-learn.org/stable/modules/generated/sklearn.ensemble.RandomForestRegressor.html"
      ]
    },
    {
      "cell_type": "code",
      "execution_count": null,
      "id": "428ba5c6",
      "metadata": {
        "id": "428ba5c6"
      },
      "outputs": [],
      "source": [
        "# Create a Random Forest regression model \n",
        "rf = RandomForestRegressor(random_state = 1, oob_score = True)"
      ]
    },
    {
      "cell_type": "code",
      "execution_count": null,
      "id": "73d0305f",
      "metadata": {
        "id": "73d0305f"
      },
      "outputs": [],
      "source": [
        "# Fit Random Forest regression model.\n",
        "rf.fit(X_train, y_train['Avg_Battery_Temperature_Combined_Celsius_log'])"
      ]
    },
    {
      "cell_type": "code",
      "execution_count": null,
      "id": "fc4c835c",
      "metadata": {
        "id": "fc4c835c"
      },
      "outputs": [],
      "source": [
        "# Get score of the model.\n",
        "RandomForest_model = get_model_score(rf)"
      ]
    },
    {
      "cell_type": "markdown",
      "id": "e27fc8c6",
      "metadata": {
        "id": "e27fc8c6"
      },
      "source": [
        "**Observations**\n",
        "- Random Forest model has performed well on training and test set and we can see the model has overfitted slightly."
      ]
    },
    {
      "cell_type": "markdown",
      "id": "2f9710b4",
      "metadata": {
        "id": "2f9710b4"
      },
      "source": [
        "**Feature Importance**\n",
        "\n",
        "Print the importance of features in the tree building ( The importance of a feature is computed as the (normalized) total reduction of the criterion brought by that feature. It is also known as the **Gini importance** )"
      ]
    },
    {
      "cell_type": "code",
      "execution_count": null,
      "id": "69b296db",
      "metadata": {
        "id": "69b296db"
      },
      "outputs": [],
      "source": [
        "print(\n",
        "    pd.DataFrame(\n",
        "        rf.feature_importances_, columns = [\"Imp\"], index = X_train.columns\n",
        "    ).sort_values(by = \"Imp\", ascending = False)\n",
        ")"
      ]
    },
    {
      "cell_type": "markdown",
      "id": "0ac0b327",
      "metadata": {
        "id": "0ac0b327"
      },
      "source": [
        "**Observations**\n",
        "- Ambient_Temperature_Start_Celsius, Route_Area and Weather are the top 3 important features of decision tree model."
      ]
    },
    {
      "cell_type": "code",
      "execution_count": null,
      "id": "ec31b82b",
      "metadata": {
        "id": "ec31b82b"
      },
      "outputs": [],
      "source": []
    }
  ],
  "metadata": {
    "kernelspec": {
      "display_name": "Python 3 (ipykernel)",
      "language": "python",
      "name": "python3"
    },
    "language_info": {
      "codemirror_mode": {
        "name": "ipython",
        "version": 3
      },
      "file_extension": ".py",
      "mimetype": "text/x-python",
      "name": "python",
      "nbconvert_exporter": "python",
      "pygments_lexer": "ipython3",
      "version": "3.9.13"
    },
    "colab": {
      "provenance": []
    }
  },
  "nbformat": 4,
  "nbformat_minor": 5
}