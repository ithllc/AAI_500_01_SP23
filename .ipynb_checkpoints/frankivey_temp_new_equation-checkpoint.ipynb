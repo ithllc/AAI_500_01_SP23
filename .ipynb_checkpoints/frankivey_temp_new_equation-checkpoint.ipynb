{
 "cells": [
  {
   "cell_type": "markdown",
   "id": "4c03f0e0",
   "metadata": {
    "id": "4c03f0e0"
   },
   "source": [
    "The goal of this project is to analyze a dataset to determine if there exists a connection between driving conditions and an electric vehicle’s battery temperature. The expected model contains two inputs: the ambient temperature and the trip distance, and the output is the battery temperature. The statistical method that will be considered for this analysis is linear regression and sampling will be applied to verify the conclusions drawn from the dataset"
   ]
  },
  {
   "cell_type": "markdown",
   "id": "d3d8fc07",
   "metadata": {
    "id": "d3d8fc07"
   },
   "source": [
    "The features in the data set represent real world variables. Alone, the battery temperature does not provide much information, thus the term \"Electric Vehicle's Battery Temperature\" must be redefined and it is important to analyze the rate at which the battery is heating up. To determine this the following calculation is completed:  \n",
    "  \n",
    "$$Battery Rate of Heating=\\frac{BatteryTemperatureStartCelsius - BatteryTemperatureEnd}{DurationMin}$$  \n",
    "  \n",
    "Similarly, the battery state of charge is more informative when expressed as a rate of change:  \n",
    "  \n",
    "$$Battery SOC Rate=\\frac{ChangeInBatteryStateofCharge}{DurationMin}$$ \n",
    "\n",
    "**Observations**\n",
    "- Calculations need to be added to the data set\n",
    "- For the column \"Unnamed: 8\", rename it to \"Change In Battery State of Charge\" and it is noted that a row exists with a negative value, we are not testing driving conditions and battery conditions with this value because it represents that the driver stopped to recharge their vehicle. Our analysis will consist of only data that shows a positive state of charge for combinations from beginning to end."
   ]
  },
  {
   "cell_type": "code",
   "execution_count": 1,
   "id": "96da3938",
   "metadata": {
    "id": "96da3938"
   },
   "outputs": [],
   "source": [
    "# Import necessary libraries = common libraries include pandas, numpy, matplotlib, sklearn\n",
    "import numpy as np\n",
    "import pandas as pd\n",
    "import matplotlib.pyplot as plt\n",
    "import seaborn as sns\n",
    "import scipy.stats\n",
    "import math\n",
    "import statistics as stats\n",
    "import statsmodels.stats.api as sms\n",
    "#to scale the data using z-score \n",
    "from sklearn.preprocessing import StandardScaler\n",
    "#Importing PCA\n",
    "from sklearn.decomposition import PCA\n",
    "from statsmodels.stats.outliers_influence import variance_inflation_factor\n",
    "%matplotlib inline"
   ]
  },
  {
   "cell_type": "markdown",
   "id": "c2c99803",
   "metadata": {
    "id": "c2c99803"
   },
   "source": [
    "## **Data Cleaning:**\n",
    "1. import the data into a dataframe\n",
    "2. review the data\n",
    "3. determine the data set to only use for the model to be built on\n",
    "4. use only the data asked in the question\n",
    "5. confirm each column has all the data per column\n",
    "6. if not all data in the column, make sample the data so that value count equal the other columns"
   ]
  },
  {
   "cell_type": "code",
   "execution_count": 2,
   "id": "ef8ccbe1",
   "metadata": {
    "colab": {
     "base_uri": "https://localhost:8080/",
     "height": 328
    },
    "id": "ef8ccbe1",
    "outputId": "650652b3-0bd6-4972-ea88-d86bad2ab366"
   },
   "outputs": [],
   "source": [
    "#import data\n",
    "evbattemp = pd.read_excel('EvBatTemps.xlsx')"
   ]
  },
  {
   "cell_type": "code",
   "execution_count": 3,
   "id": "5723a153",
   "metadata": {
    "id": "5723a153"
   },
   "outputs": [
    {
     "data": {
      "text/html": [
       "<div>\n",
       "<style scoped>\n",
       "    .dataframe tbody tr th:only-of-type {\n",
       "        vertical-align: middle;\n",
       "    }\n",
       "\n",
       "    .dataframe tbody tr th {\n",
       "        vertical-align: top;\n",
       "    }\n",
       "\n",
       "    .dataframe thead th {\n",
       "        text-align: right;\n",
       "    }\n",
       "</style>\n",
       "<table border=\"1\" class=\"dataframe\">\n",
       "  <thead>\n",
       "    <tr style=\"text-align: right;\">\n",
       "      <th></th>\n",
       "      <th>Trip</th>\n",
       "      <th>Date</th>\n",
       "      <th>Route/Area</th>\n",
       "      <th>Weather</th>\n",
       "      <th>Battery Temperature (Start) [°C]</th>\n",
       "      <th>Battery Temperature (End)</th>\n",
       "      <th>Battery State of Charge (Start)</th>\n",
       "      <th>Battery State of Charge (End)</th>\n",
       "      <th>Unnamed: 8</th>\n",
       "      <th>Ambient Temperature (Start) [°C]</th>\n",
       "      <th>Target Cabin Temperature</th>\n",
       "      <th>Distance [km]</th>\n",
       "      <th>Duration [min]</th>\n",
       "      <th>Unnamed: 13</th>\n",
       "      <th>Fan</th>\n",
       "      <th>Note</th>\n",
       "    </tr>\n",
       "  </thead>\n",
       "  <tbody>\n",
       "    <tr>\n",
       "      <th>0</th>\n",
       "      <td>TripA01</td>\n",
       "      <td>2019-06-25_13-21-14</td>\n",
       "      <td>Munich East</td>\n",
       "      <td>sunny</td>\n",
       "      <td>21.0</td>\n",
       "      <td>22.0</td>\n",
       "      <td>0.863</td>\n",
       "      <td>0.803</td>\n",
       "      <td>0.060</td>\n",
       "      <td>25.5</td>\n",
       "      <td>23.0</td>\n",
       "      <td>7.427690</td>\n",
       "      <td>16.820000</td>\n",
       "      <td>NaN</td>\n",
       "      <td>Automatic, Level 1</td>\n",
       "      <td>NaN</td>\n",
       "    </tr>\n",
       "    <tr>\n",
       "      <th>1</th>\n",
       "      <td>TripA02</td>\n",
       "      <td>2019-06-25_14-05-31</td>\n",
       "      <td>Munich East</td>\n",
       "      <td>sunny</td>\n",
       "      <td>23.0</td>\n",
       "      <td>26.0</td>\n",
       "      <td>0.803</td>\n",
       "      <td>0.673</td>\n",
       "      <td>0.130</td>\n",
       "      <td>32.0</td>\n",
       "      <td>23.0</td>\n",
       "      <td>23.509709</td>\n",
       "      <td>23.550000</td>\n",
       "      <td>NaN</td>\n",
       "      <td>Automatic, Level 1</td>\n",
       "      <td>Target Cabin Temperature changed</td>\n",
       "    </tr>\n",
       "    <tr>\n",
       "      <th>2</th>\n",
       "      <td>TripA03</td>\n",
       "      <td>2019-06-28_10-02-15</td>\n",
       "      <td>Munich East</td>\n",
       "      <td>sunny</td>\n",
       "      <td>24.0</td>\n",
       "      <td>25.0</td>\n",
       "      <td>0.835</td>\n",
       "      <td>0.751</td>\n",
       "      <td>0.084</td>\n",
       "      <td>21.5</td>\n",
       "      <td>27.0</td>\n",
       "      <td>12.820846</td>\n",
       "      <td>11.180000</td>\n",
       "      <td>NaN</td>\n",
       "      <td>Automatic, Level 1</td>\n",
       "      <td>Target Cabin Temperature changed</td>\n",
       "    </tr>\n",
       "    <tr>\n",
       "      <th>3</th>\n",
       "      <td>TripA04</td>\n",
       "      <td>2019-06-28_10-13-30</td>\n",
       "      <td>Munich East</td>\n",
       "      <td>sunny</td>\n",
       "      <td>25.0</td>\n",
       "      <td>27.0</td>\n",
       "      <td>0.751</td>\n",
       "      <td>0.667</td>\n",
       "      <td>0.084</td>\n",
       "      <td>24.0</td>\n",
       "      <td>22.0</td>\n",
       "      <td>10.727491</td>\n",
       "      <td>6.870000</td>\n",
       "      <td>NaN</td>\n",
       "      <td>Automatic, Level 1</td>\n",
       "      <td>NaN</td>\n",
       "    </tr>\n",
       "    <tr>\n",
       "      <th>4</th>\n",
       "      <td>TripA05</td>\n",
       "      <td>2019-06-28_10-20-26</td>\n",
       "      <td>Munich East</td>\n",
       "      <td>sunny</td>\n",
       "      <td>27.0</td>\n",
       "      <td>27.0</td>\n",
       "      <td>0.667</td>\n",
       "      <td>0.602</td>\n",
       "      <td>0.065</td>\n",
       "      <td>24.5</td>\n",
       "      <td>24.0</td>\n",
       "      <td>12.393223</td>\n",
       "      <td>22.776667</td>\n",
       "      <td>NaN</td>\n",
       "      <td>Automatic, Level 1</td>\n",
       "      <td>NaN</td>\n",
       "    </tr>\n",
       "  </tbody>\n",
       "</table>\n",
       "</div>"
      ],
      "text/plain": [
       "      Trip                 Date   Route/Area Weather  \\\n",
       "0  TripA01  2019-06-25_13-21-14  Munich East   sunny   \n",
       "1  TripA02  2019-06-25_14-05-31  Munich East   sunny   \n",
       "2  TripA03  2019-06-28_10-02-15  Munich East   sunny   \n",
       "3  TripA04  2019-06-28_10-13-30  Munich East   sunny   \n",
       "4  TripA05  2019-06-28_10-20-26  Munich East   sunny   \n",
       "\n",
       "   Battery Temperature (Start) [°C]  Battery Temperature (End)  \\\n",
       "0                              21.0                       22.0   \n",
       "1                              23.0                       26.0   \n",
       "2                              24.0                       25.0   \n",
       "3                              25.0                       27.0   \n",
       "4                              27.0                       27.0   \n",
       "\n",
       "   Battery State of Charge (Start)  Battery State of Charge (End)  Unnamed: 8  \\\n",
       "0                            0.863                          0.803       0.060   \n",
       "1                            0.803                          0.673       0.130   \n",
       "2                            0.835                          0.751       0.084   \n",
       "3                            0.751                          0.667       0.084   \n",
       "4                            0.667                          0.602       0.065   \n",
       "\n",
       "   Ambient Temperature (Start) [°C]  Target Cabin Temperature  Distance [km]  \\\n",
       "0                              25.5                      23.0       7.427690   \n",
       "1                              32.0                      23.0      23.509709   \n",
       "2                              21.5                      27.0      12.820846   \n",
       "3                              24.0                      22.0      10.727491   \n",
       "4                              24.5                      24.0      12.393223   \n",
       "\n",
       "   Duration [min]  Unnamed: 13                 Fan  \\\n",
       "0       16.820000          NaN  Automatic, Level 1   \n",
       "1       23.550000          NaN  Automatic, Level 1   \n",
       "2       11.180000          NaN  Automatic, Level 1   \n",
       "3        6.870000          NaN  Automatic, Level 1   \n",
       "4       22.776667          NaN  Automatic, Level 1   \n",
       "\n",
       "                                Note  \n",
       "0                                NaN  \n",
       "1  Target Cabin Temperature changed   \n",
       "2  Target Cabin Temperature changed   \n",
       "3                                NaN  \n",
       "4                                NaN  "
      ]
     },
     "execution_count": 3,
     "metadata": {},
     "output_type": "execute_result"
    }
   ],
   "source": [
    "#review the data\n",
    "# view the first 5 records of each column\n",
    "evbattemp.head()"
   ]
  },
  {
   "cell_type": "markdown",
   "id": "c3c95d9d",
   "metadata": {},
   "source": [
    "**Observations:**\n",
    "- There are 2 unamed columns"
   ]
  },
  {
   "cell_type": "code",
   "execution_count": 4,
   "id": "7f65fffe",
   "metadata": {
    "id": "7f65fffe"
   },
   "outputs": [
    {
     "name": "stdout",
     "output_type": "stream",
     "text": [
      "<class 'pandas.core.frame.DataFrame'>\n",
      "RangeIndex: 72 entries, 0 to 71\n",
      "Data columns (total 16 columns):\n",
      " #   Column                            Non-Null Count  Dtype  \n",
      "---  ------                            --------------  -----  \n",
      " 0   Trip                              70 non-null     object \n",
      " 1   Date                              70 non-null     object \n",
      " 2   Route/Area                        70 non-null     object \n",
      " 3   Weather                           70 non-null     object \n",
      " 4   Battery Temperature (Start) [°C]  70 non-null     float64\n",
      " 5   Battery Temperature (End)         70 non-null     float64\n",
      " 6   Battery State of Charge (Start)   70 non-null     float64\n",
      " 7   Battery State of Charge (End)     70 non-null     float64\n",
      " 8   Unnamed: 8                        70 non-null     float64\n",
      " 9   Ambient Temperature (Start) [°C]  70 non-null     float64\n",
      " 10  Target Cabin Temperature          70 non-null     float64\n",
      " 11  Distance [km]                     70 non-null     float64\n",
      " 12  Duration [min]                    70 non-null     float64\n",
      " 13  Unnamed: 13                       0 non-null      float64\n",
      " 14  Fan                               70 non-null     object \n",
      " 15  Note                              26 non-null     object \n",
      "dtypes: float64(10), object(6)\n",
      "memory usage: 9.1+ KB\n"
     ]
    }
   ],
   "source": [
    "#review the data\n",
    "# confirm the data info\n",
    "evbattemp.info()"
   ]
  },
  {
   "cell_type": "markdown",
   "id": "89cba2ab",
   "metadata": {
    "id": "89cba2ab"
   },
   "source": [
    "**Observations:**\n",
    "- There are **72 rows** and **16 columns** in the data.\n",
    "- Though there are **72 rows** for majority of columns, only 70 of them show up and non-null, confirm 2 rows are null and remove them.\n",
    "- The column \"Unnamed: 13\" has no values in it.\n",
    "- The column \"Note\" has only 26 rows out of the average total of 72 rows compared to the rest of the columns.\n",
    "- Columns \"Unnamed: 13\" and \"Note\" can be dropped because they do not have enough data to be used for further analysis.\n",
    "- Columns \"Trip\" and \"Date\" can be dropped because they do not include data specific to \"driving conditions\".\n",
    "- As per the requirements, remove the row with column 'Change_In_Battery_State_of_Charge' value negative."
   ]
  },
  {
   "cell_type": "code",
   "execution_count": 5,
   "id": "877fe1d3",
   "metadata": {
    "id": "877fe1d3"
   },
   "outputs": [],
   "source": [
    "# drop the 2 columns: 'Note', 'Unnamed: 13'\n",
    "#evbattemp = evbattemp.drop(['Trip','Date','Note', 'Unnamed: 13', 'Fan'], axis=1)\n",
    "evbattemp = evbattemp.drop(['Unnamed: 13','Note','Trip','Date'], axis=1)"
   ]
  },
  {
   "cell_type": "code",
   "execution_count": 6,
   "id": "3d8847c6",
   "metadata": {},
   "outputs": [
    {
     "data": {
      "text/plain": [
       "Route/Area                           9\n",
       "Weather                              8\n",
       "Battery Temperature (Start) [°C]    30\n",
       "Battery Temperature (End)           24\n",
       "Battery State of Charge (Start)     61\n",
       "Battery State of Charge (End)       66\n",
       "Unnamed: 8                          64\n",
       "Ambient Temperature (Start) [°C]    40\n",
       "Target Cabin Temperature            12\n",
       "Distance [km]                       70\n",
       "Duration [min]                      70\n",
       "Fan                                  2\n",
       "dtype: int64"
      ]
     },
     "execution_count": 6,
     "metadata": {},
     "output_type": "execute_result"
    }
   ],
   "source": [
    "#find unique values per variable\n",
    "evbattemp.nunique(axis=0)"
   ]
  },
  {
   "cell_type": "markdown",
   "id": "063790b6",
   "metadata": {},
   "source": [
    "**Observations:**\n",
    "- Some of the columns are of **numeric data type** while others are of **object data type**, we need to confirm if the object columns are categorical and determine if they need to be removed during data preparation phase\n",
    "- For columns \"Route/Area\", \"Fan\", and \"Weather\" the data is categorical, convert the column to category data type\n",
    "- For columns \"Route/Area\", \"Fan\", and \"Weather\", after converting to category, convert the category into codes for better analysis\n",
    "- The column \"Fan\" has 2 values\n",
    "- The columns \"Trip\", \"Distance [km]\", and \"Duration [min]\" have 70 rows each in them, we will need to determine if they are dependent or independent variables\n",
    "- The column \"Date\" has 69 unique rows"
   ]
  },
  {
   "cell_type": "code",
   "execution_count": 7,
   "id": "6d6a3be2",
   "metadata": {
    "id": "6d6a3be2"
   },
   "outputs": [
    {
     "data": {
      "text/html": [
       "<div>\n",
       "<style scoped>\n",
       "    .dataframe tbody tr th:only-of-type {\n",
       "        vertical-align: middle;\n",
       "    }\n",
       "\n",
       "    .dataframe tbody tr th {\n",
       "        vertical-align: top;\n",
       "    }\n",
       "\n",
       "    .dataframe thead th {\n",
       "        text-align: right;\n",
       "    }\n",
       "</style>\n",
       "<table border=\"1\" class=\"dataframe\">\n",
       "  <thead>\n",
       "    <tr style=\"text-align: right;\">\n",
       "      <th></th>\n",
       "      <th>Route/Area</th>\n",
       "      <th>Weather</th>\n",
       "      <th>Battery Temperature (Start) [°C]</th>\n",
       "      <th>Battery Temperature (End)</th>\n",
       "      <th>Battery State of Charge (Start)</th>\n",
       "      <th>Battery State of Charge (End)</th>\n",
       "      <th>Unnamed: 8</th>\n",
       "      <th>Ambient Temperature (Start) [°C]</th>\n",
       "      <th>Target Cabin Temperature</th>\n",
       "      <th>Distance [km]</th>\n",
       "      <th>Duration [min]</th>\n",
       "      <th>Fan</th>\n",
       "    </tr>\n",
       "  </thead>\n",
       "  <tbody>\n",
       "    <tr>\n",
       "      <th>32</th>\n",
       "      <td>NaN</td>\n",
       "      <td>NaN</td>\n",
       "      <td>NaN</td>\n",
       "      <td>NaN</td>\n",
       "      <td>NaN</td>\n",
       "      <td>NaN</td>\n",
       "      <td>NaN</td>\n",
       "      <td>NaN</td>\n",
       "      <td>NaN</td>\n",
       "      <td>NaN</td>\n",
       "      <td>NaN</td>\n",
       "      <td>NaN</td>\n",
       "    </tr>\n",
       "    <tr>\n",
       "      <th>33</th>\n",
       "      <td>NaN</td>\n",
       "      <td>NaN</td>\n",
       "      <td>NaN</td>\n",
       "      <td>NaN</td>\n",
       "      <td>NaN</td>\n",
       "      <td>NaN</td>\n",
       "      <td>NaN</td>\n",
       "      <td>NaN</td>\n",
       "      <td>NaN</td>\n",
       "      <td>NaN</td>\n",
       "      <td>NaN</td>\n",
       "      <td>NaN</td>\n",
       "    </tr>\n",
       "  </tbody>\n",
       "</table>\n",
       "</div>"
      ],
      "text/plain": [
       "   Route/Area Weather  Battery Temperature (Start) [°C]  \\\n",
       "32        NaN     NaN                               NaN   \n",
       "33        NaN     NaN                               NaN   \n",
       "\n",
       "    Battery Temperature (End)  Battery State of Charge (Start)  \\\n",
       "32                        NaN                              NaN   \n",
       "33                        NaN                              NaN   \n",
       "\n",
       "    Battery State of Charge (End)  Unnamed: 8  \\\n",
       "32                            NaN         NaN   \n",
       "33                            NaN         NaN   \n",
       "\n",
       "    Ambient Temperature (Start) [°C]  Target Cabin Temperature  Distance [km]  \\\n",
       "32                               NaN                       NaN            NaN   \n",
       "33                               NaN                       NaN            NaN   \n",
       "\n",
       "    Duration [min]  Fan  \n",
       "32             NaN  NaN  \n",
       "33             NaN  NaN  "
      ]
     },
     "execution_count": 7,
     "metadata": {},
     "output_type": "execute_result"
    }
   ],
   "source": [
    "# confirm null rows exists\n",
    "evbattemp_null_only = evbattemp[evbattemp.isna().any(axis=1)]\n",
    "evbattemp_null_only"
   ]
  },
  {
   "cell_type": "markdown",
   "id": "7f48cf32",
   "metadata": {},
   "source": [
    "**Observations:**\n",
    "- Confirmed earlier assumptions that there are 2 empty rows\n",
    "- Drop the empty rows"
   ]
  },
  {
   "cell_type": "code",
   "execution_count": 8,
   "id": "8baef3be",
   "metadata": {
    "id": "8baef3be"
   },
   "outputs": [],
   "source": [
    "#drop null rows\n",
    "evbattemp = evbattemp.dropna(how='any',axis=0)"
   ]
  },
  {
   "cell_type": "code",
   "execution_count": 9,
   "id": "b7c471da",
   "metadata": {
    "id": "b7c471da"
   },
   "outputs": [
    {
     "data": {
      "text/html": [
       "<div>\n",
       "<style scoped>\n",
       "    .dataframe tbody tr th:only-of-type {\n",
       "        vertical-align: middle;\n",
       "    }\n",
       "\n",
       "    .dataframe tbody tr th {\n",
       "        vertical-align: top;\n",
       "    }\n",
       "\n",
       "    .dataframe thead th {\n",
       "        text-align: right;\n",
       "    }\n",
       "</style>\n",
       "<table border=\"1\" class=\"dataframe\">\n",
       "  <thead>\n",
       "    <tr style=\"text-align: right;\">\n",
       "      <th></th>\n",
       "      <th>Route/Area</th>\n",
       "      <th>Weather</th>\n",
       "      <th>Battery Temperature (Start) [°C]</th>\n",
       "      <th>Battery Temperature (End)</th>\n",
       "      <th>Battery State of Charge (Start)</th>\n",
       "      <th>Battery State of Charge (End)</th>\n",
       "      <th>Unnamed: 8</th>\n",
       "      <th>Ambient Temperature (Start) [°C]</th>\n",
       "      <th>Target Cabin Temperature</th>\n",
       "      <th>Distance [km]</th>\n",
       "      <th>Duration [min]</th>\n",
       "      <th>Fan</th>\n",
       "    </tr>\n",
       "  </thead>\n",
       "  <tbody>\n",
       "  </tbody>\n",
       "</table>\n",
       "</div>"
      ],
      "text/plain": [
       "Empty DataFrame\n",
       "Columns: [Route/Area, Weather, Battery Temperature (Start) [°C], Battery Temperature (End), Battery State of Charge (Start), Battery State of Charge (End), Unnamed: 8, Ambient Temperature (Start) [°C], Target Cabin Temperature, Distance [km], Duration [min], Fan]\n",
       "Index: []"
      ]
     },
     "execution_count": 9,
     "metadata": {},
     "output_type": "execute_result"
    }
   ],
   "source": [
    "# confirm no null rows exists\n",
    "evbattemp_null_only1 = evbattemp[evbattemp.isna().any(axis=1)]\n",
    "evbattemp_null_only1"
   ]
  },
  {
   "cell_type": "code",
   "execution_count": 10,
   "id": "cd506e43",
   "metadata": {},
   "outputs": [
    {
     "data": {
      "text/plain": [
       "Route/Area                          0\n",
       "Weather                             0\n",
       "Battery Temperature (Start) [°C]    0\n",
       "Battery Temperature (End)           0\n",
       "Battery State of Charge (Start)     0\n",
       "Battery State of Charge (End)       0\n",
       "Unnamed: 8                          0\n",
       "Ambient Temperature (Start) [°C]    0\n",
       "Target Cabin Temperature            0\n",
       "Distance [km]                       0\n",
       "Duration [min]                      0\n",
       "Fan                                 0\n",
       "dtype: int64"
      ]
     },
     "execution_count": 10,
     "metadata": {},
     "output_type": "execute_result"
    }
   ],
   "source": [
    "#confirm there are no more rows with missing values\n",
    "evbattemp.isnull().sum()"
   ]
  },
  {
   "cell_type": "code",
   "execution_count": 11,
   "id": "33ab2de7",
   "metadata": {
    "id": "33ab2de7"
   },
   "outputs": [
    {
     "name": "stdout",
     "output_type": "stream",
     "text": [
      "<class 'pandas.core.frame.DataFrame'>\n",
      "Int64Index: 70 entries, 0 to 71\n",
      "Data columns (total 12 columns):\n",
      " #   Column                            Non-Null Count  Dtype  \n",
      "---  ------                            --------------  -----  \n",
      " 0   Route/Area                        70 non-null     object \n",
      " 1   Weather                           70 non-null     object \n",
      " 2   Battery Temperature (Start) [°C]  70 non-null     float64\n",
      " 3   Battery Temperature (End)         70 non-null     float64\n",
      " 4   Battery State of Charge (Start)   70 non-null     float64\n",
      " 5   Battery State of Charge (End)     70 non-null     float64\n",
      " 6   Unnamed: 8                        70 non-null     float64\n",
      " 7   Ambient Temperature (Start) [°C]  70 non-null     float64\n",
      " 8   Target Cabin Temperature          70 non-null     float64\n",
      " 9   Distance [km]                     70 non-null     float64\n",
      " 10  Duration [min]                    70 non-null     float64\n",
      " 11  Fan                               70 non-null     object \n",
      "dtypes: float64(9), object(3)\n",
      "memory usage: 7.1+ KB\n"
     ]
    }
   ],
   "source": [
    "# confirm null rows were removed\n",
    "evbattemp.info()"
   ]
  },
  {
   "cell_type": "markdown",
   "id": "8f765f69",
   "metadata": {},
   "source": [
    "**Observations:**\n",
    "- confirmed that Null rows were removed\n",
    "- Still have 3 columns listed with data types as \"object\"\n",
    "- Column names should be standardized\n",
    "- Rename the unamed column"
   ]
  },
  {
   "cell_type": "code",
   "execution_count": 12,
   "id": "9fb25245",
   "metadata": {
    "id": "9fb25245"
   },
   "outputs": [],
   "source": [
    "# rename column 'Unnamed: 8'\n",
    "evbattemp.rename(columns={'Unnamed: 8':'Change_In_Battery_State_of_Charge'}, inplace=True)"
   ]
  },
  {
   "cell_type": "markdown",
   "id": "c875b44a",
   "metadata": {},
   "source": [
    "**Observations**\n",
    "- Remove row of with column \"Change_In_Battery_State_of_Charge\" having a negative value as per the requirements."
   ]
  },
  {
   "cell_type": "code",
   "execution_count": 13,
   "id": "221d001a",
   "metadata": {
    "id": "221d001a"
   },
   "outputs": [],
   "source": [
    "# remove column with 'Change In Battery State of Charge'\n",
    "# should always be positive\n",
    "# if negative remove because it shows that the battery charge in between the trip time \n",
    "#  and that is outside the scope of the analysis\n",
    "\n",
    "evbattemp.drop(evbattemp[evbattemp['Change_In_Battery_State_of_Charge'] < 0].index, inplace=True)"
   ]
  },
  {
   "cell_type": "markdown",
   "id": "19a75d45",
   "metadata": {},
   "source": [
    "**Observations**\n",
    "- Rename columns with non-alpanumeric and replace spaces with underscores for easier usability"
   ]
  },
  {
   "cell_type": "code",
   "execution_count": 14,
   "id": "1d5ec631",
   "metadata": {
    "id": "1d5ec631"
   },
   "outputs": [],
   "source": [
    "# rename columns with non-alpanumeric and replace spaces with underscores for easier usability\n",
    "evbattemp.rename(columns={'Trip':'Trip'}, inplace=True)\n",
    "evbattemp.rename(columns={'Date':'Date'}, inplace=True)\n",
    "evbattemp.rename(columns={'Route/Area':'Route_Area'}, inplace=True)\n",
    "evbattemp.rename(columns={'Weather':'Weather'}, inplace=True)\n",
    "evbattemp.rename(columns={'Fan':'Fan'}, inplace=True)\n",
    "evbattemp.rename(columns={'Battery Temperature (Start) [°C]':'Battery_Temperature_Start_Celsius'}, inplace=True)\n",
    "evbattemp.rename(columns={'Battery Temperature (End)':'Battery_Temperature_End'}, inplace=True)\n",
    "evbattemp.rename(columns={'Battery State of Charge (Start)':'Battery_State_of_Charge_Start'}, inplace=True)\n",
    "evbattemp.rename(columns={'Battery State of Charge (End)':'Battery_State_of_Charge_End'}, inplace=True)\n",
    "evbattemp.rename(columns={'Ambient Temperature (Start) [°C]':'Ambient_Temperature_Start_Celsius'}, inplace=True)\n",
    "evbattemp.rename(columns={'Target Cabin Temperature':'Target_Cabin_Temperature'}, inplace=True)\n",
    "evbattemp.rename(columns={'Distance [km]':'Distance_km'}, inplace=True)\n",
    "evbattemp.rename(columns={'Duration [min]':'Duration_min'}, inplace=True)"
   ]
  },
  {
   "cell_type": "code",
   "execution_count": 15,
   "id": "5863ab32",
   "metadata": {
    "id": "5863ab32"
   },
   "outputs": [
    {
     "name": "stdout",
     "output_type": "stream",
     "text": [
      "<class 'pandas.core.frame.DataFrame'>\n",
      "Int64Index: 69 entries, 0 to 71\n",
      "Data columns (total 12 columns):\n",
      " #   Column                             Non-Null Count  Dtype  \n",
      "---  ------                             --------------  -----  \n",
      " 0   Route_Area                         69 non-null     object \n",
      " 1   Weather                            69 non-null     object \n",
      " 2   Battery_Temperature_Start_Celsius  69 non-null     float64\n",
      " 3   Battery_Temperature_End            69 non-null     float64\n",
      " 4   Battery_State_of_Charge_Start      69 non-null     float64\n",
      " 5   Battery_State_of_Charge_End        69 non-null     float64\n",
      " 6   Change_In_Battery_State_of_Charge  69 non-null     float64\n",
      " 7   Ambient_Temperature_Start_Celsius  69 non-null     float64\n",
      " 8   Target_Cabin_Temperature           69 non-null     float64\n",
      " 9   Distance_km                        69 non-null     float64\n",
      " 10  Duration_min                       69 non-null     float64\n",
      " 11  Fan                                69 non-null     object \n",
      "dtypes: float64(9), object(3)\n",
      "memory usage: 7.0+ KB\n"
     ]
    }
   ],
   "source": [
    "# Confirm the record was removed and column names were changed\n",
    "evbattemp.info()"
   ]
  },
  {
   "cell_type": "markdown",
   "id": "699abc6d",
   "metadata": {},
   "source": [
    "**Observations**\n",
    "- Change the columns with \"Object\" data types to \"Category\" for meaningful grouping"
   ]
  },
  {
   "cell_type": "code",
   "execution_count": 16,
   "id": "6bd6beb9",
   "metadata": {
    "id": "6bd6beb9"
   },
   "outputs": [],
   "source": [
    "# change data types of category columns\n",
    "evbattemp['Route_Area'] = evbattemp['Route_Area'].astype('category')\n",
    "evbattemp['Weather'] = evbattemp['Weather'].astype('category')\n",
    "evbattemp['Fan'] = evbattemp['Fan'].astype('category')"
   ]
  },
  {
   "cell_type": "code",
   "execution_count": 17,
   "id": "64953f41",
   "metadata": {
    "id": "64953f41"
   },
   "outputs": [
    {
     "name": "stdout",
     "output_type": "stream",
     "text": [
      "<class 'pandas.core.frame.DataFrame'>\n",
      "Int64Index: 69 entries, 0 to 71\n",
      "Data columns (total 12 columns):\n",
      " #   Column                             Non-Null Count  Dtype   \n",
      "---  ------                             --------------  -----   \n",
      " 0   Route_Area                         69 non-null     category\n",
      " 1   Weather                            69 non-null     category\n",
      " 2   Battery_Temperature_Start_Celsius  69 non-null     float64 \n",
      " 3   Battery_Temperature_End            69 non-null     float64 \n",
      " 4   Battery_State_of_Charge_Start      69 non-null     float64 \n",
      " 5   Battery_State_of_Charge_End        69 non-null     float64 \n",
      " 6   Change_In_Battery_State_of_Charge  69 non-null     float64 \n",
      " 7   Ambient_Temperature_Start_Celsius  69 non-null     float64 \n",
      " 8   Target_Cabin_Temperature           69 non-null     float64 \n",
      " 9   Distance_km                        69 non-null     float64 \n",
      " 10  Duration_min                       69 non-null     float64 \n",
      " 11  Fan                                69 non-null     category\n",
      "dtypes: category(3), float64(9)\n",
      "memory usage: 6.4 KB\n"
     ]
    }
   ],
   "source": [
    "# confirm the date type change for the category columns\n",
    "evbattemp.info()"
   ]
  },
  {
   "cell_type": "markdown",
   "id": "6d198ad0",
   "metadata": {},
   "source": [
    "**Observatons**\n",
    "- Data is cleaned now add the calculated columns as per requirements"
   ]
  },
  {
   "cell_type": "code",
   "execution_count": 18,
   "id": "d1276d9a",
   "metadata": {
    "id": "d1276d9a"
   },
   "outputs": [],
   "source": [
    "# make a copy of the original data set\n",
    "evbattemp_old = evbattemp"
   ]
  },
  {
   "cell_type": "code",
   "execution_count": 19,
   "id": "6a06ccd6",
   "metadata": {
    "id": "6a06ccd6"
   },
   "outputs": [],
   "source": [
    "# adding Battery State of Charge Rate\n",
    "evbattemp['Battery_State_of_Charge_Rate'] = evbattemp['Change_In_Battery_State_of_Charge']/evbattemp['Duration_min']"
   ]
  },
  {
   "cell_type": "code",
   "execution_count": 20,
   "id": "920886bc",
   "metadata": {
    "id": "920886bc"
   },
   "outputs": [],
   "source": [
    "# adding Battery Rate of Heating Column\n",
    "#evbattemp['Battery_Rate_of_Heating'] = (evbattemp['Battery_Temperature_Start_Celsius'] - evbattemp['Battery_Temperature_End'])/evbattemp['Duration_min']\n",
    "evbattemp['Battery_Rate_of_Heating'] = (evbattemp['Battery_Temperature_End'] - evbattemp['Battery_Temperature_Start_Celsius'])/evbattemp['Duration_min']"
   ]
  },
  {
   "cell_type": "code",
   "execution_count": 21,
   "id": "65fe1d61",
   "metadata": {
    "id": "65fe1d61"
   },
   "outputs": [],
   "source": [
    "# convert the category date type columns to ordinal values\n",
    "# first create temp data set to handle the conversion\n",
    "#evbattemp_cat_columns = evbattemp.select_dtypes(['category']).columns"
   ]
  },
  {
   "cell_type": "code",
   "execution_count": 22,
   "id": "cba8718b",
   "metadata": {
    "id": "cba8718b"
   },
   "outputs": [],
   "source": [
    "# convert the category date type columns to ordinal values\n",
    "# second perform the category data type conversion\n",
    "#evbattemp[evbattemp_cat_columns] = evbattemp[evbattemp_cat_columns].apply(lambda x: x.cat.codes)"
   ]
  },
  {
   "cell_type": "code",
   "execution_count": 21,
   "id": "66ec7ffe",
   "metadata": {
    "id": "66ec7ffe"
   },
   "outputs": [
    {
     "data": {
      "text/html": [
       "<div>\n",
       "<style scoped>\n",
       "    .dataframe tbody tr th:only-of-type {\n",
       "        vertical-align: middle;\n",
       "    }\n",
       "\n",
       "    .dataframe tbody tr th {\n",
       "        vertical-align: top;\n",
       "    }\n",
       "\n",
       "    .dataframe thead th {\n",
       "        text-align: right;\n",
       "    }\n",
       "</style>\n",
       "<table border=\"1\" class=\"dataframe\">\n",
       "  <thead>\n",
       "    <tr style=\"text-align: right;\">\n",
       "      <th></th>\n",
       "      <th>Route_Area</th>\n",
       "      <th>Weather</th>\n",
       "      <th>Battery_Temperature_Start_Celsius</th>\n",
       "      <th>Battery_Temperature_End</th>\n",
       "      <th>Battery_State_of_Charge_Start</th>\n",
       "      <th>Battery_State_of_Charge_End</th>\n",
       "      <th>Change_In_Battery_State_of_Charge</th>\n",
       "      <th>Ambient_Temperature_Start_Celsius</th>\n",
       "      <th>Target_Cabin_Temperature</th>\n",
       "      <th>Distance_km</th>\n",
       "      <th>Duration_min</th>\n",
       "      <th>Fan</th>\n",
       "      <th>Battery_State_of_Charge_Rate</th>\n",
       "      <th>Battery_Rate_of_Heating</th>\n",
       "    </tr>\n",
       "  </thead>\n",
       "  <tbody>\n",
       "    <tr>\n",
       "      <th>0</th>\n",
       "      <td>Munich East</td>\n",
       "      <td>sunny</td>\n",
       "      <td>21.0</td>\n",
       "      <td>22.0</td>\n",
       "      <td>0.863</td>\n",
       "      <td>0.803</td>\n",
       "      <td>0.060</td>\n",
       "      <td>25.5</td>\n",
       "      <td>23.0</td>\n",
       "      <td>7.427690</td>\n",
       "      <td>16.820000</td>\n",
       "      <td>Automatic, Level 1</td>\n",
       "      <td>0.003567</td>\n",
       "      <td>0.059453</td>\n",
       "    </tr>\n",
       "    <tr>\n",
       "      <th>1</th>\n",
       "      <td>Munich East</td>\n",
       "      <td>sunny</td>\n",
       "      <td>23.0</td>\n",
       "      <td>26.0</td>\n",
       "      <td>0.803</td>\n",
       "      <td>0.673</td>\n",
       "      <td>0.130</td>\n",
       "      <td>32.0</td>\n",
       "      <td>23.0</td>\n",
       "      <td>23.509709</td>\n",
       "      <td>23.550000</td>\n",
       "      <td>Automatic, Level 1</td>\n",
       "      <td>0.005520</td>\n",
       "      <td>0.127389</td>\n",
       "    </tr>\n",
       "    <tr>\n",
       "      <th>2</th>\n",
       "      <td>Munich East</td>\n",
       "      <td>sunny</td>\n",
       "      <td>24.0</td>\n",
       "      <td>25.0</td>\n",
       "      <td>0.835</td>\n",
       "      <td>0.751</td>\n",
       "      <td>0.084</td>\n",
       "      <td>21.5</td>\n",
       "      <td>27.0</td>\n",
       "      <td>12.820846</td>\n",
       "      <td>11.180000</td>\n",
       "      <td>Automatic, Level 1</td>\n",
       "      <td>0.007513</td>\n",
       "      <td>0.089445</td>\n",
       "    </tr>\n",
       "    <tr>\n",
       "      <th>3</th>\n",
       "      <td>Munich East</td>\n",
       "      <td>sunny</td>\n",
       "      <td>25.0</td>\n",
       "      <td>27.0</td>\n",
       "      <td>0.751</td>\n",
       "      <td>0.667</td>\n",
       "      <td>0.084</td>\n",
       "      <td>24.0</td>\n",
       "      <td>22.0</td>\n",
       "      <td>10.727491</td>\n",
       "      <td>6.870000</td>\n",
       "      <td>Automatic, Level 1</td>\n",
       "      <td>0.012227</td>\n",
       "      <td>0.291121</td>\n",
       "    </tr>\n",
       "    <tr>\n",
       "      <th>4</th>\n",
       "      <td>Munich East</td>\n",
       "      <td>sunny</td>\n",
       "      <td>27.0</td>\n",
       "      <td>27.0</td>\n",
       "      <td>0.667</td>\n",
       "      <td>0.602</td>\n",
       "      <td>0.065</td>\n",
       "      <td>24.5</td>\n",
       "      <td>24.0</td>\n",
       "      <td>12.393223</td>\n",
       "      <td>22.776667</td>\n",
       "      <td>Automatic, Level 1</td>\n",
       "      <td>0.002854</td>\n",
       "      <td>0.000000</td>\n",
       "    </tr>\n",
       "  </tbody>\n",
       "</table>\n",
       "</div>"
      ],
      "text/plain": [
       "    Route_Area Weather  Battery_Temperature_Start_Celsius  \\\n",
       "0  Munich East   sunny                               21.0   \n",
       "1  Munich East   sunny                               23.0   \n",
       "2  Munich East   sunny                               24.0   \n",
       "3  Munich East   sunny                               25.0   \n",
       "4  Munich East   sunny                               27.0   \n",
       "\n",
       "   Battery_Temperature_End  Battery_State_of_Charge_Start  \\\n",
       "0                     22.0                          0.863   \n",
       "1                     26.0                          0.803   \n",
       "2                     25.0                          0.835   \n",
       "3                     27.0                          0.751   \n",
       "4                     27.0                          0.667   \n",
       "\n",
       "   Battery_State_of_Charge_End  Change_In_Battery_State_of_Charge  \\\n",
       "0                        0.803                              0.060   \n",
       "1                        0.673                              0.130   \n",
       "2                        0.751                              0.084   \n",
       "3                        0.667                              0.084   \n",
       "4                        0.602                              0.065   \n",
       "\n",
       "   Ambient_Temperature_Start_Celsius  Target_Cabin_Temperature  Distance_km  \\\n",
       "0                               25.5                      23.0     7.427690   \n",
       "1                               32.0                      23.0    23.509709   \n",
       "2                               21.5                      27.0    12.820846   \n",
       "3                               24.0                      22.0    10.727491   \n",
       "4                               24.5                      24.0    12.393223   \n",
       "\n",
       "   Duration_min                 Fan  Battery_State_of_Charge_Rate  \\\n",
       "0     16.820000  Automatic, Level 1                      0.003567   \n",
       "1     23.550000  Automatic, Level 1                      0.005520   \n",
       "2     11.180000  Automatic, Level 1                      0.007513   \n",
       "3      6.870000  Automatic, Level 1                      0.012227   \n",
       "4     22.776667  Automatic, Level 1                      0.002854   \n",
       "\n",
       "   Battery_Rate_of_Heating  \n",
       "0                 0.059453  \n",
       "1                 0.127389  \n",
       "2                 0.089445  \n",
       "3                 0.291121  \n",
       "4                 0.000000  "
      ]
     },
     "execution_count": 21,
     "metadata": {},
     "output_type": "execute_result"
    }
   ],
   "source": [
    "# confirm the new columns were added\n",
    "evbattemp.head()"
   ]
  },
  {
   "cell_type": "code",
   "execution_count": 22,
   "id": "0226f912",
   "metadata": {
    "id": "0226f912"
   },
   "outputs": [
    {
     "name": "stdout",
     "output_type": "stream",
     "text": [
      "<class 'pandas.core.frame.DataFrame'>\n",
      "Int64Index: 69 entries, 0 to 71\n",
      "Data columns (total 14 columns):\n",
      " #   Column                             Non-Null Count  Dtype   \n",
      "---  ------                             --------------  -----   \n",
      " 0   Route_Area                         69 non-null     category\n",
      " 1   Weather                            69 non-null     category\n",
      " 2   Battery_Temperature_Start_Celsius  69 non-null     float64 \n",
      " 3   Battery_Temperature_End            69 non-null     float64 \n",
      " 4   Battery_State_of_Charge_Start      69 non-null     float64 \n",
      " 5   Battery_State_of_Charge_End        69 non-null     float64 \n",
      " 6   Change_In_Battery_State_of_Charge  69 non-null     float64 \n",
      " 7   Ambient_Temperature_Start_Celsius  69 non-null     float64 \n",
      " 8   Target_Cabin_Temperature           69 non-null     float64 \n",
      " 9   Distance_km                        69 non-null     float64 \n",
      " 10  Duration_min                       69 non-null     float64 \n",
      " 11  Fan                                69 non-null     category\n",
      " 12  Battery_State_of_Charge_Rate       69 non-null     float64 \n",
      " 13  Battery_Rate_of_Heating            69 non-null     float64 \n",
      "dtypes: category(3), float64(11)\n",
      "memory usage: 7.5 KB\n"
     ]
    }
   ],
   "source": [
    "# confirm the new columns were added\n",
    "evbattemp.info()"
   ]
  },
  {
   "cell_type": "code",
   "execution_count": 25,
   "id": "22349fdc",
   "metadata": {
    "id": "22349fdc"
   },
   "outputs": [],
   "source": [
    "# convert category columns to float to match the continous data just like the columns for better analysis\n",
    "# change data types of category columns\n",
    "#evbattemp['Route_Area'] = evbattemp['Route_Area'].astype('float64')\n",
    "#evbattemp['Weather'] = evbattemp['Weather'].astype('float64')"
   ]
  },
  {
   "cell_type": "code",
   "execution_count": 26,
   "id": "849a3e25",
   "metadata": {
    "id": "849a3e25"
   },
   "outputs": [],
   "source": [
    "# confirm the date type change for the category columns\n",
    "# evbattemp.info()"
   ]
  },
  {
   "cell_type": "markdown",
   "id": "c413288d",
   "metadata": {
    "id": "c413288d"
   },
   "source": [
    "## **Exploratory Data Analysis:**\n",
    "- Review unique values in each column\n",
    "- Perform Univariate Analysis for numerical and categorical columns\n",
    "- Perform Bivariate Analysis against numerical calculated columns and categorical columns\n",
    "- Perform Multivariate Analysis for data visualization of correlationa\n",
    "- Perform a Principal Component Analysis for further verification of correlation between Dependent and Independent variables"
   ]
  },
  {
   "cell_type": "code",
   "execution_count": 23,
   "id": "d7eb5b93",
   "metadata": {
    "id": "d7eb5b93"
   },
   "outputs": [
    {
     "data": {
      "text/plain": [
       "Route_Area                            8\n",
       "Weather                               8\n",
       "Battery_Temperature_Start_Celsius    30\n",
       "Battery_Temperature_End              24\n",
       "Battery_State_of_Charge_Start        60\n",
       "Battery_State_of_Charge_End          65\n",
       "Change_In_Battery_State_of_Charge    63\n",
       "Ambient_Temperature_Start_Celsius    39\n",
       "Target_Cabin_Temperature             12\n",
       "Distance_km                          69\n",
       "Duration_min                         69\n",
       "Fan                                   2\n",
       "Battery_State_of_Charge_Rate         69\n",
       "Battery_Rate_of_Heating              59\n",
       "dtype: int64"
      ]
     },
     "execution_count": 23,
     "metadata": {},
     "output_type": "execute_result"
    }
   ],
   "source": [
    "# Checking unique values in each column\n",
    "evbattemp.nunique()"
   ]
  },
  {
   "cell_type": "markdown",
   "id": "d5e18724",
   "metadata": {},
   "source": [
    "**Observatons**\n",
    "- \"Route_Area\" and \"Weather\" columns have only 8 unique values out of 70 rows, this would suggest these values are ordinal\n",
    "- \"Fan\" column has only 2 unique values out of 70 rows, this would suggest these values are ordinal\n",
    "- \"Target_Cabin_Temperature\" column has only 12 unique values out of 70 rows, this would suggest these values are intervals\n",
    "- \"Battery_Temperature_Start_Celsius\", \"Battery_Temperature_End\", and \"Ambient_Temperature_Start_Celsius\" columns have less than 40 unique values out of 70 rows, this would suggest these values are intervals\n",
    "- The rest of the other columns not list in the observations have close to 70 rows and this would sugesst these values are ratio"
   ]
  },
  {
   "cell_type": "markdown",
   "id": "a4e5816f",
   "metadata": {
    "id": "a4e5816f"
   },
   "source": [
    "### **Univariate analysis of numerical columns**"
   ]
  },
  {
   "cell_type": "code",
   "execution_count": 26,
   "id": "06efb0c0",
   "metadata": {},
   "outputs": [],
   "source": [
    "#create data set for numerical columns only for analysis\n",
    "evbattemp_numerical = evbattemp.drop(['Route_Area', 'Weather','Fan'], axis = 1)"
   ]
  },
  {
   "cell_type": "code",
   "execution_count": 27,
   "id": "2793605b",
   "metadata": {
    "id": "2793605b"
   },
   "outputs": [
    {
     "data": {
      "text/html": [
       "<div>\n",
       "<style scoped>\n",
       "    .dataframe tbody tr th:only-of-type {\n",
       "        vertical-align: middle;\n",
       "    }\n",
       "\n",
       "    .dataframe tbody tr th {\n",
       "        vertical-align: top;\n",
       "    }\n",
       "\n",
       "    .dataframe thead th {\n",
       "        text-align: right;\n",
       "    }\n",
       "</style>\n",
       "<table border=\"1\" class=\"dataframe\">\n",
       "  <thead>\n",
       "    <tr style=\"text-align: right;\">\n",
       "      <th></th>\n",
       "      <th>count</th>\n",
       "      <th>mean</th>\n",
       "      <th>std</th>\n",
       "      <th>min</th>\n",
       "      <th>25%</th>\n",
       "      <th>50%</th>\n",
       "      <th>75%</th>\n",
       "      <th>max</th>\n",
       "    </tr>\n",
       "  </thead>\n",
       "  <tbody>\n",
       "    <tr>\n",
       "      <th>Battery_Temperature_Start_Celsius</th>\n",
       "      <td>69.0</td>\n",
       "      <td>14.289855</td>\n",
       "      <td>7.784036</td>\n",
       "      <td>-1.000000</td>\n",
       "      <td>8.000000</td>\n",
       "      <td>14.000000</td>\n",
       "      <td>20.000000</td>\n",
       "      <td>30.000000</td>\n",
       "    </tr>\n",
       "    <tr>\n",
       "      <th>Battery_Temperature_End</th>\n",
       "      <td>69.0</td>\n",
       "      <td>16.536232</td>\n",
       "      <td>6.616778</td>\n",
       "      <td>3.000000</td>\n",
       "      <td>11.000000</td>\n",
       "      <td>15.000000</td>\n",
       "      <td>21.000000</td>\n",
       "      <td>30.000000</td>\n",
       "    </tr>\n",
       "    <tr>\n",
       "      <th>Battery_State_of_Charge_Start</th>\n",
       "      <td>69.0</td>\n",
       "      <td>0.732348</td>\n",
       "      <td>0.141920</td>\n",
       "      <td>0.315000</td>\n",
       "      <td>0.674000</td>\n",
       "      <td>0.755000</td>\n",
       "      <td>0.848000</td>\n",
       "      <td>0.885000</td>\n",
       "    </tr>\n",
       "    <tr>\n",
       "      <th>Battery_State_of_Charge_End</th>\n",
       "      <td>69.0</td>\n",
       "      <td>0.597667</td>\n",
       "      <td>0.165625</td>\n",
       "      <td>0.154000</td>\n",
       "      <td>0.504000</td>\n",
       "      <td>0.637000</td>\n",
       "      <td>0.715000</td>\n",
       "      <td>0.829000</td>\n",
       "    </tr>\n",
       "    <tr>\n",
       "      <th>Change_In_Battery_State_of_Charge</th>\n",
       "      <td>69.0</td>\n",
       "      <td>0.145319</td>\n",
       "      <td>0.111361</td>\n",
       "      <td>0.019000</td>\n",
       "      <td>0.081000</td>\n",
       "      <td>0.122000</td>\n",
       "      <td>0.161000</td>\n",
       "      <td>0.719000</td>\n",
       "    </tr>\n",
       "    <tr>\n",
       "      <th>Ambient_Temperature_Start_Celsius</th>\n",
       "      <td>69.0</td>\n",
       "      <td>12.413043</td>\n",
       "      <td>9.935437</td>\n",
       "      <td>-3.000000</td>\n",
       "      <td>3.500000</td>\n",
       "      <td>7.500000</td>\n",
       "      <td>21.500000</td>\n",
       "      <td>33.500000</td>\n",
       "    </tr>\n",
       "    <tr>\n",
       "      <th>Target_Cabin_Temperature</th>\n",
       "      <td>69.0</td>\n",
       "      <td>23.485507</td>\n",
       "      <td>2.523377</td>\n",
       "      <td>21.000000</td>\n",
       "      <td>22.000000</td>\n",
       "      <td>22.000000</td>\n",
       "      <td>25.000000</td>\n",
       "      <td>33.000000</td>\n",
       "    </tr>\n",
       "    <tr>\n",
       "      <th>Distance_km</th>\n",
       "      <td>69.0</td>\n",
       "      <td>19.394547</td>\n",
       "      <td>11.696113</td>\n",
       "      <td>2.782300</td>\n",
       "      <td>12.393223</td>\n",
       "      <td>16.425200</td>\n",
       "      <td>19.370888</td>\n",
       "      <td>60.974700</td>\n",
       "    </tr>\n",
       "    <tr>\n",
       "      <th>Duration_min</th>\n",
       "      <td>69.0</td>\n",
       "      <td>25.728768</td>\n",
       "      <td>14.634992</td>\n",
       "      <td>5.906667</td>\n",
       "      <td>16.820000</td>\n",
       "      <td>23.380000</td>\n",
       "      <td>30.370000</td>\n",
       "      <td>93.501667</td>\n",
       "    </tr>\n",
       "    <tr>\n",
       "      <th>Battery_State_of_Charge_Rate</th>\n",
       "      <td>69.0</td>\n",
       "      <td>0.006134</td>\n",
       "      <td>0.004522</td>\n",
       "      <td>0.001932</td>\n",
       "      <td>0.003509</td>\n",
       "      <td>0.005770</td>\n",
       "      <td>0.007513</td>\n",
       "      <td>0.036347</td>\n",
       "    </tr>\n",
       "    <tr>\n",
       "      <th>Battery_Rate_of_Heating</th>\n",
       "      <td>69.0</td>\n",
       "      <td>0.091166</td>\n",
       "      <td>0.075833</td>\n",
       "      <td>-0.037204</td>\n",
       "      <td>0.042328</td>\n",
       "      <td>0.078609</td>\n",
       "      <td>0.127389</td>\n",
       "      <td>0.355872</td>\n",
       "    </tr>\n",
       "  </tbody>\n",
       "</table>\n",
       "</div>"
      ],
      "text/plain": [
       "                                   count       mean        std        min  \\\n",
       "Battery_Temperature_Start_Celsius   69.0  14.289855   7.784036  -1.000000   \n",
       "Battery_Temperature_End             69.0  16.536232   6.616778   3.000000   \n",
       "Battery_State_of_Charge_Start       69.0   0.732348   0.141920   0.315000   \n",
       "Battery_State_of_Charge_End         69.0   0.597667   0.165625   0.154000   \n",
       "Change_In_Battery_State_of_Charge   69.0   0.145319   0.111361   0.019000   \n",
       "Ambient_Temperature_Start_Celsius   69.0  12.413043   9.935437  -3.000000   \n",
       "Target_Cabin_Temperature            69.0  23.485507   2.523377  21.000000   \n",
       "Distance_km                         69.0  19.394547  11.696113   2.782300   \n",
       "Duration_min                        69.0  25.728768  14.634992   5.906667   \n",
       "Battery_State_of_Charge_Rate        69.0   0.006134   0.004522   0.001932   \n",
       "Battery_Rate_of_Heating             69.0   0.091166   0.075833  -0.037204   \n",
       "\n",
       "                                         25%        50%        75%        max  \n",
       "Battery_Temperature_Start_Celsius   8.000000  14.000000  20.000000  30.000000  \n",
       "Battery_Temperature_End            11.000000  15.000000  21.000000  30.000000  \n",
       "Battery_State_of_Charge_Start       0.674000   0.755000   0.848000   0.885000  \n",
       "Battery_State_of_Charge_End         0.504000   0.637000   0.715000   0.829000  \n",
       "Change_In_Battery_State_of_Charge   0.081000   0.122000   0.161000   0.719000  \n",
       "Ambient_Temperature_Start_Celsius   3.500000   7.500000  21.500000  33.500000  \n",
       "Target_Cabin_Temperature           22.000000  22.000000  25.000000  33.000000  \n",
       "Distance_km                        12.393223  16.425200  19.370888  60.974700  \n",
       "Duration_min                       16.820000  23.380000  30.370000  93.501667  \n",
       "Battery_State_of_Charge_Rate        0.003509   0.005770   0.007513   0.036347  \n",
       "Battery_Rate_of_Heating             0.042328   0.078609   0.127389   0.355872  "
      ]
     },
     "execution_count": 27,
     "metadata": {},
     "output_type": "execute_result"
    }
   ],
   "source": [
    "# Checking summary statistics\n",
    "evbattemp_numerical.describe().T"
   ]
  },
  {
   "cell_type": "markdown",
   "id": "8cb6afdb",
   "metadata": {
    "id": "8cb6afdb"
   },
   "source": [
    "**Observations:**\n",
    "- Each column has a count of 69 values\n",
    "- Columns with continous data values \"Battery_State_of_Charge_Start\", \"Battery_State_of_Charge_End\", \"Change_In_Battery_State_of_Charge\",\"Distance_km\", \"Duration_min\", \"Ambient_Temperature_Start_Celsius\"\n",
    "- The average distance traveled is 19.4 kilometers\n",
    "- The average duration of travel is 25.72 minutes"
   ]
  },
  {
   "cell_type": "markdown",
   "id": "44cf579f",
   "metadata": {
    "id": "44cf579f"
   },
   "source": [
    "**Let's explore these variables in some more depth by observing their distributions**"
   ]
  },
  {
   "cell_type": "code",
   "execution_count": 30,
   "id": "af1c75c2",
   "metadata": {
    "id": "af1c75c2"
   },
   "outputs": [
    {
     "data": {
      "image/png": "[encoded data removed]",
      "text/plain": [
       "<Figure size 1400x1400 with 12 Axes>"
      ]
     },
     "metadata": {},
     "output_type": "display_data"
    }
   ],
   "source": [
    "# Creating histograms\n",
    "evbattemp_numerical.hist(figsize=(14,14))\n",
    "plt.show()"
   ]
  },
  {
   "cell_type": "markdown",
   "id": "921bae52",
   "metadata": {
    "id": "921bae52"
   },
   "source": [
    "**Observations:**\n",
    "\n",
    "- **Route_Area** 4 and 5 have the most values that are associated in the data set.\n",
    "\n",
    "- **Weather** 4 and 5 have the most values that are associated in the data set.\n",
    "\n",
    "- **Battery_Temperature_Start_Celsius** has a bimodal distribution.\n",
    "\n",
    "- **Battery_Temperature_End** has a uniform distribution.\n",
    "\n",
    "- **Battery_State_of_Charge_Start** is leftly skewed.\n",
    "\n",
    "- **Battery_State_of_Charge_End** is also leftly skewed and shows that not much energy from the battery is being drained during travel. \n",
    "\n",
    "- **Change_In_Battery_State_of_Charge** is rightly skewed and with a small standard deviation, this confirms not much energy from battery is being used during travel.\n",
    "\n",
    "- **Ambient_Temperature_Start_Celsius** has a bimodal distribution.\n",
    "\n",
    "- **Target_Cabin_Temperature** is leftly skewed. \n",
    "\n",
    "- **Distance_km** has normal distribution and most distance travel is 20KM or less.\n",
    "\n",
    "- **Duration_min** is leftly skewed with most duration of travel less than 40 minutes."
   ]
  },
  {
   "cell_type": "markdown",
   "id": "c593cd93",
   "metadata": {
    "id": "c593cd93"
   },
   "source": [
    "### **Univariate analysis for categorical variables**"
   ]
  },
  {
   "cell_type": "code",
   "execution_count": 31,
   "id": "46330cbe",
   "metadata": {
    "id": "46330cbe"
   },
   "outputs": [],
   "source": [
    "#Create new columnar data sets to be used for Exploratory Data Analysis\n",
    "\n",
    "# Creating ratio columns\n",
    "# all numbers are meaningful, including zeros and the difference matters\n",
    "ratio_cols=['Distance_km','Duration_min']\n",
    "\n",
    "# Creating interval columns\n",
    "# zero values are arbitrary but the difference matters\n",
    "interval_cols= ['Battery_Temperature_Start_Celsius','Battery_Temperature_End','Battery_State_of_Charge_Start', \n",
    "                'Battery_State_of_Charge_End','Change_In_Battery_State_of_Charge', 'Ambient_Temperature_Start_Celsius',\n",
    "                'Target_Cabin_Temperature','Battery_State_of_Charge_Rate','Battery_Rate_of_Heating']\n",
    "\n",
    "# Creating ordinal columns\n",
    "# Columns used to help describe the other data\n",
    "ordinal_cols= ['Route_Area','Weather', 'Fan']"
   ]
  },
  {
   "cell_type": "code",
   "execution_count": 32,
   "id": "2a6a3598",
   "metadata": {
    "id": "2a6a3598"
   },
   "outputs": [
    {
     "name": "stdout",
     "output_type": "stream",
     "text": [
      "Munich East         0.449275\n",
      "Munich North        0.304348\n",
      "FTMRoute            0.101449\n",
      "Highway             0.043478\n",
      "Munich South        0.043478\n",
      "Munich Northeast    0.028986\n",
      "FTMRoute (2x)       0.014493\n",
      "FTMRoute reverse    0.014493\n",
      "Name: Route_Area, dtype: float64\n",
      "****************************************\n",
      "sunny                 0.376812\n",
      "slightly cloudy       0.289855\n",
      "cloudy                0.173913\n",
      "dark                  0.057971\n",
      "sunrise               0.043478\n",
      "rainy                 0.028986\n",
      "dark, little rainy    0.014493\n",
      "sunset                0.014493\n",
      "Name: Weather, dtype: float64\n",
      "****************************************\n",
      "Automatic, Level 1                                         0.985507\n",
      "Automatic, Level 1 (screen defrost for the first 2 min)    0.014493\n",
      "Name: Fan, dtype: float64\n",
      "****************************************\n"
     ]
    }
   ],
   "source": [
    "# Printing the % sub categories of each category\n",
    "for i in ordinal_cols:\n",
    "    print(evbattemp[i].value_counts(normalize=True))\n",
    "    print('*'*40)"
   ]
  },
  {
   "cell_type": "markdown",
   "id": "f6234ca0",
   "metadata": {
    "id": "f6234ca0"
   },
   "source": [
    "### **Bivariate Analysis**\n",
    "We have analyzed the numerical and categorical variables individually. Let's now check how does \"Battery_Rate_of_Heating\" and \"Battery_State_of_Charge_Rate\" are related with the 2 categorical variables."
   ]
  },
  {
   "cell_type": "code",
   "execution_count": 33,
   "id": "fd173d02",
   "metadata": {},
   "outputs": [
    {
     "data": {
      "image/png": "[encoded data removed]",
      "text/plain": [
       "<Figure size 1000x600 with 1 Axes>"
      ]
     },
     "metadata": {},
     "output_type": "display_data"
    }
   ],
   "source": [
    "plt.figure(figsize=(10, 6))\n",
    "sns.boxplot(\n",
    "    data=evbattemp, x='Route_Area', y='Battery_Rate_of_Heating', palette=\"gist_rainbow\"\n",
    ")\n",
    "plt.show()  "
   ]
  },
  {
   "cell_type": "code",
   "execution_count": 34,
   "id": "40d5c8fc",
   "metadata": {},
   "outputs": [
    {
     "data": {
      "image/png": "[encoded data removed]",
      "text/plain": [
       "<Figure size 1000x600 with 1 Axes>"
      ]
     },
     "metadata": {},
     "output_type": "display_data"
    }
   ],
   "source": [
    "plt.figure(figsize=(10, 6))\n",
    "sns.boxplot(\n",
    "    data=evbattemp, x='Weather', y='Battery_Rate_of_Heating', palette=\"gist_rainbow\"\n",
    ")\n",
    "plt.show()  "
   ]
  },
  {
   "cell_type": "code",
   "execution_count": 35,
   "id": "5073252d",
   "metadata": {},
   "outputs": [
    {
     "data": {
      "image/png": "[encoded data removed]",
      "text/plain": [
       "<Figure size 1000x600 with 1 Axes>"
      ]
     },
     "metadata": {},
     "output_type": "display_data"
    }
   ],
   "source": [
    "plt.figure(figsize=(10, 6))\n",
    "sns.boxplot(\n",
    "    data=evbattemp, x='Route_Area', y='Battery_State_of_Charge_Rate', palette=\"gist_rainbow\"\n",
    ")\n",
    "plt.show()  "
   ]
  },
  {
   "cell_type": "code",
   "execution_count": 36,
   "id": "eee80b6d",
   "metadata": {},
   "outputs": [
    {
     "data": {
      "image/png": "[encoded data removed]",
      "text/plain": [
       "<Figure size 1000x600 with 1 Axes>"
      ]
     },
     "metadata": {},
     "output_type": "display_data"
    }
   ],
   "source": [
    "plt.figure(figsize=(10, 6))\n",
    "sns.boxplot(\n",
    "    data=evbattemp, x='Weather', y='Battery_State_of_Charge_Rate', palette=\"gist_rainbow\"\n",
    ")\n",
    "plt.show() "
   ]
  },
  {
   "cell_type": "markdown",
   "id": "60b0af3f",
   "metadata": {},
   "source": [
    "**Observatons**\n",
    "- Make observations about the analysis"
   ]
  },
  {
   "cell_type": "markdown",
   "id": "bfcef3ef",
   "metadata": {},
   "source": [
    "### **Scatter Plot Analysis**\n",
    "- shows the relationship between Battery_State_of_Charge_Rate and Battery_Rate_of_Heating"
   ]
  },
  {
   "cell_type": "code",
   "execution_count": 37,
   "id": "ec77db11",
   "metadata": {},
   "outputs": [
    {
     "data": {
      "image/png": "[encoded data removed]",
      "text/plain": [
       "<Figure size 1000x500 with 1 Axes>"
      ]
     },
     "metadata": {},
     "output_type": "display_data"
    }
   ],
   "source": [
    "plt.figure(figsize=(10, 5))\n",
    "sns.scatterplot(y=evbattemp['Battery_State_of_Charge_Rate'], x=evbattemp['Battery_Rate_of_Heating'], legend='brief')\n",
    "plt.show()"
   ]
  },
  {
   "cell_type": "markdown",
   "id": "a817e2de",
   "metadata": {},
   "source": [
    "**Observatons**\n",
    "- Make observations about the analysis"
   ]
  },
  {
   "cell_type": "markdown",
   "id": "9c580302",
   "metadata": {
    "id": "9c580302"
   },
   "source": [
    "### **Multivariate analysis**\n",
    "- Let's check the relationship between different numerical variables"
   ]
  },
  {
   "cell_type": "code",
   "execution_count": 38,
   "id": "435311cc",
   "metadata": {
    "id": "435311cc"
   },
   "outputs": [
    {
     "data": {
      "text/plain": [
       "<AxesSubplot:>"
      ]
     },
     "execution_count": 38,
     "metadata": {},
     "output_type": "execute_result"
    },
    {
     "data": {
      "image/png": "[encoded data removed]",
      "text/plain": [
       "<Figure size 1500x800 with 2 Axes>"
      ]
     },
     "metadata": {},
     "output_type": "display_data"
    }
   ],
   "source": [
    "# Plotting the correlation between numerical variables\n",
    "plt.figure(figsize=(15,8))\n",
    "sns.heatmap(evbattemp.corr(),annot=True, fmt='0.2f', cmap='YlGnBu')"
   ]
  },
  {
   "cell_type": "markdown",
   "id": "b72dfb07",
   "metadata": {
    "id": "b72dfb07"
   },
   "source": [
    "**Observations:**\n",
    "\n",
    "- The listed columns have the strongest relationship to column \"Battery_Temperature_End\" in the following order: **Battery_Temperature_Start_Celsius, Ambient_Temperature_Start_Celsius, Target_Cabin_Temperature, Battery_State_of_Charge_End, Battery_State_of_Charge_Start, Weather** which is easy to understand as these variables show an increase with \"Battery_Temperature_Start_Celsius\" showing the closest relationship to \"Battery_Temperature_End\". \n",
    "- Columns \"Route_Area\" and \"Distance_km\" have the lowest correllation with \"Battery_Temperature_End\".\n",
    "- The question relates about distance but we need to remove it as there is no relationship."
   ]
  },
  {
   "cell_type": "code",
   "execution_count": 39,
   "id": "0aaf5b38",
   "metadata": {
    "id": "0aaf5b38"
   },
   "outputs": [
    {
     "name": "stdout",
     "output_type": "stream",
     "text": [
      "<class 'pandas.core.frame.DataFrame'>\n",
      "Int64Index: 69 entries, 0 to 71\n",
      "Data columns (total 11 columns):\n",
      " #   Column                             Non-Null Count  Dtype  \n",
      "---  ------                             --------------  -----  \n",
      " 0   Battery_Temperature_Start_Celsius  69 non-null     float64\n",
      " 1   Battery_Temperature_End            69 non-null     float64\n",
      " 2   Battery_State_of_Charge_Start      69 non-null     float64\n",
      " 3   Battery_State_of_Charge_End        69 non-null     float64\n",
      " 4   Change_In_Battery_State_of_Charge  69 non-null     float64\n",
      " 5   Ambient_Temperature_Start_Celsius  69 non-null     float64\n",
      " 6   Target_Cabin_Temperature           69 non-null     float64\n",
      " 7   Distance_km                        69 non-null     float64\n",
      " 8   Duration_min                       69 non-null     float64\n",
      " 9   Battery_State_of_Charge_Rate       69 non-null     float64\n",
      " 10  Battery_Rate_of_Heating            69 non-null     float64\n",
      "dtypes: float64(11)\n",
      "memory usage: 6.5 KB\n"
     ]
    }
   ],
   "source": [
    "# review the data set\n",
    "evbattemp_numerical.info()"
   ]
  },
  {
   "cell_type": "code",
   "execution_count": 40,
   "id": "1dcfff2b",
   "metadata": {},
   "outputs": [
    {
     "data": {
      "text/plain": [
       "11"
      ]
     },
     "execution_count": 40,
     "metadata": {},
     "output_type": "execute_result"
    }
   ],
   "source": [
    "# review the data set shape\n",
    "evbattemp_numerical.shape[1]"
   ]
  },
  {
   "cell_type": "markdown",
   "id": "5e360753",
   "metadata": {},
   "source": [
    "## Principal Component Analysis"
   ]
  },
  {
   "cell_type": "code",
   "execution_count": 41,
   "id": "14a42a1a",
   "metadata": {},
   "outputs": [],
   "source": [
    "#Defining the number of principal components to generate \n",
    "n=evbattemp_numerical.shape[1]\n",
    "\n",
    "#Finding principal components for the data\n",
    "pca = PCA(n_components=n, random_state=1)\n",
    "evbattemp_numerical_pca1 = pd.DataFrame(pca.fit_transform(evbattemp_numerical))\n",
    "\n",
    "#The percentage of variance explained by each principal component\n",
    "exp_var = pca.explained_variance_ratio_"
   ]
  },
  {
   "cell_type": "code",
   "execution_count": 42,
   "id": "0eae0c4b",
   "metadata": {},
   "outputs": [
    {
     "data": {
      "text/plain": [
       "Text(0, 0.5, 'Cumulative Explained Variance')"
      ]
     },
     "execution_count": 42,
     "metadata": {},
     "output_type": "execute_result"
    },
    {
     "data": {
      "image/png": "[encoded data removed]",
      "text/plain": [
       "<Figure size 1000x1000 with 1 Axes>"
      ]
     },
     "metadata": {},
     "output_type": "display_data"
    }
   ],
   "source": [
    "# visualize the Explained Individual Components\n",
    "plt.figure(figsize = (10,10))\n",
    "plt.plot(range(1,12), pca.explained_variance_ratio_.cumsum(), marker = 'o', linestyle = '--')\n",
    "plt.title(\"Explained Variances by Components\")\n",
    "plt.xlabel(\"Number of Components\")\n",
    "plt.ylabel(\"Cumulative Explained Variance\")"
   ]
  },
  {
   "cell_type": "code",
   "execution_count": 43,
   "id": "ea2e70bb",
   "metadata": {},
   "outputs": [
    {
     "name": "stdout",
     "output_type": "stream",
     "text": [
      "Number of PCs that explain at least 70% variance:  2\n"
     ]
    }
   ],
   "source": [
    "# find the least number of components that can explain more than 70% variance\n",
    "sum = 0\n",
    "for ix, i in enumerate(exp_var):\n",
    "  sum = sum + i\n",
    "  if(sum>0.70):\n",
    "    print(\"Number of PCs that explain at least 70% variance: \", ix+1)\n",
    "    break"
   ]
  },
  {
   "cell_type": "code",
   "execution_count": 45,
   "id": "a38caa94",
   "metadata": {},
   "outputs": [],
   "source": [
    "# put data in a dataframe\n",
    "pc_comps = ['PC1','PC2','PC3','PC4']\n",
    "data_pca = pd.DataFrame(np.round(pca.components_[:4,:],2),index=pc_comps,columns=evbattemp_numerical.columns)"
   ]
  },
  {
   "cell_type": "code",
   "execution_count": 46,
   "id": "77529789",
   "metadata": {},
   "outputs": [
    {
     "data": {
      "text/html": [
       "<div>\n",
       "<style scoped>\n",
       "    .dataframe tbody tr th:only-of-type {\n",
       "        vertical-align: middle;\n",
       "    }\n",
       "\n",
       "    .dataframe tbody tr th {\n",
       "        vertical-align: top;\n",
       "    }\n",
       "\n",
       "    .dataframe thead th {\n",
       "        text-align: right;\n",
       "    }\n",
       "</style>\n",
       "<table border=\"1\" class=\"dataframe\">\n",
       "  <thead>\n",
       "    <tr style=\"text-align: right;\">\n",
       "      <th></th>\n",
       "      <th>PC1</th>\n",
       "      <th>PC2</th>\n",
       "      <th>PC3</th>\n",
       "      <th>PC4</th>\n",
       "    </tr>\n",
       "  </thead>\n",
       "  <tbody>\n",
       "    <tr>\n",
       "      <th>Battery_Temperature_Start_Celsius</th>\n",
       "      <td>-0.12</td>\n",
       "      <td>0.52</td>\n",
       "      <td>-0.03</td>\n",
       "      <td>0.59</td>\n",
       "    </tr>\n",
       "    <tr>\n",
       "      <th>Battery_Temperature_End</th>\n",
       "      <td>-0.02</td>\n",
       "      <td>0.46</td>\n",
       "      <td>0.08</td>\n",
       "      <td>0.39</td>\n",
       "    </tr>\n",
       "    <tr>\n",
       "      <th>Battery_State_of_Charge_Start</th>\n",
       "      <td>0.00</td>\n",
       "      <td>0.00</td>\n",
       "      <td>-0.00</td>\n",
       "      <td>-0.01</td>\n",
       "    </tr>\n",
       "    <tr>\n",
       "      <th>Battery_State_of_Charge_End</th>\n",
       "      <td>-0.00</td>\n",
       "      <td>0.01</td>\n",
       "      <td>-0.01</td>\n",
       "      <td>-0.01</td>\n",
       "    </tr>\n",
       "    <tr>\n",
       "      <th>Change_In_Battery_State_of_Charge</th>\n",
       "      <td>0.00</td>\n",
       "      <td>-0.00</td>\n",
       "      <td>0.01</td>\n",
       "      <td>-0.00</td>\n",
       "    </tr>\n",
       "    <tr>\n",
       "      <th>Ambient_Temperature_Start_Celsius</th>\n",
       "      <td>-0.07</td>\n",
       "      <td>0.70</td>\n",
       "      <td>0.02</td>\n",
       "      <td>-0.66</td>\n",
       "    </tr>\n",
       "    <tr>\n",
       "      <th>Target_Cabin_Temperature</th>\n",
       "      <td>-0.02</td>\n",
       "      <td>0.11</td>\n",
       "      <td>0.04</td>\n",
       "      <td>-0.26</td>\n",
       "    </tr>\n",
       "    <tr>\n",
       "      <th>Distance_km</th>\n",
       "      <td>0.60</td>\n",
       "      <td>0.05</td>\n",
       "      <td>0.79</td>\n",
       "      <td>0.02</td>\n",
       "    </tr>\n",
       "    <tr>\n",
       "      <th>Duration_min</th>\n",
       "      <td>0.78</td>\n",
       "      <td>0.12</td>\n",
       "      <td>-0.61</td>\n",
       "      <td>0.02</td>\n",
       "    </tr>\n",
       "    <tr>\n",
       "      <th>Battery_State_of_Charge_Rate</th>\n",
       "      <td>-0.00</td>\n",
       "      <td>-0.00</td>\n",
       "      <td>0.00</td>\n",
       "      <td>-0.00</td>\n",
       "    </tr>\n",
       "    <tr>\n",
       "      <th>Battery_Rate_of_Heating</th>\n",
       "      <td>0.00</td>\n",
       "      <td>-0.00</td>\n",
       "      <td>0.01</td>\n",
       "      <td>-0.01</td>\n",
       "    </tr>\n",
       "  </tbody>\n",
       "</table>\n",
       "</div>"
      ],
      "text/plain": [
       "                                    PC1   PC2   PC3   PC4\n",
       "Battery_Temperature_Start_Celsius -0.12  0.52 -0.03  0.59\n",
       "Battery_Temperature_End           -0.02  0.46  0.08  0.39\n",
       "Battery_State_of_Charge_Start      0.00  0.00 -0.00 -0.01\n",
       "Battery_State_of_Charge_End       -0.00  0.01 -0.01 -0.01\n",
       "Change_In_Battery_State_of_Charge  0.00 -0.00  0.01 -0.00\n",
       "Ambient_Temperature_Start_Celsius -0.07  0.70  0.02 -0.66\n",
       "Target_Cabin_Temperature          -0.02  0.11  0.04 -0.26\n",
       "Distance_km                        0.60  0.05  0.79  0.02\n",
       "Duration_min                       0.78  0.12 -0.61  0.02\n",
       "Battery_State_of_Charge_Rate      -0.00 -0.00  0.00 -0.00\n",
       "Battery_Rate_of_Heating            0.00 -0.00  0.01 -0.01"
      ]
     },
     "execution_count": 46,
     "metadata": {},
     "output_type": "execute_result"
    }
   ],
   "source": [
    "#review the data\n",
    "data_pca.T"
   ]
  },
  {
   "cell_type": "code",
   "execution_count": 47,
   "id": "209a6fea",
   "metadata": {},
   "outputs": [],
   "source": [
    "# functon to visualize the good variables versus the bad variables\n",
    "def color_high(val):\n",
    "    if val <-0.25: # you can decide any value as per your understanding\n",
    "        return 'background: pink'\n",
    "    elif val >0.25:\n",
    "        return 'background: skyblue'   "
   ]
  },
  {
   "cell_type": "code",
   "execution_count": 52,
   "id": "8e936202",
   "metadata": {},
   "outputs": [
    {
     "ename": "KeyError",
     "evalue": "0",
     "output_type": "error",
     "traceback": [
      "\u001b[1;31m---------------------------------------------------------------------------\u001b[0m",
      "\u001b[1;31mKeyError\u001b[0m                                  Traceback (most recent call last)",
      "File \u001b[1;32m~\\anaconda3\\lib\\site-packages\\pandas\\core\\indexes\\base.py:3629\u001b[0m, in \u001b[0;36mIndex.get_loc\u001b[1;34m(self, key, method, tolerance)\u001b[0m\n\u001b[0;32m   3628\u001b[0m \u001b[38;5;28;01mtry\u001b[39;00m:\n\u001b[1;32m-> 3629\u001b[0m     \u001b[38;5;28;01mreturn\u001b[39;00m \u001b[38;5;28;43mself\u001b[39;49m\u001b[38;5;241;43m.\u001b[39;49m\u001b[43m_engine\u001b[49m\u001b[38;5;241;43m.\u001b[39;49m\u001b[43mget_loc\u001b[49m\u001b[43m(\u001b[49m\u001b[43mcasted_key\u001b[49m\u001b[43m)\u001b[49m\n\u001b[0;32m   3630\u001b[0m \u001b[38;5;28;01mexcept\u001b[39;00m \u001b[38;5;167;01mKeyError\u001b[39;00m \u001b[38;5;28;01mas\u001b[39;00m err:\n",
      "File \u001b[1;32m~\\anaconda3\\lib\\site-packages\\pandas\\_libs\\index.pyx:136\u001b[0m, in \u001b[0;36mpandas._libs.index.IndexEngine.get_loc\u001b[1;34m()\u001b[0m\n",
      "File \u001b[1;32m~\\anaconda3\\lib\\site-packages\\pandas\\_libs\\index.pyx:163\u001b[0m, in \u001b[0;36mpandas._libs.index.IndexEngine.get_loc\u001b[1;34m()\u001b[0m\n",
      "File \u001b[1;32mpandas\\_libs\\hashtable_class_helper.pxi:5198\u001b[0m, in \u001b[0;36mpandas._libs.hashtable.PyObjectHashTable.get_item\u001b[1;34m()\u001b[0m\n",
      "File \u001b[1;32mpandas\\_libs\\hashtable_class_helper.pxi:5206\u001b[0m, in \u001b[0;36mpandas._libs.hashtable.PyObjectHashTable.get_item\u001b[1;34m()\u001b[0m\n",
      "\u001b[1;31mKeyError\u001b[0m: 0",
      "\nThe above exception was the direct cause of the following exception:\n",
      "\u001b[1;31mKeyError\u001b[0m                                  Traceback (most recent call last)",
      "Input \u001b[1;32mIn [52]\u001b[0m, in \u001b[0;36m<cell line: 3>\u001b[1;34m()\u001b[0m\n\u001b[0;32m      1\u001b[0m \u001b[38;5;66;03m# scatter map\u001b[39;00m\n\u001b[0;32m      2\u001b[0m plt\u001b[38;5;241m.\u001b[39mfigure(figsize \u001b[38;5;241m=\u001b[39m (\u001b[38;5;241m7\u001b[39m,\u001b[38;5;241m7\u001b[39m))\n\u001b[1;32m----> 3\u001b[0m sns\u001b[38;5;241m.\u001b[39mscatterplot(x\u001b[38;5;241m=\u001b[39m\u001b[43mdata_pca\u001b[49m\u001b[43m[\u001b[49m\u001b[38;5;241;43m0\u001b[39;49m\u001b[43m]\u001b[49m,y\u001b[38;5;241m=\u001b[39mdata_pca[\u001b[38;5;241m1\u001b[39m])\n\u001b[0;32m      4\u001b[0m plt\u001b[38;5;241m.\u001b[39mxlabel(\u001b[38;5;124m\"\u001b[39m\u001b[38;5;124mPC1\u001b[39m\u001b[38;5;124m\"\u001b[39m)\n\u001b[0;32m      5\u001b[0m plt\u001b[38;5;241m.\u001b[39mylabel(\u001b[38;5;124m\"\u001b[39m\u001b[38;5;124mPC2\u001b[39m\u001b[38;5;124m\"\u001b[39m)\n",
      "File \u001b[1;32m~\\anaconda3\\lib\\site-packages\\pandas\\core\\frame.py:3505\u001b[0m, in \u001b[0;36mDataFrame.__getitem__\u001b[1;34m(self, key)\u001b[0m\n\u001b[0;32m   3503\u001b[0m \u001b[38;5;28;01mif\u001b[39;00m \u001b[38;5;28mself\u001b[39m\u001b[38;5;241m.\u001b[39mcolumns\u001b[38;5;241m.\u001b[39mnlevels \u001b[38;5;241m>\u001b[39m \u001b[38;5;241m1\u001b[39m:\n\u001b[0;32m   3504\u001b[0m     \u001b[38;5;28;01mreturn\u001b[39;00m \u001b[38;5;28mself\u001b[39m\u001b[38;5;241m.\u001b[39m_getitem_multilevel(key)\n\u001b[1;32m-> 3505\u001b[0m indexer \u001b[38;5;241m=\u001b[39m \u001b[38;5;28;43mself\u001b[39;49m\u001b[38;5;241;43m.\u001b[39;49m\u001b[43mcolumns\u001b[49m\u001b[38;5;241;43m.\u001b[39;49m\u001b[43mget_loc\u001b[49m\u001b[43m(\u001b[49m\u001b[43mkey\u001b[49m\u001b[43m)\u001b[49m\n\u001b[0;32m   3506\u001b[0m \u001b[38;5;28;01mif\u001b[39;00m is_integer(indexer):\n\u001b[0;32m   3507\u001b[0m     indexer \u001b[38;5;241m=\u001b[39m [indexer]\n",
      "File \u001b[1;32m~\\anaconda3\\lib\\site-packages\\pandas\\core\\indexes\\base.py:3631\u001b[0m, in \u001b[0;36mIndex.get_loc\u001b[1;34m(self, key, method, tolerance)\u001b[0m\n\u001b[0;32m   3629\u001b[0m     \u001b[38;5;28;01mreturn\u001b[39;00m \u001b[38;5;28mself\u001b[39m\u001b[38;5;241m.\u001b[39m_engine\u001b[38;5;241m.\u001b[39mget_loc(casted_key)\n\u001b[0;32m   3630\u001b[0m \u001b[38;5;28;01mexcept\u001b[39;00m \u001b[38;5;167;01mKeyError\u001b[39;00m \u001b[38;5;28;01mas\u001b[39;00m err:\n\u001b[1;32m-> 3631\u001b[0m     \u001b[38;5;28;01mraise\u001b[39;00m \u001b[38;5;167;01mKeyError\u001b[39;00m(key) \u001b[38;5;28;01mfrom\u001b[39;00m \u001b[38;5;21;01merr\u001b[39;00m\n\u001b[0;32m   3632\u001b[0m \u001b[38;5;28;01mexcept\u001b[39;00m \u001b[38;5;167;01mTypeError\u001b[39;00m:\n\u001b[0;32m   3633\u001b[0m     \u001b[38;5;66;03m# If we have a listlike key, _check_indexing_error will raise\u001b[39;00m\n\u001b[0;32m   3634\u001b[0m     \u001b[38;5;66;03m#  InvalidIndexError. Otherwise we fall through and re-raise\u001b[39;00m\n\u001b[0;32m   3635\u001b[0m     \u001b[38;5;66;03m#  the TypeError.\u001b[39;00m\n\u001b[0;32m   3636\u001b[0m     \u001b[38;5;28mself\u001b[39m\u001b[38;5;241m.\u001b[39m_check_indexing_error(key)\n",
      "\u001b[1;31mKeyError\u001b[0m: 0"
     ]
    },
    {
     "data": {
      "text/plain": [
       "<Figure size 700x700 with 0 Axes>"
      ]
     },
     "metadata": {},
     "output_type": "display_data"
    }
   ],
   "source": [
    "# scatter map\n",
    "plt.figure(figsize = (7,7))\n",
    "sns.scatterplot(x=data_pca[0],y=data_pca[1])\n",
    "plt.xlabel(\"PC1\")\n",
    "plt.ylabel(\"PC2\")"
   ]
  },
  {
   "cell_type": "markdown",
   "id": "3a57e8cb",
   "metadata": {},
   "source": [
    "**Observatons**\n",
    "- Make observations about the analysis"
   ]
  },
  {
   "cell_type": "markdown",
   "id": "794749a5",
   "metadata": {},
   "source": [
    "## **Data Preparation:**\n",
    "- Define your dependent and independent variables\n",
    "- Encode Catagory Variables"
   ]
  },
  {
   "cell_type": "markdown",
   "id": "0fc122cd",
   "metadata": {},
   "source": [
    " **Define the dependent variable**"
   ]
  },
  {
   "cell_type": "code",
   "execution_count": 53,
   "id": "dfaf113c",
   "metadata": {
    "id": "dfaf113c"
   },
   "outputs": [],
   "source": [
    "# define dependent and independent variables\n",
    "independent_variables = evbattemp.drop(['Battery_Rate_of_Heating'], axis = 1)\n",
    "dependent_variable = evbattemp[['Battery_Rate_of_Heating']]"
   ]
  },
  {
   "cell_type": "markdown",
   "id": "ab8fcd93",
   "metadata": {},
   "source": [
    " **Encode the categorical variables**"
   ]
  },
  {
   "cell_type": "code",
   "execution_count": 54,
   "id": "ce2659cd",
   "metadata": {
    "id": "ce2659cd"
   },
   "outputs": [],
   "source": [
    "def encode_cat_vars(x):\n",
    "    x = pd.get_dummies(\n",
    "        x,\n",
    "        columns = x.select_dtypes(include = [\"object\", \"category\"]).columns.tolist(),\n",
    "        drop_first = True,\n",
    "    )\n",
    "    return x\n",
    "\n",
    "\n",
    "independent_variables_numerical = encode_cat_vars(independent_variables)"
   ]
  },
  {
   "cell_type": "code",
   "execution_count": 55,
   "id": "f6407fed",
   "metadata": {},
   "outputs": [
    {
     "data": {
      "text/html": [
       "<div>\n",
       "<style scoped>\n",
       "    .dataframe tbody tr th:only-of-type {\n",
       "        vertical-align: middle;\n",
       "    }\n",
       "\n",
       "    .dataframe tbody tr th {\n",
       "        vertical-align: top;\n",
       "    }\n",
       "\n",
       "    .dataframe thead th {\n",
       "        text-align: right;\n",
       "    }\n",
       "</style>\n",
       "<table border=\"1\" class=\"dataframe\">\n",
       "  <thead>\n",
       "    <tr style=\"text-align: right;\">\n",
       "      <th></th>\n",
       "      <th>Battery_Temperature_Start_Celsius</th>\n",
       "      <th>Battery_Temperature_End</th>\n",
       "      <th>Battery_State_of_Charge_Start</th>\n",
       "      <th>Battery_State_of_Charge_End</th>\n",
       "      <th>Change_In_Battery_State_of_Charge</th>\n",
       "      <th>Ambient_Temperature_Start_Celsius</th>\n",
       "      <th>Target_Cabin_Temperature</th>\n",
       "      <th>Distance_km</th>\n",
       "      <th>Duration_min</th>\n",
       "      <th>Battery_State_of_Charge_Rate</th>\n",
       "      <th>...</th>\n",
       "      <th>Route_Area_Munich Northeast</th>\n",
       "      <th>Route_Area_Munich South</th>\n",
       "      <th>Weather_dark</th>\n",
       "      <th>Weather_dark, little rainy</th>\n",
       "      <th>Weather_rainy</th>\n",
       "      <th>Weather_slightly cloudy</th>\n",
       "      <th>Weather_sunny</th>\n",
       "      <th>Weather_sunrise</th>\n",
       "      <th>Weather_sunset</th>\n",
       "      <th>Fan_Automatic, Level 1 (screen defrost for the first 2 min)</th>\n",
       "    </tr>\n",
       "  </thead>\n",
       "  <tbody>\n",
       "    <tr>\n",
       "      <th>0</th>\n",
       "      <td>21.0</td>\n",
       "      <td>22.0</td>\n",
       "      <td>0.863</td>\n",
       "      <td>0.803</td>\n",
       "      <td>0.060</td>\n",
       "      <td>25.5</td>\n",
       "      <td>23.0</td>\n",
       "      <td>7.427690</td>\n",
       "      <td>16.820000</td>\n",
       "      <td>0.003567</td>\n",
       "      <td>...</td>\n",
       "      <td>0</td>\n",
       "      <td>0</td>\n",
       "      <td>0</td>\n",
       "      <td>0</td>\n",
       "      <td>0</td>\n",
       "      <td>0</td>\n",
       "      <td>1</td>\n",
       "      <td>0</td>\n",
       "      <td>0</td>\n",
       "      <td>0</td>\n",
       "    </tr>\n",
       "    <tr>\n",
       "      <th>1</th>\n",
       "      <td>23.0</td>\n",
       "      <td>26.0</td>\n",
       "      <td>0.803</td>\n",
       "      <td>0.673</td>\n",
       "      <td>0.130</td>\n",
       "      <td>32.0</td>\n",
       "      <td>23.0</td>\n",
       "      <td>23.509709</td>\n",
       "      <td>23.550000</td>\n",
       "      <td>0.005520</td>\n",
       "      <td>...</td>\n",
       "      <td>0</td>\n",
       "      <td>0</td>\n",
       "      <td>0</td>\n",
       "      <td>0</td>\n",
       "      <td>0</td>\n",
       "      <td>0</td>\n",
       "      <td>1</td>\n",
       "      <td>0</td>\n",
       "      <td>0</td>\n",
       "      <td>0</td>\n",
       "    </tr>\n",
       "    <tr>\n",
       "      <th>2</th>\n",
       "      <td>24.0</td>\n",
       "      <td>25.0</td>\n",
       "      <td>0.835</td>\n",
       "      <td>0.751</td>\n",
       "      <td>0.084</td>\n",
       "      <td>21.5</td>\n",
       "      <td>27.0</td>\n",
       "      <td>12.820846</td>\n",
       "      <td>11.180000</td>\n",
       "      <td>0.007513</td>\n",
       "      <td>...</td>\n",
       "      <td>0</td>\n",
       "      <td>0</td>\n",
       "      <td>0</td>\n",
       "      <td>0</td>\n",
       "      <td>0</td>\n",
       "      <td>0</td>\n",
       "      <td>1</td>\n",
       "      <td>0</td>\n",
       "      <td>0</td>\n",
       "      <td>0</td>\n",
       "    </tr>\n",
       "    <tr>\n",
       "      <th>3</th>\n",
       "      <td>25.0</td>\n",
       "      <td>27.0</td>\n",
       "      <td>0.751</td>\n",
       "      <td>0.667</td>\n",
       "      <td>0.084</td>\n",
       "      <td>24.0</td>\n",
       "      <td>22.0</td>\n",
       "      <td>10.727491</td>\n",
       "      <td>6.870000</td>\n",
       "      <td>0.012227</td>\n",
       "      <td>...</td>\n",
       "      <td>0</td>\n",
       "      <td>0</td>\n",
       "      <td>0</td>\n",
       "      <td>0</td>\n",
       "      <td>0</td>\n",
       "      <td>0</td>\n",
       "      <td>1</td>\n",
       "      <td>0</td>\n",
       "      <td>0</td>\n",
       "      <td>0</td>\n",
       "    </tr>\n",
       "    <tr>\n",
       "      <th>4</th>\n",
       "      <td>27.0</td>\n",
       "      <td>27.0</td>\n",
       "      <td>0.667</td>\n",
       "      <td>0.602</td>\n",
       "      <td>0.065</td>\n",
       "      <td>24.5</td>\n",
       "      <td>24.0</td>\n",
       "      <td>12.393223</td>\n",
       "      <td>22.776667</td>\n",
       "      <td>0.002854</td>\n",
       "      <td>...</td>\n",
       "      <td>0</td>\n",
       "      <td>0</td>\n",
       "      <td>0</td>\n",
       "      <td>0</td>\n",
       "      <td>0</td>\n",
       "      <td>0</td>\n",
       "      <td>1</td>\n",
       "      <td>0</td>\n",
       "      <td>0</td>\n",
       "      <td>0</td>\n",
       "    </tr>\n",
       "  </tbody>\n",
       "</table>\n",
       "<p>5 rows × 25 columns</p>\n",
       "</div>"
      ],
      "text/plain": [
       "   Battery_Temperature_Start_Celsius  Battery_Temperature_End  \\\n",
       "0                               21.0                     22.0   \n",
       "1                               23.0                     26.0   \n",
       "2                               24.0                     25.0   \n",
       "3                               25.0                     27.0   \n",
       "4                               27.0                     27.0   \n",
       "\n",
       "   Battery_State_of_Charge_Start  Battery_State_of_Charge_End  \\\n",
       "0                          0.863                        0.803   \n",
       "1                          0.803                        0.673   \n",
       "2                          0.835                        0.751   \n",
       "3                          0.751                        0.667   \n",
       "4                          0.667                        0.602   \n",
       "\n",
       "   Change_In_Battery_State_of_Charge  Ambient_Temperature_Start_Celsius  \\\n",
       "0                              0.060                               25.5   \n",
       "1                              0.130                               32.0   \n",
       "2                              0.084                               21.5   \n",
       "3                              0.084                               24.0   \n",
       "4                              0.065                               24.5   \n",
       "\n",
       "   Target_Cabin_Temperature  Distance_km  Duration_min  \\\n",
       "0                      23.0     7.427690     16.820000   \n",
       "1                      23.0    23.509709     23.550000   \n",
       "2                      27.0    12.820846     11.180000   \n",
       "3                      22.0    10.727491      6.870000   \n",
       "4                      24.0    12.393223     22.776667   \n",
       "\n",
       "   Battery_State_of_Charge_Rate  ...  Route_Area_Munich Northeast  \\\n",
       "0                      0.003567  ...                            0   \n",
       "1                      0.005520  ...                            0   \n",
       "2                      0.007513  ...                            0   \n",
       "3                      0.012227  ...                            0   \n",
       "4                      0.002854  ...                            0   \n",
       "\n",
       "   Route_Area_Munich South  Weather_dark  Weather_dark, little rainy  \\\n",
       "0                        0             0                           0   \n",
       "1                        0             0                           0   \n",
       "2                        0             0                           0   \n",
       "3                        0             0                           0   \n",
       "4                        0             0                           0   \n",
       "\n",
       "   Weather_rainy  Weather_slightly cloudy  Weather_sunny  Weather_sunrise  \\\n",
       "0              0                        0              1                0   \n",
       "1              0                        0              1                0   \n",
       "2              0                        0              1                0   \n",
       "3              0                        0              1                0   \n",
       "4              0                        0              1                0   \n",
       "\n",
       "   Weather_sunset  Fan_Automatic, Level 1 (screen defrost for the first 2 min)  \n",
       "0               0                                                  0            \n",
       "1               0                                                  0            \n",
       "2               0                                                  0            \n",
       "3               0                                                  0            \n",
       "4               0                                                  0            \n",
       "\n",
       "[5 rows x 25 columns]"
      ]
     },
     "execution_count": 55,
     "metadata": {},
     "output_type": "execute_result"
    }
   ],
   "source": [
    "# Review the data\n",
    "independent_variables_numerical.head()"
   ]
  },
  {
   "cell_type": "code",
   "execution_count": 56,
   "id": "8b3cfa28",
   "metadata": {},
   "outputs": [
    {
     "name": "stdout",
     "output_type": "stream",
     "text": [
      "<class 'pandas.core.frame.DataFrame'>\n",
      "Int64Index: 69 entries, 0 to 71\n",
      "Data columns (total 25 columns):\n",
      " #   Column                                                       Non-Null Count  Dtype  \n",
      "---  ------                                                       --------------  -----  \n",
      " 0   Battery_Temperature_Start_Celsius                            69 non-null     float64\n",
      " 1   Battery_Temperature_End                                      69 non-null     float64\n",
      " 2   Battery_State_of_Charge_Start                                69 non-null     float64\n",
      " 3   Battery_State_of_Charge_End                                  69 non-null     float64\n",
      " 4   Change_In_Battery_State_of_Charge                            69 non-null     float64\n",
      " 5   Ambient_Temperature_Start_Celsius                            69 non-null     float64\n",
      " 6   Target_Cabin_Temperature                                     69 non-null     float64\n",
      " 7   Distance_km                                                  69 non-null     float64\n",
      " 8   Duration_min                                                 69 non-null     float64\n",
      " 9   Battery_State_of_Charge_Rate                                 69 non-null     float64\n",
      " 10  Route_Area_FTMRoute (2x)                                     69 non-null     uint8  \n",
      " 11  Route_Area_FTMRoute reverse                                  69 non-null     uint8  \n",
      " 12  Route_Area_Highway                                           69 non-null     uint8  \n",
      " 13  Route_Area_Munich East                                       69 non-null     uint8  \n",
      " 14  Route_Area_Munich North                                      69 non-null     uint8  \n",
      " 15  Route_Area_Munich Northeast                                  69 non-null     uint8  \n",
      " 16  Route_Area_Munich South                                      69 non-null     uint8  \n",
      " 17  Weather_dark                                                 69 non-null     uint8  \n",
      " 18  Weather_dark, little rainy                                   69 non-null     uint8  \n",
      " 19  Weather_rainy                                                69 non-null     uint8  \n",
      " 20  Weather_slightly cloudy                                      69 non-null     uint8  \n",
      " 21  Weather_sunny                                                69 non-null     uint8  \n",
      " 22  Weather_sunrise                                              69 non-null     uint8  \n",
      " 23  Weather_sunset                                               69 non-null     uint8  \n",
      " 24  Fan_Automatic, Level 1 (screen defrost for the first 2 min)  69 non-null     uint8  \n",
      "dtypes: float64(10), uint8(15)\n",
      "memory usage: 6.9 KB\n"
     ]
    }
   ],
   "source": [
    "independent_variables_numerical.info()"
   ]
  },
  {
   "cell_type": "markdown",
   "id": "4506bd7d",
   "metadata": {},
   "source": [
    "**Observatons**\n",
    "- Rename Columns for standardization"
   ]
  },
  {
   "cell_type": "code",
   "execution_count": 57,
   "id": "d46c040c",
   "metadata": {},
   "outputs": [],
   "source": [
    "# rename columns with non-alpanumeric and replace spaces with underscores for easier usability\n",
    "independent_variables_numerical.rename(columns={'Route_Area_FTMRoute (2x)':'Route_Area_FTMRoute_2x'}, inplace=True)\n",
    "independent_variables_numerical.rename(columns={'Route_Area_FTMRoute reverse':'Route_Area_FTMRoute_Reverse'}, inplace=True)\n",
    "independent_variables_numerical.rename(columns={'Route_Area_Munich East':'Route_Area_Munich_East'}, inplace=True)\n",
    "independent_variables_numerical.rename(columns={'Route_Area_Munich North':'Route_Area_Munich_North'}, inplace=True)\n",
    "independent_variables_numerical.rename(columns={'Route_Area_Munich Northeast':'Route_Area_Munich_Northeast'}, inplace=True)\n",
    "independent_variables_numerical.rename(columns={'Route_Area_Munich South':'Route_Area_Munich_South'}, inplace=True)\n",
    "independent_variables_numerical.rename(columns={'Weather_dark, little rainy':'Weather_dark_Little_Rainy'}, inplace=True)\n",
    "independent_variables_numerical.rename(columns={'Fan_Automatic, Level 1 (screen defrost for the first 2 min)':'Fan_Automatic_Level_1_screen defrost_first_2_min'}, inplace=True)"
   ]
  },
  {
   "cell_type": "code",
   "execution_count": 58,
   "id": "96db3a08",
   "metadata": {
    "id": "96db3a08"
   },
   "outputs": [
    {
     "data": {
      "text/html": [
       "<div>\n",
       "<style scoped>\n",
       "    .dataframe tbody tr th:only-of-type {\n",
       "        vertical-align: middle;\n",
       "    }\n",
       "\n",
       "    .dataframe tbody tr th {\n",
       "        vertical-align: top;\n",
       "    }\n",
       "\n",
       "    .dataframe thead th {\n",
       "        text-align: right;\n",
       "    }\n",
       "</style>\n",
       "<table border=\"1\" class=\"dataframe\">\n",
       "  <thead>\n",
       "    <tr style=\"text-align: right;\">\n",
       "      <th></th>\n",
       "      <th>Battery_Temperature_Start_Celsius</th>\n",
       "      <th>Battery_Temperature_End</th>\n",
       "      <th>Battery_State_of_Charge_Start</th>\n",
       "      <th>Battery_State_of_Charge_End</th>\n",
       "      <th>Change_In_Battery_State_of_Charge</th>\n",
       "      <th>Ambient_Temperature_Start_Celsius</th>\n",
       "      <th>Target_Cabin_Temperature</th>\n",
       "      <th>Distance_km</th>\n",
       "      <th>Duration_min</th>\n",
       "      <th>Battery_State_of_Charge_Rate</th>\n",
       "      <th>...</th>\n",
       "      <th>Route_Area_Munich_Northeast</th>\n",
       "      <th>Route_Area_Munich_South</th>\n",
       "      <th>Weather_dark</th>\n",
       "      <th>Weather_dark_Little_Rainy</th>\n",
       "      <th>Weather_rainy</th>\n",
       "      <th>Weather_slightly cloudy</th>\n",
       "      <th>Weather_sunny</th>\n",
       "      <th>Weather_sunrise</th>\n",
       "      <th>Weather_sunset</th>\n",
       "      <th>Fan_Automatic_Level_1_screen defrost_first_2_min</th>\n",
       "    </tr>\n",
       "  </thead>\n",
       "  <tbody>\n",
       "    <tr>\n",
       "      <th>0</th>\n",
       "      <td>21.0</td>\n",
       "      <td>22.0</td>\n",
       "      <td>0.863</td>\n",
       "      <td>0.803</td>\n",
       "      <td>0.060</td>\n",
       "      <td>25.5</td>\n",
       "      <td>23.0</td>\n",
       "      <td>7.427690</td>\n",
       "      <td>16.820000</td>\n",
       "      <td>0.003567</td>\n",
       "      <td>...</td>\n",
       "      <td>0</td>\n",
       "      <td>0</td>\n",
       "      <td>0</td>\n",
       "      <td>0</td>\n",
       "      <td>0</td>\n",
       "      <td>0</td>\n",
       "      <td>1</td>\n",
       "      <td>0</td>\n",
       "      <td>0</td>\n",
       "      <td>0</td>\n",
       "    </tr>\n",
       "    <tr>\n",
       "      <th>1</th>\n",
       "      <td>23.0</td>\n",
       "      <td>26.0</td>\n",
       "      <td>0.803</td>\n",
       "      <td>0.673</td>\n",
       "      <td>0.130</td>\n",
       "      <td>32.0</td>\n",
       "      <td>23.0</td>\n",
       "      <td>23.509709</td>\n",
       "      <td>23.550000</td>\n",
       "      <td>0.005520</td>\n",
       "      <td>...</td>\n",
       "      <td>0</td>\n",
       "      <td>0</td>\n",
       "      <td>0</td>\n",
       "      <td>0</td>\n",
       "      <td>0</td>\n",
       "      <td>0</td>\n",
       "      <td>1</td>\n",
       "      <td>0</td>\n",
       "      <td>0</td>\n",
       "      <td>0</td>\n",
       "    </tr>\n",
       "    <tr>\n",
       "      <th>2</th>\n",
       "      <td>24.0</td>\n",
       "      <td>25.0</td>\n",
       "      <td>0.835</td>\n",
       "      <td>0.751</td>\n",
       "      <td>0.084</td>\n",
       "      <td>21.5</td>\n",
       "      <td>27.0</td>\n",
       "      <td>12.820846</td>\n",
       "      <td>11.180000</td>\n",
       "      <td>0.007513</td>\n",
       "      <td>...</td>\n",
       "      <td>0</td>\n",
       "      <td>0</td>\n",
       "      <td>0</td>\n",
       "      <td>0</td>\n",
       "      <td>0</td>\n",
       "      <td>0</td>\n",
       "      <td>1</td>\n",
       "      <td>0</td>\n",
       "      <td>0</td>\n",
       "      <td>0</td>\n",
       "    </tr>\n",
       "    <tr>\n",
       "      <th>3</th>\n",
       "      <td>25.0</td>\n",
       "      <td>27.0</td>\n",
       "      <td>0.751</td>\n",
       "      <td>0.667</td>\n",
       "      <td>0.084</td>\n",
       "      <td>24.0</td>\n",
       "      <td>22.0</td>\n",
       "      <td>10.727491</td>\n",
       "      <td>6.870000</td>\n",
       "      <td>0.012227</td>\n",
       "      <td>...</td>\n",
       "      <td>0</td>\n",
       "      <td>0</td>\n",
       "      <td>0</td>\n",
       "      <td>0</td>\n",
       "      <td>0</td>\n",
       "      <td>0</td>\n",
       "      <td>1</td>\n",
       "      <td>0</td>\n",
       "      <td>0</td>\n",
       "      <td>0</td>\n",
       "    </tr>\n",
       "    <tr>\n",
       "      <th>4</th>\n",
       "      <td>27.0</td>\n",
       "      <td>27.0</td>\n",
       "      <td>0.667</td>\n",
       "      <td>0.602</td>\n",
       "      <td>0.065</td>\n",
       "      <td>24.5</td>\n",
       "      <td>24.0</td>\n",
       "      <td>12.393223</td>\n",
       "      <td>22.776667</td>\n",
       "      <td>0.002854</td>\n",
       "      <td>...</td>\n",
       "      <td>0</td>\n",
       "      <td>0</td>\n",
       "      <td>0</td>\n",
       "      <td>0</td>\n",
       "      <td>0</td>\n",
       "      <td>0</td>\n",
       "      <td>1</td>\n",
       "      <td>0</td>\n",
       "      <td>0</td>\n",
       "      <td>0</td>\n",
       "    </tr>\n",
       "  </tbody>\n",
       "</table>\n",
       "<p>5 rows × 25 columns</p>\n",
       "</div>"
      ],
      "text/plain": [
       "   Battery_Temperature_Start_Celsius  Battery_Temperature_End  \\\n",
       "0                               21.0                     22.0   \n",
       "1                               23.0                     26.0   \n",
       "2                               24.0                     25.0   \n",
       "3                               25.0                     27.0   \n",
       "4                               27.0                     27.0   \n",
       "\n",
       "   Battery_State_of_Charge_Start  Battery_State_of_Charge_End  \\\n",
       "0                          0.863                        0.803   \n",
       "1                          0.803                        0.673   \n",
       "2                          0.835                        0.751   \n",
       "3                          0.751                        0.667   \n",
       "4                          0.667                        0.602   \n",
       "\n",
       "   Change_In_Battery_State_of_Charge  Ambient_Temperature_Start_Celsius  \\\n",
       "0                              0.060                               25.5   \n",
       "1                              0.130                               32.0   \n",
       "2                              0.084                               21.5   \n",
       "3                              0.084                               24.0   \n",
       "4                              0.065                               24.5   \n",
       "\n",
       "   Target_Cabin_Temperature  Distance_km  Duration_min  \\\n",
       "0                      23.0     7.427690     16.820000   \n",
       "1                      23.0    23.509709     23.550000   \n",
       "2                      27.0    12.820846     11.180000   \n",
       "3                      22.0    10.727491      6.870000   \n",
       "4                      24.0    12.393223     22.776667   \n",
       "\n",
       "   Battery_State_of_Charge_Rate  ...  Route_Area_Munich_Northeast  \\\n",
       "0                      0.003567  ...                            0   \n",
       "1                      0.005520  ...                            0   \n",
       "2                      0.007513  ...                            0   \n",
       "3                      0.012227  ...                            0   \n",
       "4                      0.002854  ...                            0   \n",
       "\n",
       "   Route_Area_Munich_South  Weather_dark  Weather_dark_Little_Rainy  \\\n",
       "0                        0             0                          0   \n",
       "1                        0             0                          0   \n",
       "2                        0             0                          0   \n",
       "3                        0             0                          0   \n",
       "4                        0             0                          0   \n",
       "\n",
       "   Weather_rainy  Weather_slightly cloudy  Weather_sunny  Weather_sunrise  \\\n",
       "0              0                        0              1                0   \n",
       "1              0                        0              1                0   \n",
       "2              0                        0              1                0   \n",
       "3              0                        0              1                0   \n",
       "4              0                        0              1                0   \n",
       "\n",
       "   Weather_sunset  Fan_Automatic_Level_1_screen defrost_first_2_min  \n",
       "0               0                                                 0  \n",
       "1               0                                                 0  \n",
       "2               0                                                 0  \n",
       "3               0                                                 0  \n",
       "4               0                                                 0  \n",
       "\n",
       "[5 rows x 25 columns]"
      ]
     },
     "execution_count": 58,
     "metadata": {},
     "output_type": "execute_result"
    }
   ],
   "source": [
    "#review data set with renamed columns\n",
    "independent_variables_numerical.head()"
   ]
  },
  {
   "cell_type": "code",
   "execution_count": 59,
   "id": "f071ec9d",
   "metadata": {},
   "outputs": [
    {
     "name": "stdout",
     "output_type": "stream",
     "text": [
      "<class 'pandas.core.frame.DataFrame'>\n",
      "Int64Index: 69 entries, 0 to 71\n",
      "Data columns (total 25 columns):\n",
      " #   Column                                            Non-Null Count  Dtype  \n",
      "---  ------                                            --------------  -----  \n",
      " 0   Battery_Temperature_Start_Celsius                 69 non-null     float64\n",
      " 1   Battery_Temperature_End                           69 non-null     float64\n",
      " 2   Battery_State_of_Charge_Start                     69 non-null     float64\n",
      " 3   Battery_State_of_Charge_End                       69 non-null     float64\n",
      " 4   Change_In_Battery_State_of_Charge                 69 non-null     float64\n",
      " 5   Ambient_Temperature_Start_Celsius                 69 non-null     float64\n",
      " 6   Target_Cabin_Temperature                          69 non-null     float64\n",
      " 7   Distance_km                                       69 non-null     float64\n",
      " 8   Duration_min                                      69 non-null     float64\n",
      " 9   Battery_State_of_Charge_Rate                      69 non-null     float64\n",
      " 10  Route_Area_FTMRoute_2x                            69 non-null     uint8  \n",
      " 11  Route_Area_FTMRoute_Reverse                       69 non-null     uint8  \n",
      " 12  Route_Area_Highway                                69 non-null     uint8  \n",
      " 13  Route_Area_Munich_East                            69 non-null     uint8  \n",
      " 14  Route_Area_Munich_North                           69 non-null     uint8  \n",
      " 15  Route_Area_Munich_Northeast                       69 non-null     uint8  \n",
      " 16  Route_Area_Munich_South                           69 non-null     uint8  \n",
      " 17  Weather_dark                                      69 non-null     uint8  \n",
      " 18  Weather_dark_Little_Rainy                         69 non-null     uint8  \n",
      " 19  Weather_rainy                                     69 non-null     uint8  \n",
      " 20  Weather_slightly cloudy                           69 non-null     uint8  \n",
      " 21  Weather_sunny                                     69 non-null     uint8  \n",
      " 22  Weather_sunrise                                   69 non-null     uint8  \n",
      " 23  Weather_sunset                                    69 non-null     uint8  \n",
      " 24  Fan_Automatic_Level_1_screen defrost_first_2_min  69 non-null     uint8  \n",
      "dtypes: float64(10), uint8(15)\n",
      "memory usage: 6.9 KB\n"
     ]
    }
   ],
   "source": [
    "#review data set with renamed columns\n",
    "independent_variables_numerical.info()"
   ]
  },
  {
   "cell_type": "markdown",
   "id": "cbcac8f9",
   "metadata": {
    "id": "cbcac8f9"
   },
   "source": [
    "#### **Split the data into train and test**"
   ]
  },
  {
   "cell_type": "code",
   "execution_count": 60,
   "id": "40991922",
   "metadata": {
    "id": "40991922"
   },
   "outputs": [],
   "source": [
    "from sklearn.model_selection import train_test_split\n",
    "\n",
    "x_train, x_test, y_train, y_test = train_test_split(\n",
    "    independent_variables_numerical, dependent_variable, test_size = 0.3, random_state = 1\n",
    ")"
   ]
  },
  {
   "cell_type": "code",
   "execution_count": 61,
   "id": "44919d43",
   "metadata": {
    "id": "44919d43"
   },
   "outputs": [
    {
     "name": "stdout",
     "output_type": "stream",
     "text": [
      "Number of rows in train data = 48\n",
      "Number of rows in test data = 21\n"
     ]
    }
   ],
   "source": [
    "print(\"Number of rows in train data =\", x_train.shape[0])\n",
    "print(\"Number of rows in test data =\", x_test.shape[0])"
   ]
  },
  {
   "cell_type": "markdown",
   "id": "e27257f1",
   "metadata": {},
   "source": [
    "### **Check for Multicollinearity**\n",
    "\n",
    "* **Multicollinearity** occurs when predictor variables in a regression model are correlated. This correlation is a problem because predictor variables should be independent. If the correlation between variables is high, it can cause problems when we fit the model and interpret the results. When we have multicollinearity in the linear model, the coefficients that the model suggests are unreliable.\n",
    "\n",
    "* There are different ways of detecting (or testing) multi-collinearity, one such way is the Variation Inflation Factor.\n",
    "\n",
    "* **Variance Inflation factor**:  Variance inflation factors measures the  inflation in the variances of the regression parameter estimates due to collinearity that exists among the predictors. It is a measure of how much  the variance of the estimated regression coefficient βk is \"inflated\" by the  existence of correlation among the predictor variables in the model. \n",
    "\n",
    "* General Rule of thumb: If VIF is 1 then there is no correlation between the kth predictor and the remaining predictor variables, and  hence the variance of β̂k is not inflated at all. Whereas if **VIF exceeds 5 or is close to exceeding 5, we say there is moderate VIF and if it is 10 or exceeding 10, it shows signs of high multi-collinearity.**"
   ]
  },
  {
   "cell_type": "code",
   "execution_count": 62,
   "id": "e2eb1dd1",
   "metadata": {},
   "outputs": [],
   "source": [
    "# Function to check VIF\n",
    "def checking_vif(train):\n",
    "    vif = pd.DataFrame()\n",
    "    vif[\"feature\"] = train.columns\n",
    "\n",
    "    # Calculating VIF for each feature\n",
    "    vif[\"VIF\"] = [\n",
    "        variance_inflation_factor(train.values, i) for i in range(len(train.columns))\n",
    "    ]\n",
    "    return vif"
   ]
  },
  {
   "cell_type": "code",
   "execution_count": 63,
   "id": "e68c8450",
   "metadata": {},
   "outputs": [
    {
     "name": "stdout",
     "output_type": "stream",
     "text": [
      "                                             feature          VIF\n",
      "0                  Battery_Temperature_Start_Celsius   189.913928\n",
      "1                            Battery_Temperature_End   454.719332\n",
      "2                      Battery_State_of_Charge_Start  1283.395033\n",
      "3                        Battery_State_of_Charge_End   862.402124\n",
      "4                  Change_In_Battery_State_of_Charge    55.697226\n",
      "5                  Ambient_Temperature_Start_Celsius    50.188239\n",
      "6                           Target_Cabin_Temperature    61.984984\n",
      "7                                        Distance_km    94.792205\n",
      "8                                       Duration_min    39.075611\n",
      "9                       Battery_State_of_Charge_Rate    40.575600\n",
      "10                            Route_Area_FTMRoute_2x     3.402730\n",
      "11                       Route_Area_FTMRoute_Reverse     1.414993\n",
      "12                                Route_Area_Highway     4.035235\n",
      "13                            Route_Area_Munich_East    24.087890\n",
      "14                           Route_Area_Munich_North     5.946465\n",
      "15                       Route_Area_Munich_Northeast     1.575726\n",
      "16                           Route_Area_Munich_South     4.462072\n",
      "17                                      Weather_dark     1.566268\n",
      "18                         Weather_dark_Little_Rainy          NaN\n",
      "19                                     Weather_rainy     2.797748\n",
      "20                           Weather_slightly cloudy     9.582817\n",
      "21                                     Weather_sunny    17.698246\n",
      "22                                   Weather_sunrise          inf\n",
      "23                                    Weather_sunset          NaN\n",
      "24  Fan_Automatic_Level_1_screen defrost_first_2_min          inf\n"
     ]
    },
    {
     "name": "stderr",
     "output_type": "stream",
     "text": [
      "C:\\Users\\frank\\anaconda3\\lib\\site-packages\\statsmodels\\regression\\linear_model.py:1738: RuntimeWarning: invalid value encountered in double_scalars\n",
      "  return 1 - self.ssr/self.uncentered_tss\n",
      "C:\\Users\\frank\\anaconda3\\lib\\site-packages\\statsmodels\\stats\\outliers_influence.py:195: RuntimeWarning: divide by zero encountered in double_scalars\n",
      "  vif = 1. / (1. - r_squared_i)\n"
     ]
    }
   ],
   "source": [
    "# review the data\n",
    "print(checking_vif(x_train))"
   ]
  },
  {
   "cell_type": "markdown",
   "id": "3d18e8e7",
   "metadata": {},
   "source": [
    "**Observatons**\n",
    "- Make observations\n",
    "- resample the variables getting infinity numbers and Null values and run the test again\n",
    "- Frank Ivey Stopped right here 2023-02-17"
   ]
  },
  {
   "cell_type": "markdown",
   "id": "1ab83e57",
   "metadata": {
    "id": "1ab83e57"
   },
   "source": [
    "### **Drop weak correllated columns from the data set**"
   ]
  },
  {
   "cell_type": "code",
   "execution_count": null,
   "id": "a8226064",
   "metadata": {
    "id": "a8226064"
   },
   "outputs": [],
   "source": [
    "# drop the columns \"'Route_Area','Change_In_Battery_State_of_Charge','Distance_km', 'Duration_min'\"\n",
    "# Not going to drop these columns, let the model analysis prove they are not need as per the observation\n",
    "# evbattemp = evbattemp.drop(['Route_Area','Weather','Ambient_Temperature_Start_Celsius','Target_Cabin_Temperature'], axis=1)"
   ]
  },
  {
   "cell_type": "markdown",
   "id": "07f1505a",
   "metadata": {
    "id": "07f1505a"
   },
   "source": [
    "## **Proposed approach**\n",
    "\n",
    "--------------------\n",
    "### **Potential techniques** :\n",
    "--------------------\n",
    "Since it is a regression problem we will first start with the parametric model - linear regression and Ridge Regression. \n",
    "\n",
    "-------------------\n",
    "### **Overall solution design** : \n",
    "---------------------\n",
    "The potential solution design would look like this:\n",
    "* Checking the data description to get the idea of basic statistics or summary of data.\n",
    "* Univariate analysis to see how data is spread out, getting to know about the outliers.\n",
    "* Bivariate analysis to see how different attributes vary with the dependent variable.\n",
    "* Outlier treatment if needed - In this case, outlier treatment is not necessary as outliers are the higher battery temps and in real-world scenarios, such battery temperatures would appear in data and we would want our predictive model to capture the underlying pattern for them.\n",
    "* Missing value treatment using appropriate techniques.\n",
    "* Feature engineering - transforming features, creating new features if possible.\n",
    "* Choosing the model evaluation technique - 1) R Squared 2) RMSE can be any other metrics related to regression analysis.\n",
    "* Splitting the data and proceeding with modeling.\n",
    "* Model tuning to see if the performance of the model can be improved further.\n",
    "\n",
    "-----------------\n",
    "### **Measures of success** :\n",
    "-----------------\n",
    "R-squared and RMSE can be used as a measure of success.\n",
    "\n",
    "R-squared: This will tell us how much variation our predictive model can explain in data.\n",
    "\n",
    "RMSE: This will give us a measure of how far off the model is predicting the original values on average.\n",
    "\n",
    "-----------------\n",
    "## **Hypothesis Testing:**\n",
    "-----------------\n",
    "- determine if there exists a connection between driving conditions and an electric vehicle’s battery temperature\n",
    "- Null Hypothesis will be $H_0: \\mu1 = \\mu2$ \n",
    "- Alternate Hypothesis will be $H_a: \\mu1 \\ne \\mu2$\n",
    "-------------------\n",
    "### **Model Selection**\n",
    "------------------\n",
    "1. What we want to test is the correlation between \"Battery_Rate_of_Heating\" and independent variables that represent the driving conditions. We will use the normalized version 'Battery_Rate_of_Heating_log' for modeling.\n",
    "2. Before we proceed to the model, we'll confirm if we have to encode categorical features. We will drop categorical features based on their observations. We made these changes in the Data Cleaning and Data Preparation stage. \n",
    "3. We'll split the data into train and test, to be able to evaluate the model that we build on the train data.\n",
    "4. Build Regression models using train data.\n",
    "5. Evaluate the model performance.\n"
   ]
  },
  {
   "cell_type": "markdown",
   "id": "2ceaf172",
   "metadata": {
    "id": "2ceaf172"
   },
   "source": [
    "### **Model Analysis:**\n",
    "**Fitting a linear model - Linear Regression**\n",
    "<br>Linear Regression can be implemented using: <br>\n",
    "\n",
    "**1) Sklearn:** https://scikit-learn.org/stable/modules/generated/sklearn.linear_model.LinearRegression.html <br>\n",
    "**2) Statsmodels:** https://www.statsmodels.org/stable/regression.html"
   ]
  },
  {
   "cell_type": "code",
   "execution_count": 64,
   "id": "e3710819",
   "metadata": {
    "id": "e3710819"
   },
   "outputs": [
    {
     "name": "stdout",
     "output_type": "stream",
     "text": [
      "                               OLS Regression Results                              \n",
      "===================================================================================\n",
      "Dep. Variable:     Battery_Rate_of_Heating   R-squared:                       0.964\n",
      "Model:                                 OLS   Adj. R-squared:                  0.932\n",
      "Method:                      Least Squares   F-statistic:                     30.28\n",
      "Date:                     Fri, 17 Feb 2023   Prob (F-statistic):           5.86e-13\n",
      "Time:                             09:43:27   Log-Likelihood:                 131.14\n",
      "No. Observations:                       48   AIC:                            -216.3\n",
      "Df Residuals:                           25   BIC:                            -173.2\n",
      "Df Model:                               22                                         \n",
      "Covariance Type:                 nonrobust                                         \n",
      "====================================================================================================================\n",
      "                                                       coef    std err          t      P>|t|      [0.025      0.975]\n",
      "--------------------------------------------------------------------------------------------------------------------\n",
      "const                                                0.0588      0.051      1.154      0.259      -0.046       0.164\n",
      "Battery_Temperature_Start_Celsius                   -0.0221      0.002     -8.982      0.000      -0.027      -0.017\n",
      "Battery_Temperature_End                              0.0211      0.004      5.894      0.000       0.014       0.028\n",
      "Battery_State_of_Charge_Start                        0.5286      0.168      3.146      0.004       0.183       0.875\n",
      "Battery_State_of_Charge_End                         -0.5448      0.157     -3.463      0.002      -0.869      -0.221\n",
      "Change_In_Battery_State_of_Charge                   -1.2293      0.136     -9.034      0.000      -1.510      -0.949\n",
      "Ambient_Temperature_Start_Celsius                    0.0010      0.001      0.777      0.445      -0.002       0.004\n",
      "Target_Cabin_Temperature                            -0.0019      0.001     -1.254      0.221      -0.005       0.001\n",
      "Distance_km                                          0.0009      0.002      0.625      0.537      -0.002       0.004\n",
      "Duration_min                                      9.488e-05      0.001      0.132      0.896      -0.001       0.002\n",
      "Battery_State_of_Charge_Rate                        25.5888      2.771      9.233      0.000      19.881      31.297\n",
      "Route_Area_FTMRoute_2x                              -0.0082      0.041     -0.202      0.842      -0.092       0.076\n",
      "Route_Area_FTMRoute_Reverse                         -0.0003      0.026     -0.011      0.991      -0.054       0.054\n",
      "Route_Area_Highway                                   0.0205      0.031      0.656      0.518      -0.044       0.085\n",
      "Route_Area_Munich_East                              -0.0221      0.021     -1.062      0.298      -0.065       0.021\n",
      "Route_Area_Munich_North                             -0.0341      0.018     -1.895      0.070      -0.071       0.003\n",
      "Route_Area_Munich_Northeast                         -0.0119      0.029     -0.410      0.685      -0.072       0.048\n",
      "Route_Area_Munich_South                             -0.0820      0.027     -3.020      0.006      -0.138      -0.026\n",
      "Weather_dark                                         0.0181      0.027      0.661      0.515      -0.038       0.074\n",
      "Weather_dark_Little_Rainy                        -6.012e-14   6.51e-15     -9.233      0.000   -7.35e-14   -4.67e-14\n",
      "Weather_rainy                                       -0.0164      0.031     -0.535      0.597      -0.079       0.047\n",
      "Weather_slightly cloudy                             -0.0076      0.019     -0.409      0.686      -0.046       0.031\n",
      "Weather_sunny                                       -0.0058      0.020     -0.288      0.775      -0.047       0.036\n",
      "Weather_sunrise                                     -0.0146      0.014     -1.028      0.314      -0.044       0.015\n",
      "Weather_sunset                                            0          0        nan        nan           0           0\n",
      "Fan_Automatic_Level_1_screen defrost_first_2_min    -0.0146      0.014     -1.028      0.314      -0.044       0.015\n",
      "==============================================================================\n",
      "Omnibus:                        0.050   Durbin-Watson:                   2.450\n",
      "Prob(Omnibus):                  0.975   Jarque-Bera (JB):                0.087\n",
      "Skew:                          -0.058   Prob(JB):                        0.957\n",
      "Kurtosis:                       2.827   Cond. No.                     1.04e+16\n",
      "==============================================================================\n",
      "\n",
      "Notes:\n",
      "[1] Standard Errors assume that the covariance matrix of the errors is correctly specified.\n",
      "[2] The smallest eigenvalue is 1.14e-27. This might indicate that there are\n",
      "strong multicollinearity problems or that the design matrix is singular.\n"
     ]
    }
   ],
   "source": [
    "import statsmodels.api as sm\n",
    "\n",
    "# Statsmodel api does not add a constant by default. We need to add it explicitly.\n",
    "x_train = sm.add_constant(x_train)\n",
    "# Add constant to test data\n",
    "x_test = sm.add_constant(x_test)\n",
    "\n",
    "#independent_variables = evbattemp.drop(['Battery_Rate_of_Heating'], axis = 1)\n",
    "#dependent_variable = evbattemp[['Battery_Rate_of_Heating']]\n",
    "\n",
    "def build_ols_model(train):\n",
    "    # Create the model\n",
    "    olsmodel = sm.OLS(y_train[\"Battery_Rate_of_Heating\"], train)\n",
    "    return olsmodel.fit()\n",
    "\n",
    "\n",
    "olsmodel1 = build_ols_model(x_train)\n",
    "print(olsmodel1.summary())"
   ]
  },
  {
   "cell_type": "markdown",
   "id": "af384480",
   "metadata": {},
   "source": [
    "- Issues with running the model the first time because the log of \"Battery Temp\" has an infinity in it\n",
    "- Run the model again but without the log of \"Battery Temp\""
   ]
  },
  {
   "cell_type": "code",
   "execution_count": 65,
   "id": "48410d9f",
   "metadata": {},
   "outputs": [
    {
     "name": "stdout",
     "output_type": "stream",
     "text": [
      "                               OLS Regression Results                              \n",
      "===================================================================================\n",
      "Dep. Variable:     Battery_Rate_of_Heating   R-squared:                       0.964\n",
      "Model:                                 OLS   Adj. R-squared:                  0.932\n",
      "Method:                      Least Squares   F-statistic:                     30.28\n",
      "Date:                     Fri, 17 Feb 2023   Prob (F-statistic):           5.86e-13\n",
      "Time:                             09:43:50   Log-Likelihood:                 131.14\n",
      "No. Observations:                       48   AIC:                            -216.3\n",
      "Df Residuals:                           25   BIC:                            -173.2\n",
      "Df Model:                               22                                         \n",
      "Covariance Type:                 nonrobust                                         \n",
      "====================================================================================================================\n",
      "                                                       coef    std err          t      P>|t|      [0.025      0.975]\n",
      "--------------------------------------------------------------------------------------------------------------------\n",
      "const                                                0.0588      0.051      1.154      0.259      -0.046       0.164\n",
      "Battery_Temperature_Start_Celsius                   -0.0221      0.002     -8.982      0.000      -0.027      -0.017\n",
      "Battery_Temperature_End                              0.0211      0.004      5.894      0.000       0.014       0.028\n",
      "Battery_State_of_Charge_Start                        0.5286      0.168      3.146      0.004       0.183       0.875\n",
      "Battery_State_of_Charge_End                         -0.5448      0.157     -3.463      0.002      -0.869      -0.221\n",
      "Change_In_Battery_State_of_Charge                   -1.2293      0.136     -9.034      0.000      -1.510      -0.949\n",
      "Ambient_Temperature_Start_Celsius                    0.0010      0.001      0.777      0.445      -0.002       0.004\n",
      "Target_Cabin_Temperature                            -0.0019      0.001     -1.254      0.221      -0.005       0.001\n",
      "Distance_km                                          0.0009      0.002      0.625      0.537      -0.002       0.004\n",
      "Duration_min                                      9.488e-05      0.001      0.132      0.896      -0.001       0.002\n",
      "Battery_State_of_Charge_Rate                        25.5888      2.771      9.233      0.000      19.881      31.297\n",
      "Route_Area_FTMRoute_2x                              -0.0082      0.041     -0.202      0.842      -0.092       0.076\n",
      "Route_Area_FTMRoute_Reverse                         -0.0003      0.026     -0.011      0.991      -0.054       0.054\n",
      "Route_Area_Highway                                   0.0205      0.031      0.656      0.518      -0.044       0.085\n",
      "Route_Area_Munich_East                              -0.0221      0.021     -1.062      0.298      -0.065       0.021\n",
      "Route_Area_Munich_North                             -0.0341      0.018     -1.895      0.070      -0.071       0.003\n",
      "Route_Area_Munich_Northeast                         -0.0119      0.029     -0.410      0.685      -0.072       0.048\n",
      "Route_Area_Munich_South                             -0.0820      0.027     -3.020      0.006      -0.138      -0.026\n",
      "Weather_dark                                         0.0181      0.027      0.661      0.515      -0.038       0.074\n",
      "Weather_dark_Little_Rainy                        -6.012e-14   6.51e-15     -9.233      0.000   -7.35e-14   -4.67e-14\n",
      "Weather_rainy                                       -0.0164      0.031     -0.535      0.597      -0.079       0.047\n",
      "Weather_slightly cloudy                             -0.0076      0.019     -0.409      0.686      -0.046       0.031\n",
      "Weather_sunny                                       -0.0058      0.020     -0.288      0.775      -0.047       0.036\n",
      "Weather_sunrise                                     -0.0146      0.014     -1.028      0.314      -0.044       0.015\n",
      "Weather_sunset                                            0          0        nan        nan           0           0\n",
      "Fan_Automatic_Level_1_screen defrost_first_2_min    -0.0146      0.014     -1.028      0.314      -0.044       0.015\n",
      "==============================================================================\n",
      "Omnibus:                        0.050   Durbin-Watson:                   2.450\n",
      "Prob(Omnibus):                  0.975   Jarque-Bera (JB):                0.087\n",
      "Skew:                          -0.058   Prob(JB):                        0.957\n",
      "Kurtosis:                       2.827   Cond. No.                     1.04e+16\n",
      "==============================================================================\n",
      "\n",
      "Notes:\n",
      "[1] Standard Errors assume that the covariance matrix of the errors is correctly specified.\n",
      "[2] The smallest eigenvalue is 1.14e-27. This might indicate that there are\n",
      "strong multicollinearity problems or that the design matrix is singular.\n"
     ]
    }
   ],
   "source": [
    "# Statsmodel api does not add a constant by default. We need to add it explicitly.\n",
    "x_train = sm.add_constant(x_train)\n",
    "# Add constant to test data\n",
    "x_test = sm.add_constant(x_test)\n",
    "\n",
    "\n",
    "def build_ols_model(train):\n",
    "    # Create the model\n",
    "    olsmodel = sm.OLS(y_train[\"Battery_Rate_of_Heating\"], train)\n",
    "    return olsmodel.fit()\n",
    "\n",
    "\n",
    "olsmodel1 = build_ols_model(x_train)\n",
    "print(olsmodel1.summary())"
   ]
  },
  {
   "cell_type": "markdown",
   "id": "fafb9e38",
   "metadata": {
    "id": "fafb9e38"
   },
   "source": [
    "* Both the R-squared and Adjusted R squared of our model are low. We will have to comfirm this model.\n",
    "* The model appears to confirm our earlier observations based on the Exploratory Data Analysis and Null Hypothesis testing that the independent variables do not have a strong enough correlation for the linear regression testing to make an accurate prediction.\n",
    "* To be able to make statistical inferences from our model, we will have to test that the linear regression assumptions are followed.\n",
    "* Before we move on to assumption testing, we'll do a quick performance check on the test data."
   ]
  },
  {
   "cell_type": "code",
   "execution_count": 66,
   "id": "3cddcc2d",
   "metadata": {
    "id": "3cddcc2d"
   },
   "outputs": [
    {
     "name": "stdout",
     "output_type": "stream",
     "text": [
      "    Data      RMSE       MAE         MAPE\n",
      "0  Train  1.007473  1.007273          inf\n",
      "1   Test  1.018142  1.017963  1138.594371\n"
     ]
    }
   ],
   "source": [
    "# RMSE\n",
    "def rmse(predictions, targets):\n",
    "    return np.sqrt(((targets - predictions) ** 2).mean())\n",
    "\n",
    "\n",
    "# MAPE\n",
    "def mape(predictions, targets):\n",
    "    return np.mean(np.abs((targets - predictions)) / targets) * 100\n",
    "\n",
    "\n",
    "# MAE\n",
    "def mae(predictions, targets):\n",
    "    return np.mean(np.abs((targets - predictions)))\n",
    "\n",
    "\n",
    "# Model Performance on test and train data\n",
    "def model_pref(model, x_train, x_test):\n",
    "\n",
    "    # Insample Prediction\n",
    "    y_pred_train_pricelog = model.predict(x_train)\n",
    "    y_pred_train_Price = y_pred_train_pricelog.apply(math.exp)\n",
    "    y_train_Price = y_train[\"Battery_Rate_of_Heating\"]\n",
    "\n",
    "    # Prediction on test data\n",
    "    y_pred_test_pricelog = model.predict(x_test)\n",
    "    y_pred_test_Price = y_pred_test_pricelog.apply(math.exp)\n",
    "    y_test_Price = y_test[\"Battery_Rate_of_Heating\"]\n",
    "\n",
    "    print(\n",
    "        pd.DataFrame(\n",
    "            {\n",
    "                \"Data\": [\"Train\", \"Test\"],\n",
    "                \"RMSE\": [\n",
    "                    rmse(y_pred_train_Price, y_train_Price),\n",
    "                    rmse(y_pred_test_Price, y_test_Price),\n",
    "                ],\n",
    "                \"MAE\": [\n",
    "                    mae(y_pred_train_Price, y_train_Price),\n",
    "                    mae(y_pred_test_Price, y_test_Price),\n",
    "                ],\n",
    "                \"MAPE\": [\n",
    "                    mape(y_pred_train_Price, y_train_Price),\n",
    "                    mape(y_pred_test_Price, y_test_Price),\n",
    "                ],\n",
    "            }\n",
    "        )\n",
    "    )\n",
    "\n",
    "\n",
    "# Checking model performance\n",
    "model_pref(olsmodel1, x_train, x_test)  # High Overfitting."
   ]
  },
  {
   "cell_type": "markdown",
   "id": "d172e259",
   "metadata": {
    "id": "d172e259"
   },
   "source": [
    "* Root Mean Squared Error of train and test data has a slight difference, indicating that our model is mostly fine but probaby underfitting the train data. \n",
    "* Mean Absolute Error indicates that our current model can predict used \"Avg_Battery_Temperature_Combined_Celsius\" within a mean error of 3.8 temperature Celsius on test data.\n",
    "* The units of both RMSE and MAE are the same - temperature Celsius in this case. But RMSE is greater than MAE because it penalizes the outliers more.\n",
    "* Mean Absolute Percentage Error is ~36% on the test data."
   ]
  },
  {
   "cell_type": "markdown",
   "id": "5d1b0409",
   "metadata": {
    "id": "5d1b0409"
   },
   "source": [
    "**Checking the Linear Regression Assumptions**\n",
    "\n",
    "1. No Multicollinearity\n",
    "2. Mean of residuals should be 0\n",
    "3. No Heteroscedasticity\n",
    "4. Linearity of variables\n",
    "5. Normality of error terms"
   ]
  },
  {
   "cell_type": "markdown",
   "id": "8330be56",
   "metadata": {
    "id": "8330be56"
   },
   "source": [
    "**Checking Assumption 1: No Multicollinearity**\n",
    "\n",
    "- We will use VIF, to check if there is multicollinearity in the data.\n",
    "\n",
    "- Features having a VIF score >5 will be dropped/treated till all the features have a VIF score <5."
   ]
  },
  {
   "cell_type": "code",
   "execution_count": 67,
   "id": "3e15098b",
   "metadata": {
    "id": "3e15098b"
   },
   "outputs": [
    {
     "name": "stdout",
     "output_type": "stream",
     "text": [
      "                                             feature         VIF\n",
      "0                                              const  261.431261\n",
      "1                  Battery_Temperature_Start_Celsius   40.159172\n",
      "2                            Battery_Temperature_End   58.423454\n",
      "3                      Battery_State_of_Charge_Start   59.517260\n",
      "4                        Battery_State_of_Charge_End   73.006751\n",
      "5                  Change_In_Battery_State_of_Charge   25.943415\n",
      "6                  Ambient_Temperature_Start_Celsius   18.351534\n",
      "7                           Target_Cabin_Temperature    1.657769\n",
      "8                                        Distance_km   32.706564\n",
      "9                                       Duration_min   12.506095\n",
      "10                      Battery_State_of_Charge_Rate   21.171293\n",
      "11                            Route_Area_FTMRoute_2x    3.425890\n",
      "12                       Route_Area_FTMRoute_Reverse    1.416665\n",
      "13                                Route_Area_Highway    3.928919\n",
      "14                            Route_Area_Munich_East   10.733577\n",
      "15                           Route_Area_Munich_North    5.391475\n",
      "16                       Route_Area_Munich_Northeast    1.725502\n",
      "17                           Route_Area_Munich_South    4.360233\n",
      "18                                      Weather_dark    1.538349\n",
      "19                         Weather_dark_Little_Rainy         NaN\n",
      "20                                     Weather_rainy    3.758625\n",
      "21                           Weather_slightly cloudy    7.152607\n",
      "22                                     Weather_sunny   10.209514\n",
      "23                                   Weather_sunrise         inf\n",
      "24                                    Weather_sunset         NaN\n",
      "25  Fan_Automatic_Level_1_screen defrost_first_2_min         inf\n"
     ]
    },
    {
     "name": "stderr",
     "output_type": "stream",
     "text": [
      "C:\\Users\\frank\\anaconda3\\lib\\site-packages\\statsmodels\\regression\\linear_model.py:1736: RuntimeWarning: invalid value encountered in double_scalars\n",
      "  return 1 - self.ssr/self.centered_tss\n",
      "C:\\Users\\frank\\anaconda3\\lib\\site-packages\\statsmodels\\stats\\outliers_influence.py:195: RuntimeWarning: divide by zero encountered in double_scalars\n",
      "  vif = 1. / (1. - r_squared_i)\n"
     ]
    }
   ],
   "source": [
    "from statsmodels.stats.outliers_influence import variance_inflation_factor\n",
    "\n",
    "\n",
    "def checking_vif(train):\n",
    "    vif = pd.DataFrame()\n",
    "    vif[\"feature\"] = train.columns\n",
    "\n",
    "    # calculating VIF for each feature\n",
    "    vif[\"VIF\"] = [\n",
    "        variance_inflation_factor(train.values, i) for i in range(len(train.columns))\n",
    "    ]\n",
    "    return vif\n",
    "\n",
    "\n",
    "print(checking_vif(x_train))"
   ]
  },
  {
   "cell_type": "markdown",
   "id": "305882eb",
   "metadata": {
    "id": "305882eb"
   },
   "source": [
    "- only one column that matches this and I am not concerned about it\n",
    "- confirms the \"Distance_km\" is not needed in the prediction, but not bad enough to remove it as it is right on the threshold"
   ]
  },
  {
   "cell_type": "markdown",
   "id": "fabd3602",
   "metadata": {
    "id": "fabd3602"
   },
   "source": [
    "#### **Checking Assumption 2: Mean of residuals should be 0**"
   ]
  },
  {
   "cell_type": "code",
   "execution_count": 68,
   "id": "917aa7a8",
   "metadata": {
    "id": "917aa7a8"
   },
   "outputs": [
    {
     "data": {
      "text/plain": [
       "1.2793585635328952e-16"
      ]
     },
     "execution_count": 68,
     "metadata": {},
     "output_type": "execute_result"
    }
   ],
   "source": [
    "residuals = olsmodel1.resid\n",
    "np.mean(residuals)"
   ]
  },
  {
   "cell_type": "markdown",
   "id": "ce0508da",
   "metadata": {
    "id": "ce0508da"
   },
   "source": [
    "- Mean of redisuals is very close to 0. The second assumption is also satisfied."
   ]
  },
  {
   "cell_type": "markdown",
   "id": "c12c499a",
   "metadata": {
    "id": "c12c499a"
   },
   "source": [
    "#### **Checking Assumption 3: No Heteroscedasticity**"
   ]
  },
  {
   "cell_type": "markdown",
   "id": "3eb4cbd2",
   "metadata": {
    "id": "3eb4cbd2"
   },
   "source": [
    "* Homoscedacity - If the residuals are symmetrically distributed across the regression line, then the data is said to be homoscedastic.\n",
    "\n",
    "* Heteroscedasticity- - If the residuals are not symmetrically distributed across the regression line, then the data is said to be heteroscedastic. In this case, the residuals can form a funnel shape or any other non-symmetrical shape.\n",
    "\n",
    "We'll use **`Goldfeldquandt Test`** to test the following hypothesis\n",
    "\n",
    "> **Null hypothesis: Residuals are homoscedastic**\n",
    "\n",
    "> **Alternate hypothesis: Residuals have heteroscedasticity**\n",
    "\n",
    "> **alpha = 0.05** "
   ]
  },
  {
   "cell_type": "code",
   "execution_count": 69,
   "id": "0cd6326d",
   "metadata": {
    "id": "0cd6326d"
   },
   "outputs": [
    {
     "data": {
      "text/plain": [
       "[('F statistic', 0.04219699360314914), ('p-value', 0.9954860674774594)]"
      ]
     },
     "execution_count": 69,
     "metadata": {},
     "output_type": "execute_result"
    }
   ],
   "source": [
    "from statsmodels.compat import lzip\n",
    "\n",
    "name = [\"F statistic\", \"p-value\"]\n",
    "test = sms.het_goldfeldquandt(residuals, x_train)\n",
    "lzip(name, test)"
   ]
  },
  {
   "cell_type": "markdown",
   "id": "84c7bbb1",
   "metadata": {
    "id": "84c7bbb1"
   },
   "source": [
    "- Since the p-value > 0.05 we cannot reject the Null Hypothesis that the residuals are homoscedastic. \n",
    "\n",
    "- Assumptions 3 is also satisfied by our olsmodel1."
   ]
  },
  {
   "cell_type": "markdown",
   "id": "05dd720a",
   "metadata": {
    "id": "05dd720a"
   },
   "source": [
    "**Checking Assumption 4: Linearity of variables**\n",
    "\n",
    "Predictor variables must have a linear relation with the dependent variable.\n",
    "\n",
    "To test the assumption, we'll plot residuals and fitted values on a plot and ensure that residuals do not form a strong pattern. They should be randomly and uniformly scattered on the x-axis."
   ]
  },
  {
   "cell_type": "code",
   "execution_count": 70,
   "id": "3bd7e870",
   "metadata": {
    "id": "3bd7e870"
   },
   "outputs": [
    {
     "ename": "SyntaxError",
     "evalue": "cannot assign to function call (3519848622.py, line 6)",
     "output_type": "error",
     "traceback": [
      "\u001b[1;36m  Input \u001b[1;32mIn [70]\u001b[1;36m\u001b[0m\n\u001b[1;33m    fitted_residuals['fitted'].astype('float64') = fitted[1]\u001b[0m\n\u001b[1;37m    ^\u001b[0m\n\u001b[1;31mSyntaxError\u001b[0m\u001b[1;31m:\u001b[0m cannot assign to function call\n"
     ]
    }
   ],
   "source": [
    "# Predicted values\n",
    "fitted = olsmodel1.fittedvalues\n",
    "#print(fitted)\n",
    "#print(residuals)\n",
    "fitted_residuals = pd.DataFrame\n",
    "fitted_residuals['fitted'].astype('float64') = fitted[1]\n",
    "fitted_residuals['residuals'].astype('float64') = residuals[1]\n",
    "# sns.set_style(\"whitegrid\")\n",
    "sns.residplot(fitted_residuals,x='fitted', y='residuals', color = \"purple\", lowess = True)\n",
    "\n",
    "plt.xlabel(\"Fitted Values\")\n",
    "plt.ylabel(\"Residual\")\n",
    "plt.title(\"Residual PLOT\")\n",
    "plt.show()"
   ]
  },
  {
   "cell_type": "markdown",
   "id": "07eeea4a",
   "metadata": {
    "id": "07eeea4a"
   },
   "source": [
    "#### **Checking Assumption 5: Normality of error terms**\n",
    "\n",
    "The residuals should be normally distributed."
   ]
  },
  {
   "cell_type": "code",
   "execution_count": 71,
   "id": "660bc831",
   "metadata": {
    "id": "660bc831"
   },
   "outputs": [
    {
     "data": {
      "text/plain": [
       "<seaborn.axisgrid.FacetGrid at 0x271a3f34250>"
      ]
     },
     "execution_count": 71,
     "metadata": {},
     "output_type": "execute_result"
    },
    {
     "data": {
      "image/png": "[encoded data removed]",
      "text/plain": [
       "<Figure size 500x500 with 1 Axes>"
      ]
     },
     "metadata": {},
     "output_type": "display_data"
    }
   ],
   "source": [
    "# Plot histogram of residuals\n",
    "sns.displot(residuals, kde=True)"
   ]
  },
  {
   "cell_type": "code",
   "execution_count": 72,
   "id": "fb199085",
   "metadata": {
    "id": "fb199085"
   },
   "outputs": [
    {
     "data": {
      "image/png": "[encoded data removed]",
      "text/plain": [
       "<Figure size 640x480 with 1 Axes>"
      ]
     },
     "metadata": {},
     "output_type": "display_data"
    }
   ],
   "source": [
    "# Plot q-q plot of residuals\n",
    "import pylab\n",
    "\n",
    "\n",
    "scipy.stats.probplot(residuals, dist = \"norm\", plot = pylab)\n",
    "plt.show()"
   ]
  },
  {
   "cell_type": "markdown",
   "id": "9ffde02a",
   "metadata": {
    "id": "9ffde02a"
   },
   "source": [
    "- The residuals have a close to normal distribution. Assumption 5 is also satisfied.\n",
    "- We should further investigate these values in the tails where we have made huge residual errors.\n",
    "\n",
    "**Now that we have seen that olsmodel1 follows all the linear regression assumptions. Let us use that model to draw inferences.**"
   ]
  },
  {
   "cell_type": "code",
   "execution_count": 73,
   "id": "51cc5781",
   "metadata": {
    "id": "51cc5781"
   },
   "outputs": [
    {
     "name": "stdout",
     "output_type": "stream",
     "text": [
      "                               OLS Regression Results                              \n",
      "===================================================================================\n",
      "Dep. Variable:     Battery_Rate_of_Heating   R-squared:                       0.964\n",
      "Model:                                 OLS   Adj. R-squared:                  0.932\n",
      "Method:                      Least Squares   F-statistic:                     30.28\n",
      "Date:                     Fri, 17 Feb 2023   Prob (F-statistic):           5.86e-13\n",
      "Time:                             09:45:00   Log-Likelihood:                 131.14\n",
      "No. Observations:                       48   AIC:                            -216.3\n",
      "Df Residuals:                           25   BIC:                            -173.2\n",
      "Df Model:                               22                                         \n",
      "Covariance Type:                 nonrobust                                         \n",
      "====================================================================================================================\n",
      "                                                       coef    std err          t      P>|t|      [0.025      0.975]\n",
      "--------------------------------------------------------------------------------------------------------------------\n",
      "const                                                0.0588      0.051      1.154      0.259      -0.046       0.164\n",
      "Battery_Temperature_Start_Celsius                   -0.0221      0.002     -8.982      0.000      -0.027      -0.017\n",
      "Battery_Temperature_End                              0.0211      0.004      5.894      0.000       0.014       0.028\n",
      "Battery_State_of_Charge_Start                        0.5286      0.168      3.146      0.004       0.183       0.875\n",
      "Battery_State_of_Charge_End                         -0.5448      0.157     -3.463      0.002      -0.869      -0.221\n",
      "Change_In_Battery_State_of_Charge                   -1.2293      0.136     -9.034      0.000      -1.510      -0.949\n",
      "Ambient_Temperature_Start_Celsius                    0.0010      0.001      0.777      0.445      -0.002       0.004\n",
      "Target_Cabin_Temperature                            -0.0019      0.001     -1.254      0.221      -0.005       0.001\n",
      "Distance_km                                          0.0009      0.002      0.625      0.537      -0.002       0.004\n",
      "Duration_min                                      9.488e-05      0.001      0.132      0.896      -0.001       0.002\n",
      "Battery_State_of_Charge_Rate                        25.5888      2.771      9.233      0.000      19.881      31.297\n",
      "Route_Area_FTMRoute_2x                              -0.0082      0.041     -0.202      0.842      -0.092       0.076\n",
      "Route_Area_FTMRoute_Reverse                         -0.0003      0.026     -0.011      0.991      -0.054       0.054\n",
      "Route_Area_Highway                                   0.0205      0.031      0.656      0.518      -0.044       0.085\n",
      "Route_Area_Munich_East                              -0.0221      0.021     -1.062      0.298      -0.065       0.021\n",
      "Route_Area_Munich_North                             -0.0341      0.018     -1.895      0.070      -0.071       0.003\n",
      "Route_Area_Munich_Northeast                         -0.0119      0.029     -0.410      0.685      -0.072       0.048\n",
      "Route_Area_Munich_South                             -0.0820      0.027     -3.020      0.006      -0.138      -0.026\n",
      "Weather_dark                                         0.0181      0.027      0.661      0.515      -0.038       0.074\n",
      "Weather_dark_Little_Rainy                        -6.012e-14   6.51e-15     -9.233      0.000   -7.35e-14   -4.67e-14\n",
      "Weather_rainy                                       -0.0164      0.031     -0.535      0.597      -0.079       0.047\n",
      "Weather_slightly cloudy                             -0.0076      0.019     -0.409      0.686      -0.046       0.031\n",
      "Weather_sunny                                       -0.0058      0.020     -0.288      0.775      -0.047       0.036\n",
      "Weather_sunrise                                     -0.0146      0.014     -1.028      0.314      -0.044       0.015\n",
      "Weather_sunset                                            0          0        nan        nan           0           0\n",
      "Fan_Automatic_Level_1_screen defrost_first_2_min    -0.0146      0.014     -1.028      0.314      -0.044       0.015\n",
      "==============================================================================\n",
      "Omnibus:                        0.050   Durbin-Watson:                   2.450\n",
      "Prob(Omnibus):                  0.975   Jarque-Bera (JB):                0.087\n",
      "Skew:                          -0.058   Prob(JB):                        0.957\n",
      "Kurtosis:                       2.827   Cond. No.                     1.04e+16\n",
      "==============================================================================\n",
      "\n",
      "Notes:\n",
      "[1] Standard Errors assume that the covariance matrix of the errors is correctly specified.\n",
      "[2] The smallest eigenvalue is 1.14e-27. This might indicate that there are\n",
      "strong multicollinearity problems or that the design matrix is singular.\n"
     ]
    }
   ],
   "source": [
    "print(olsmodel1.summary())"
   ]
  },
  {
   "cell_type": "markdown",
   "id": "a2df7c8f",
   "metadata": {
    "id": "a2df7c8f"
   },
   "source": [
    "#### **Observations from the model**"
   ]
  },
  {
   "cell_type": "markdown",
   "id": "c5c14bf9",
   "metadata": {
    "id": "c5c14bf9"
   },
   "source": [
    "to tired,  will do it later"
   ]
  },
  {
   "cell_type": "code",
   "execution_count": 74,
   "id": "09ab477e",
   "metadata": {
    "id": "09ab477e"
   },
   "outputs": [],
   "source": [
    "from sklearn.linear_model import LinearRegression, Ridge, Lasso  # Import methods to build linear model for statistical analysis and prediction\n",
    "\n",
    "from sklearn.tree import DecisionTreeRegressor                   # Import methods to build decision trees.\n",
    "from sklearn.ensemble import RandomForestRegressor               # Import methods to build Random Forest.\n",
    "\n",
    "from sklearn import metrics                                      # Metrics to evaluate the model\n",
    "\n",
    "from sklearn.model_selection import GridSearchCV                 # For tuning the model"
   ]
  },
  {
   "cell_type": "code",
   "execution_count": 75,
   "id": "3e2012f5",
   "metadata": {
    "id": "3e2012f5"
   },
   "outputs": [],
   "source": [
    "##  Function to calculate r2_score and RMSE on train and test data\n",
    "def get_model_score(model, flag = True):\n",
    "    \"\"\"\n",
    "    model : regressor to predict values of X\n",
    "\n",
    "    \"\"\"\n",
    "    # Defining an empty list to store train and test results\n",
    "    score_list = []\n",
    "\n",
    "    pred_train = model.predict(X_train)\n",
    "    pred_train_ = np.exp(pred_train)\n",
    "    pred_test = model.predict(X_test)\n",
    "    pred_test_ = np.exp(pred_test)\n",
    "\n",
    "    train_r2 = metrics.r2_score(y_train['Battery_Rate_of_Heating'], pred_train_)\n",
    "    test_r2 = metrics.r2_score(y_test['Battery_Rate_of_Heating'], pred_test_)\n",
    "    train_rmse = metrics.mean_squared_error(\n",
    "        y_train['Battery_Rate_of_Heating'], pred_train_, squared = False\n",
    "    )\n",
    "    test_rmse = metrics.mean_squared_error(y_test['Battery_Rate_of_Heating'], pred_test_, squared = False)\n",
    "\n",
    "    # Adding all scores in the list\n",
    "    score_list.extend((train_r2, test_r2, train_rmse, test_rmse))\n",
    "\n",
    "    # If the flag is set to True then only the following print statements will be dispayed, the default value is True\n",
    "    if flag == True:\n",
    "        print(\n",
    "            'R-sqaure on training set : ',\n",
    "            metrics.r2_score(y_train['Battery_Rate_of_Heating'], pred_train_),\n",
    "        )\n",
    "        print('R-square on test set : ', metrics.r2_score(y_test['Battery_Rate_of_Heating'], pred_test_))\n",
    "        print(\n",
    "            'RMSE on training set : ',\n",
    "            np.sqrt(metrics.mean_squared_error(y_train['Battery_Rate_of_Heating'], pred_train_)),\n",
    "        )\n",
    "        print(\n",
    "            'RMSE on test set : ',\n",
    "            np.sqrt(metrics.mean_squared_error(y_test['Battery_Rate_of_Heating'], pred_test_)),\n",
    "        )\n",
    "\n",
    "    # Returning the list with train and test scores\n",
    "    return score_list"
   ]
  },
  {
   "cell_type": "markdown",
   "id": "fbfb0c49",
   "metadata": {
    "id": "fbfb0c49"
   },
   "source": [
    "### **Ridge Regression**\n",
    "https://scikit-learn.org/stable/modules/generated/sklearn.linear_model.Ridge.html"
   ]
  },
  {
   "cell_type": "code",
   "execution_count": 76,
   "id": "11182cfa",
   "metadata": {
    "id": "11182cfa"
   },
   "outputs": [],
   "source": [
    "# Create a Ridge regression model\n",
    "rdg = Ridge()"
   ]
  },
  {
   "cell_type": "code",
   "execution_count": 78,
   "id": "d2276ad6",
   "metadata": {
    "id": "d2276ad6"
   },
   "outputs": [],
   "source": [
    "#independent_variables = evbattemp.drop(['Battery_Rate_of_Heating'], axis = 1)\n",
    "#dependent_variable = evbattemp[['Battery_Rate_of_Heating']]\n",
    "# split a new data set\n",
    "X_train, X_test, y_train, y_test = train_test_split(\n",
    "    independent_variables, dependent_variable, test_size = 0.3, random_state = 1\n",
    ")"
   ]
  },
  {
   "cell_type": "code",
   "execution_count": 79,
   "id": "9c252950",
   "metadata": {
    "id": "9c252950"
   },
   "outputs": [
    {
     "name": "stdout",
     "output_type": "stream",
     "text": [
      "Number of rows in train data = 48\n",
      "Number of rows in test data = 21\n",
      "Number of rows in train data = 48\n",
      "Number of rows in test data = 21\n",
      "    Battery_Rate_of_Heating\n",
      "66                 0.109509\n",
      "31                 0.179415\n",
      "26                 0.059988\n",
      "39                 0.088757\n",
      "68                 0.088073\n",
      "50                 0.076879\n",
      "38                 0.058858\n",
      "59                 0.223630\n",
      "52                 0.100756\n",
      "2                  0.089445\n",
      "41                 0.061773\n",
      "51                 0.162250\n",
      "36                 0.113975\n",
      "56                 0.215595\n",
      "27                 0.034414\n",
      "64                 0.109409\n",
      "54                 0.115429\n",
      "55                 0.100067\n",
      "49                 0.078508\n",
      "47                 0.156990\n",
      "35                 0.074479\n"
     ]
    }
   ],
   "source": [
    "print(\"Number of rows in train data =\", X_train.shape[0])\n",
    "print(\"Number of rows in test data =\", X_test.shape[0])\n",
    "print(\"Number of rows in train data =\", y_train.shape[0])\n",
    "print(\"Number of rows in test data =\", y_test.shape[0])\n",
    "print(y_test)"
   ]
  },
  {
   "cell_type": "code",
   "execution_count": 80,
   "id": "69afc2a4",
   "metadata": {
    "id": "69afc2a4"
   },
   "outputs": [
    {
     "ename": "ValueError",
     "evalue": "could not convert string to float: 'Munich East'",
     "output_type": "error",
     "traceback": [
      "\u001b[1;31m---------------------------------------------------------------------------\u001b[0m",
      "\u001b[1;31mValueError\u001b[0m                                Traceback (most recent call last)",
      "Input \u001b[1;32mIn [80]\u001b[0m, in \u001b[0;36m<cell line: 2>\u001b[1;34m()\u001b[0m\n\u001b[0;32m      1\u001b[0m \u001b[38;5;66;03m# Fit Ridge regression model.\u001b[39;00m\n\u001b[1;32m----> 2\u001b[0m \u001b[43mrdg\u001b[49m\u001b[38;5;241;43m.\u001b[39;49m\u001b[43mfit\u001b[49m\u001b[43m(\u001b[49m\u001b[43mX_train\u001b[49m\u001b[43m,\u001b[49m\u001b[43m \u001b[49m\u001b[43my_train\u001b[49m\u001b[43m[\u001b[49m\u001b[38;5;124;43m'\u001b[39;49m\u001b[38;5;124;43mBattery_Rate_of_Heating\u001b[39;49m\u001b[38;5;124;43m'\u001b[39;49m\u001b[43m]\u001b[49m\u001b[43m)\u001b[49m\n",
      "File \u001b[1;32m~\\anaconda3\\lib\\site-packages\\sklearn\\linear_model\\_ridge.py:1003\u001b[0m, in \u001b[0;36mRidge.fit\u001b[1;34m(self, X, y, sample_weight)\u001b[0m\n\u001b[0;32m    983\u001b[0m \u001b[38;5;124;03m\"\"\"Fit Ridge regression model.\u001b[39;00m\n\u001b[0;32m    984\u001b[0m \n\u001b[0;32m    985\u001b[0m \u001b[38;5;124;03mParameters\u001b[39;00m\n\u001b[1;32m   (...)\u001b[0m\n\u001b[0;32m   1000\u001b[0m \u001b[38;5;124;03m    Fitted estimator.\u001b[39;00m\n\u001b[0;32m   1001\u001b[0m \u001b[38;5;124;03m\"\"\"\u001b[39;00m\n\u001b[0;32m   1002\u001b[0m _accept_sparse \u001b[38;5;241m=\u001b[39m _get_valid_accept_sparse(sparse\u001b[38;5;241m.\u001b[39missparse(X), \u001b[38;5;28mself\u001b[39m\u001b[38;5;241m.\u001b[39msolver)\n\u001b[1;32m-> 1003\u001b[0m X, y \u001b[38;5;241m=\u001b[39m \u001b[38;5;28;43mself\u001b[39;49m\u001b[38;5;241;43m.\u001b[39;49m\u001b[43m_validate_data\u001b[49m\u001b[43m(\u001b[49m\n\u001b[0;32m   1004\u001b[0m \u001b[43m    \u001b[49m\u001b[43mX\u001b[49m\u001b[43m,\u001b[49m\n\u001b[0;32m   1005\u001b[0m \u001b[43m    \u001b[49m\u001b[43my\u001b[49m\u001b[43m,\u001b[49m\n\u001b[0;32m   1006\u001b[0m \u001b[43m    \u001b[49m\u001b[43maccept_sparse\u001b[49m\u001b[38;5;241;43m=\u001b[39;49m\u001b[43m_accept_sparse\u001b[49m\u001b[43m,\u001b[49m\n\u001b[0;32m   1007\u001b[0m \u001b[43m    \u001b[49m\u001b[43mdtype\u001b[49m\u001b[38;5;241;43m=\u001b[39;49m\u001b[43m[\u001b[49m\u001b[43mnp\u001b[49m\u001b[38;5;241;43m.\u001b[39;49m\u001b[43mfloat64\u001b[49m\u001b[43m,\u001b[49m\u001b[43m \u001b[49m\u001b[43mnp\u001b[49m\u001b[38;5;241;43m.\u001b[39;49m\u001b[43mfloat32\u001b[49m\u001b[43m]\u001b[49m\u001b[43m,\u001b[49m\n\u001b[0;32m   1008\u001b[0m \u001b[43m    \u001b[49m\u001b[43mmulti_output\u001b[49m\u001b[38;5;241;43m=\u001b[39;49m\u001b[38;5;28;43;01mTrue\u001b[39;49;00m\u001b[43m,\u001b[49m\n\u001b[0;32m   1009\u001b[0m \u001b[43m    \u001b[49m\u001b[43my_numeric\u001b[49m\u001b[38;5;241;43m=\u001b[39;49m\u001b[38;5;28;43;01mTrue\u001b[39;49;00m\u001b[43m,\u001b[49m\n\u001b[0;32m   1010\u001b[0m \u001b[43m\u001b[49m\u001b[43m)\u001b[49m\n\u001b[0;32m   1011\u001b[0m \u001b[38;5;28;01mreturn\u001b[39;00m \u001b[38;5;28msuper\u001b[39m()\u001b[38;5;241m.\u001b[39mfit(X, y, sample_weight\u001b[38;5;241m=\u001b[39msample_weight)\n",
      "File \u001b[1;32m~\\anaconda3\\lib\\site-packages\\sklearn\\base.py:581\u001b[0m, in \u001b[0;36mBaseEstimator._validate_data\u001b[1;34m(self, X, y, reset, validate_separately, **check_params)\u001b[0m\n\u001b[0;32m    579\u001b[0m         y \u001b[38;5;241m=\u001b[39m check_array(y, \u001b[38;5;241m*\u001b[39m\u001b[38;5;241m*\u001b[39mcheck_y_params)\n\u001b[0;32m    580\u001b[0m     \u001b[38;5;28;01melse\u001b[39;00m:\n\u001b[1;32m--> 581\u001b[0m         X, y \u001b[38;5;241m=\u001b[39m check_X_y(X, y, \u001b[38;5;241m*\u001b[39m\u001b[38;5;241m*\u001b[39mcheck_params)\n\u001b[0;32m    582\u001b[0m     out \u001b[38;5;241m=\u001b[39m X, y\n\u001b[0;32m    584\u001b[0m \u001b[38;5;28;01mif\u001b[39;00m \u001b[38;5;129;01mnot\u001b[39;00m no_val_X \u001b[38;5;129;01mand\u001b[39;00m check_params\u001b[38;5;241m.\u001b[39mget(\u001b[38;5;124m\"\u001b[39m\u001b[38;5;124mensure_2d\u001b[39m\u001b[38;5;124m\"\u001b[39m, \u001b[38;5;28;01mTrue\u001b[39;00m):\n",
      "File \u001b[1;32m~\\anaconda3\\lib\\site-packages\\sklearn\\utils\\validation.py:964\u001b[0m, in \u001b[0;36mcheck_X_y\u001b[1;34m(X, y, accept_sparse, accept_large_sparse, dtype, order, copy, force_all_finite, ensure_2d, allow_nd, multi_output, ensure_min_samples, ensure_min_features, y_numeric, estimator)\u001b[0m\n\u001b[0;32m    961\u001b[0m \u001b[38;5;28;01mif\u001b[39;00m y \u001b[38;5;129;01mis\u001b[39;00m \u001b[38;5;28;01mNone\u001b[39;00m:\n\u001b[0;32m    962\u001b[0m     \u001b[38;5;28;01mraise\u001b[39;00m \u001b[38;5;167;01mValueError\u001b[39;00m(\u001b[38;5;124m\"\u001b[39m\u001b[38;5;124my cannot be None\u001b[39m\u001b[38;5;124m\"\u001b[39m)\n\u001b[1;32m--> 964\u001b[0m X \u001b[38;5;241m=\u001b[39m \u001b[43mcheck_array\u001b[49m\u001b[43m(\u001b[49m\n\u001b[0;32m    965\u001b[0m \u001b[43m    \u001b[49m\u001b[43mX\u001b[49m\u001b[43m,\u001b[49m\n\u001b[0;32m    966\u001b[0m \u001b[43m    \u001b[49m\u001b[43maccept_sparse\u001b[49m\u001b[38;5;241;43m=\u001b[39;49m\u001b[43maccept_sparse\u001b[49m\u001b[43m,\u001b[49m\n\u001b[0;32m    967\u001b[0m \u001b[43m    \u001b[49m\u001b[43maccept_large_sparse\u001b[49m\u001b[38;5;241;43m=\u001b[39;49m\u001b[43maccept_large_sparse\u001b[49m\u001b[43m,\u001b[49m\n\u001b[0;32m    968\u001b[0m \u001b[43m    \u001b[49m\u001b[43mdtype\u001b[49m\u001b[38;5;241;43m=\u001b[39;49m\u001b[43mdtype\u001b[49m\u001b[43m,\u001b[49m\n\u001b[0;32m    969\u001b[0m \u001b[43m    \u001b[49m\u001b[43morder\u001b[49m\u001b[38;5;241;43m=\u001b[39;49m\u001b[43morder\u001b[49m\u001b[43m,\u001b[49m\n\u001b[0;32m    970\u001b[0m \u001b[43m    \u001b[49m\u001b[43mcopy\u001b[49m\u001b[38;5;241;43m=\u001b[39;49m\u001b[43mcopy\u001b[49m\u001b[43m,\u001b[49m\n\u001b[0;32m    971\u001b[0m \u001b[43m    \u001b[49m\u001b[43mforce_all_finite\u001b[49m\u001b[38;5;241;43m=\u001b[39;49m\u001b[43mforce_all_finite\u001b[49m\u001b[43m,\u001b[49m\n\u001b[0;32m    972\u001b[0m \u001b[43m    \u001b[49m\u001b[43mensure_2d\u001b[49m\u001b[38;5;241;43m=\u001b[39;49m\u001b[43mensure_2d\u001b[49m\u001b[43m,\u001b[49m\n\u001b[0;32m    973\u001b[0m \u001b[43m    \u001b[49m\u001b[43mallow_nd\u001b[49m\u001b[38;5;241;43m=\u001b[39;49m\u001b[43mallow_nd\u001b[49m\u001b[43m,\u001b[49m\n\u001b[0;32m    974\u001b[0m \u001b[43m    \u001b[49m\u001b[43mensure_min_samples\u001b[49m\u001b[38;5;241;43m=\u001b[39;49m\u001b[43mensure_min_samples\u001b[49m\u001b[43m,\u001b[49m\n\u001b[0;32m    975\u001b[0m \u001b[43m    \u001b[49m\u001b[43mensure_min_features\u001b[49m\u001b[38;5;241;43m=\u001b[39;49m\u001b[43mensure_min_features\u001b[49m\u001b[43m,\u001b[49m\n\u001b[0;32m    976\u001b[0m \u001b[43m    \u001b[49m\u001b[43mestimator\u001b[49m\u001b[38;5;241;43m=\u001b[39;49m\u001b[43mestimator\u001b[49m\u001b[43m,\u001b[49m\n\u001b[0;32m    977\u001b[0m \u001b[43m\u001b[49m\u001b[43m)\u001b[49m\n\u001b[0;32m    979\u001b[0m y \u001b[38;5;241m=\u001b[39m _check_y(y, multi_output\u001b[38;5;241m=\u001b[39mmulti_output, y_numeric\u001b[38;5;241m=\u001b[39my_numeric)\n\u001b[0;32m    981\u001b[0m check_consistent_length(X, y)\n",
      "File \u001b[1;32m~\\anaconda3\\lib\\site-packages\\sklearn\\utils\\validation.py:746\u001b[0m, in \u001b[0;36mcheck_array\u001b[1;34m(array, accept_sparse, accept_large_sparse, dtype, order, copy, force_all_finite, ensure_2d, allow_nd, ensure_min_samples, ensure_min_features, estimator)\u001b[0m\n\u001b[0;32m    744\u001b[0m         array \u001b[38;5;241m=\u001b[39m array\u001b[38;5;241m.\u001b[39mastype(dtype, casting\u001b[38;5;241m=\u001b[39m\u001b[38;5;124m\"\u001b[39m\u001b[38;5;124munsafe\u001b[39m\u001b[38;5;124m\"\u001b[39m, copy\u001b[38;5;241m=\u001b[39m\u001b[38;5;28;01mFalse\u001b[39;00m)\n\u001b[0;32m    745\u001b[0m     \u001b[38;5;28;01melse\u001b[39;00m:\n\u001b[1;32m--> 746\u001b[0m         array \u001b[38;5;241m=\u001b[39m \u001b[43mnp\u001b[49m\u001b[38;5;241;43m.\u001b[39;49m\u001b[43masarray\u001b[49m\u001b[43m(\u001b[49m\u001b[43marray\u001b[49m\u001b[43m,\u001b[49m\u001b[43m \u001b[49m\u001b[43morder\u001b[49m\u001b[38;5;241;43m=\u001b[39;49m\u001b[43morder\u001b[49m\u001b[43m,\u001b[49m\u001b[43m \u001b[49m\u001b[43mdtype\u001b[49m\u001b[38;5;241;43m=\u001b[39;49m\u001b[43mdtype\u001b[49m\u001b[43m)\u001b[49m\n\u001b[0;32m    747\u001b[0m \u001b[38;5;28;01mexcept\u001b[39;00m ComplexWarning \u001b[38;5;28;01mas\u001b[39;00m complex_warning:\n\u001b[0;32m    748\u001b[0m     \u001b[38;5;28;01mraise\u001b[39;00m \u001b[38;5;167;01mValueError\u001b[39;00m(\n\u001b[0;32m    749\u001b[0m         \u001b[38;5;124m\"\u001b[39m\u001b[38;5;124mComplex data not supported\u001b[39m\u001b[38;5;130;01m\\n\u001b[39;00m\u001b[38;5;132;01m{}\u001b[39;00m\u001b[38;5;130;01m\\n\u001b[39;00m\u001b[38;5;124m\"\u001b[39m\u001b[38;5;241m.\u001b[39mformat(array)\n\u001b[0;32m    750\u001b[0m     ) \u001b[38;5;28;01mfrom\u001b[39;00m \u001b[38;5;21;01mcomplex_warning\u001b[39;00m\n",
      "File \u001b[1;32m~\\anaconda3\\lib\\site-packages\\pandas\\core\\generic.py:2064\u001b[0m, in \u001b[0;36mNDFrame.__array__\u001b[1;34m(self, dtype)\u001b[0m\n\u001b[0;32m   2063\u001b[0m \u001b[38;5;28;01mdef\u001b[39;00m \u001b[38;5;21m__array__\u001b[39m(\u001b[38;5;28mself\u001b[39m, dtype: npt\u001b[38;5;241m.\u001b[39mDTypeLike \u001b[38;5;241m|\u001b[39m \u001b[38;5;28;01mNone\u001b[39;00m \u001b[38;5;241m=\u001b[39m \u001b[38;5;28;01mNone\u001b[39;00m) \u001b[38;5;241m-\u001b[39m\u001b[38;5;241m>\u001b[39m np\u001b[38;5;241m.\u001b[39mndarray:\n\u001b[1;32m-> 2064\u001b[0m     \u001b[38;5;28;01mreturn\u001b[39;00m \u001b[43mnp\u001b[49m\u001b[38;5;241;43m.\u001b[39;49m\u001b[43masarray\u001b[49m\u001b[43m(\u001b[49m\u001b[38;5;28;43mself\u001b[39;49m\u001b[38;5;241;43m.\u001b[39;49m\u001b[43m_values\u001b[49m\u001b[43m,\u001b[49m\u001b[43m \u001b[49m\u001b[43mdtype\u001b[49m\u001b[38;5;241;43m=\u001b[39;49m\u001b[43mdtype\u001b[49m\u001b[43m)\u001b[49m\n",
      "\u001b[1;31mValueError\u001b[0m: could not convert string to float: 'Munich East'"
     ]
    }
   ],
   "source": [
    "# Fit Ridge regression model.\n",
    "rdg.fit(X_train, y_train['Battery_Rate_of_Heating'])"
   ]
  },
  {
   "cell_type": "code",
   "execution_count": null,
   "id": "02b8c8b1",
   "metadata": {
    "id": "02b8c8b1"
   },
   "outputs": [],
   "source": [
    "# Get score of the model.\n",
    "Ridge_score = get_model_score(rdg)"
   ]
  },
  {
   "cell_type": "markdown",
   "id": "9ba66f19",
   "metadata": {
    "id": "9ba66f19"
   },
   "source": [
    "**Observations**\n",
    "- Ridge regression is able to produce better results compared to Linear Regression."
   ]
  }
 ],
 "metadata": {
  "colab": {
   "provenance": []
  },
  "kernelspec": {
   "display_name": "Python 3 (ipykernel)",
   "language": "python",
   "name": "python3"
  },
  "language_info": {
   "codemirror_mode": {
    "name": "ipython",
    "version": 3
   },
   "file_extension": ".py",
   "mimetype": "text/x-python",
   "name": "python",
   "nbconvert_exporter": "python",
   "pygments_lexer": "ipython3",
   "version": "3.9.13"
  }
 },
 "nbformat": 4,
 "nbformat_minor": 5
}
